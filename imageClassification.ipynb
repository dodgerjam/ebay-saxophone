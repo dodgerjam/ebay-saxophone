{
 "metadata": {
  "language_info": {
   "codemirror_mode": {
    "name": "ipython",
    "version": 3
   },
   "file_extension": ".py",
   "mimetype": "text/x-python",
   "name": "python",
   "nbconvert_exporter": "python",
   "pygments_lexer": "ipython3",
   "version": "3.8.5-final"
  },
  "orig_nbformat": 2,
  "kernelspec": {
   "name": "python_defaultSpec_1599069732031",
   "display_name": "Python 3.8.5 64-bit ('saxenv': venv)"
  }
 },
 "nbformat": 4,
 "nbformat_minor": 2,
 "cells": [
  {
   "cell_type": "code",
   "execution_count": 1,
   "metadata": {},
   "outputs": [],
   "source": [
    "import dash\n",
    "import dash_core_components as dcc\n",
    "import dash_html_components as html\n",
    "from dash.dependencies import Input, Output, ALL, State, MATCH\n",
    "import plotly.express as px\n",
    "import plotly.graph_objects as go\n",
    "import pandas as pd\n",
    "import boto3\n",
    "import itemSpecificCleanUp as iscu\n",
    "import numpy as np\n",
    "import seaborn as sns\n",
    "import appGraphs as ag\n",
    "import ast\n",
    "\n",
    "\n",
    "s3 = boto3.client('s3')\n",
    "s3.list_objects(Bucket = 'ebayfindingdata', Prefix = 'shopping/')\n",
    "\n",
    "keys = [o['Key'] for o in s3.list_objects(Bucket = 'ebayfindingdata', Prefix = 'shopping')['Contents'] if '.csv' in o['Key']]\n",
    "desc_keys = [o['Key'] for o in s3.list_objects(Bucket = 'ebayfindingdata', Prefix = 'description')['Contents'] if '.csv' in o['Key']]\n",
    "\n",
    "df = pd.concat([pd.read_csv(s3.get_object(Bucket = 'ebayfindingdata', Key = k)['Body']) for k in keys])\n",
    "desc_df = pd.concat([pd.read_csv(s3.get_object(Bucket = 'ebayfindingdata', Key = k)['Body']) for k in desc_keys])\n",
    "\n",
    "df = df.join(desc_df.set_index('ItemID'), on = 'ItemID')\n",
    "\n",
    "df = df[~df['ItemID'].duplicated()]\n",
    "\n",
    "df.loc[~df['ItemSpecifics-Type'].isna(), 'ItemSpecifics-Type'] = df[~df['ItemSpecifics-Type'].isna()]['ItemSpecifics-Type'].apply(iscu.cleanUpType)\n",
    "df.loc[~df['ItemSpecifics-Brand'].isna(),'ItemSpecifics-Brand'] = df[~df['ItemSpecifics-Brand'].isna()]['ItemSpecifics-Brand'].apply(iscu.cleanUpBrand)\n",
    "df.loc[~df['ItemSpecifics-Skill Level'].isna(), 'ItemSpecifics-Skill Level'] = df[~df['ItemSpecifics-Skill Level'].isna()]['ItemSpecifics-Skill Level'].apply(iscu.cleanUpSkill)\n",
    "df['Condition'] = df['ConditionID'].apply(iscu.cleanUpCondition)\n",
    "\n",
    "\n",
    "df.loc[df['ItemSpecifics-Type'].isna(), 'ItemSpecifics-Type'] = df[df['ItemSpecifics-Type'].isna()]['Title'].apply(iscu.extractTypeFromTitle)\n",
    "df.loc[df['ItemSpecifics-Brand'].isna(),'ItemSpecifics-Brand'] = df[df['ItemSpecifics-Brand'].isna()]['Title'].apply(iscu.extractBrandFromTitle)\n",
    "\n",
    "df['Model'] = np.nan\n",
    "df.loc[df['ItemSpecifics-Brand']=='Selmer', 'Model'] = df.loc[df['ItemSpecifics-Brand']=='Selmer', 'Title'].apply(iscu.selmerModel)\n",
    "df.loc[df['ItemSpecifics-Brand']=='Yamaha', 'Model'] = df.loc[df['ItemSpecifics-Brand']=='Yamaha', 'Title'].apply(iscu.yamahaModel)\n",
    "df.loc[df['ItemSpecifics-Brand']=='Yanagisawa', 'Model'] = df.loc[df['ItemSpecifics-Brand']=='Yanagisawa', 'Title'].apply(iscu.yanagisawaModel)\n",
    "df.loc[~df['Model'].isna(), 'ItemSpecifics-Skill Level'] = iscu.extractSkillFromModel(df.loc[~df['Model'].isna()])\n"
   ]
  },
  {
   "cell_type": "code",
   "execution_count": 2,
   "metadata": {},
   "outputs": [
    {
     "output_type": "execute_result",
     "data": {
      "text/plain": "         ItemID                   EndTime  \\\n0  303116830074  2020-08-04T12:56:22.000Z   \n1  303635927434  2020-08-04T12:57:58.000Z   \n2  254668152053  2020-08-04T13:00:31.000Z   \n3  233663229380  2020-08-04T13:12:08.000Z   \n4  233663229383  2020-08-04T13:12:08.000Z   \n\n                         ViewItemURLForNaturalSearch     ListingType  \\\n0  https://www.ebay.com/itm/Jupiter-JAS-769GN-sax...  FixedPriceItem   \n1  https://www.ebay.com/itm/Vintage-Conn-Baritone...         Chinese   \n2  https://www.ebay.com/itm/LAMONTE-TENOR-SAXOPHO...         Chinese   \n3  https://www.ebay.com/itm/Used-saxophon-alto-Ya...         Chinese   \n4  https://www.ebay.com/itm/Used-saxophon-alto-Ya...         Chinese   \n\n                  Location                                         GalleryURL  \\\n0    Saint Louis, Missouri  https://thumbs3.ebaystatic.com/pict/3031168300...   \n1  Deep River, Connecticut  https://thumbs3.ebaystatic.com/pict/3036359274...   \n2      Trenton, New Jersey  https://thumbs2.ebaystatic.com/pict/2546681520...   \n3                     Bern  https://thumbs1.ebaystatic.com/pict/2336632293...   \n4                     Bern  https://thumbs4.ebaystatic.com/pict/2336632293...   \n\n                                          PictureURL  PrimaryCategoryID  \\\n0  ['https://i.ebayimg.com/00/s/MTM4MlgxMjk3/z/HU...              16231   \n1  ['https://i.ebayimg.com/00/s/MTA2NlgxNjAw/z/gl...              16231   \n2  ['https://i.ebayimg.com/00/s/MTYwMFgxMTk5/z/Yd...              16231   \n3  ['https://i.ebayimg.com/00/s/NzE5WDEwMjQ=/z/rj...              16231   \n4  ['https://i.ebayimg.com/00/s/NzE4WDEwMjQ=/z/WA...              16231   \n\n                                 PrimaryCategoryName  BidCount  ...  \\\n0  Musical Instruments & Gear:Wind & Woodwind:Ban...         0  ...   \n1  Musical Instruments & Gear:Wind & Woodwind:Ban...        35  ...   \n2  Musical Instruments & Gear:Wind & Woodwind:Ban...         0  ...   \n3  Musical Instruments & Gear:Wind & Woodwind:Ban...         0  ...   \n4  Musical Instruments & Gear:Wind & Woodwind:Ban...         0  ...   \n\n  ItemSpecifics-NameValueList-Value  \\\n0                               NaN   \n1                               NaN   \n2                               NaN   \n3                               NaN   \n4                               NaN   \n\n  DiscountPriceInfo-OriginalRetailPrice-_currencyID  \\\n0                                               NaN   \n1                                               NaN   \n2                                               NaN   \n3                                               NaN   \n4                                               NaN   \n\n  DiscountPriceInfo-OriginalRetailPrice-value  \\\n0                                         NaN   \n1                                         NaN   \n2                                         NaN   \n3                                         NaN   \n4                                         NaN   \n\n  DiscountPriceInfo-PricingTreatment  DiscountPriceInfo-SoldOneBay  \\\n0                                NaN                           NaN   \n1                                NaN                           NaN   \n2                                NaN                           NaN   \n3                                NaN                           NaN   \n4                                NaN                           NaN   \n\n   DiscountPriceInfo-SoldOffeBay Quantity  \\\n0                            NaN      NaN   \n1                            NaN      NaN   \n2                            NaN      NaN   \n3                            NaN      NaN   \n4                            NaN      NaN   \n\n                                         Description Condition  Model  \n0  very nice Jupiter Jas-769GN Saxophone Eb alto ...      Used    NaN  \n1  Fresh from a local estate, you are bidding on ...      Used    NaN  \n2  This is a Lamonte tenor sax. Made in Italy. Th...      Used    NaN  \n3  Present to you the Used saxophon alto Yamaha Y...      Used  YAS25  \n4  Present to you the Used saxophon alto Yamaha Y...      Used  YAS62  \n\n[5 rows x 48 columns]",
      "text/html": "<div>\n<style scoped>\n    .dataframe tbody tr th:only-of-type {\n        vertical-align: middle;\n    }\n\n    .dataframe tbody tr th {\n        vertical-align: top;\n    }\n\n    .dataframe thead th {\n        text-align: right;\n    }\n</style>\n<table border=\"1\" class=\"dataframe\">\n  <thead>\n    <tr style=\"text-align: right;\">\n      <th></th>\n      <th>ItemID</th>\n      <th>EndTime</th>\n      <th>ViewItemURLForNaturalSearch</th>\n      <th>ListingType</th>\n      <th>Location</th>\n      <th>GalleryURL</th>\n      <th>PictureURL</th>\n      <th>PrimaryCategoryID</th>\n      <th>PrimaryCategoryName</th>\n      <th>BidCount</th>\n      <th>...</th>\n      <th>ItemSpecifics-NameValueList-Value</th>\n      <th>DiscountPriceInfo-OriginalRetailPrice-_currencyID</th>\n      <th>DiscountPriceInfo-OriginalRetailPrice-value</th>\n      <th>DiscountPriceInfo-PricingTreatment</th>\n      <th>DiscountPriceInfo-SoldOneBay</th>\n      <th>DiscountPriceInfo-SoldOffeBay</th>\n      <th>Quantity</th>\n      <th>Description</th>\n      <th>Condition</th>\n      <th>Model</th>\n    </tr>\n  </thead>\n  <tbody>\n    <tr>\n      <th>0</th>\n      <td>303116830074</td>\n      <td>2020-08-04T12:56:22.000Z</td>\n      <td>https://www.ebay.com/itm/Jupiter-JAS-769GN-sax...</td>\n      <td>FixedPriceItem</td>\n      <td>Saint Louis, Missouri</td>\n      <td>https://thumbs3.ebaystatic.com/pict/3031168300...</td>\n      <td>['https://i.ebayimg.com/00/s/MTM4MlgxMjk3/z/HU...</td>\n      <td>16231</td>\n      <td>Musical Instruments &amp; Gear:Wind &amp; Woodwind:Ban...</td>\n      <td>0</td>\n      <td>...</td>\n      <td>NaN</td>\n      <td>NaN</td>\n      <td>NaN</td>\n      <td>NaN</td>\n      <td>NaN</td>\n      <td>NaN</td>\n      <td>NaN</td>\n      <td>very nice Jupiter Jas-769GN Saxophone Eb alto ...</td>\n      <td>Used</td>\n      <td>NaN</td>\n    </tr>\n    <tr>\n      <th>1</th>\n      <td>303635927434</td>\n      <td>2020-08-04T12:57:58.000Z</td>\n      <td>https://www.ebay.com/itm/Vintage-Conn-Baritone...</td>\n      <td>Chinese</td>\n      <td>Deep River, Connecticut</td>\n      <td>https://thumbs3.ebaystatic.com/pict/3036359274...</td>\n      <td>['https://i.ebayimg.com/00/s/MTA2NlgxNjAw/z/gl...</td>\n      <td>16231</td>\n      <td>Musical Instruments &amp; Gear:Wind &amp; Woodwind:Ban...</td>\n      <td>35</td>\n      <td>...</td>\n      <td>NaN</td>\n      <td>NaN</td>\n      <td>NaN</td>\n      <td>NaN</td>\n      <td>NaN</td>\n      <td>NaN</td>\n      <td>NaN</td>\n      <td>Fresh from a local estate, you are bidding on ...</td>\n      <td>Used</td>\n      <td>NaN</td>\n    </tr>\n    <tr>\n      <th>2</th>\n      <td>254668152053</td>\n      <td>2020-08-04T13:00:31.000Z</td>\n      <td>https://www.ebay.com/itm/LAMONTE-TENOR-SAXOPHO...</td>\n      <td>Chinese</td>\n      <td>Trenton, New Jersey</td>\n      <td>https://thumbs2.ebaystatic.com/pict/2546681520...</td>\n      <td>['https://i.ebayimg.com/00/s/MTYwMFgxMTk5/z/Yd...</td>\n      <td>16231</td>\n      <td>Musical Instruments &amp; Gear:Wind &amp; Woodwind:Ban...</td>\n      <td>0</td>\n      <td>...</td>\n      <td>NaN</td>\n      <td>NaN</td>\n      <td>NaN</td>\n      <td>NaN</td>\n      <td>NaN</td>\n      <td>NaN</td>\n      <td>NaN</td>\n      <td>This is a Lamonte tenor sax. Made in Italy. Th...</td>\n      <td>Used</td>\n      <td>NaN</td>\n    </tr>\n    <tr>\n      <th>3</th>\n      <td>233663229380</td>\n      <td>2020-08-04T13:12:08.000Z</td>\n      <td>https://www.ebay.com/itm/Used-saxophon-alto-Ya...</td>\n      <td>Chinese</td>\n      <td>Bern</td>\n      <td>https://thumbs1.ebaystatic.com/pict/2336632293...</td>\n      <td>['https://i.ebayimg.com/00/s/NzE5WDEwMjQ=/z/rj...</td>\n      <td>16231</td>\n      <td>Musical Instruments &amp; Gear:Wind &amp; Woodwind:Ban...</td>\n      <td>0</td>\n      <td>...</td>\n      <td>NaN</td>\n      <td>NaN</td>\n      <td>NaN</td>\n      <td>NaN</td>\n      <td>NaN</td>\n      <td>NaN</td>\n      <td>NaN</td>\n      <td>Present to you the Used saxophon alto Yamaha Y...</td>\n      <td>Used</td>\n      <td>YAS25</td>\n    </tr>\n    <tr>\n      <th>4</th>\n      <td>233663229383</td>\n      <td>2020-08-04T13:12:08.000Z</td>\n      <td>https://www.ebay.com/itm/Used-saxophon-alto-Ya...</td>\n      <td>Chinese</td>\n      <td>Bern</td>\n      <td>https://thumbs4.ebaystatic.com/pict/2336632293...</td>\n      <td>['https://i.ebayimg.com/00/s/NzE4WDEwMjQ=/z/WA...</td>\n      <td>16231</td>\n      <td>Musical Instruments &amp; Gear:Wind &amp; Woodwind:Ban...</td>\n      <td>0</td>\n      <td>...</td>\n      <td>NaN</td>\n      <td>NaN</td>\n      <td>NaN</td>\n      <td>NaN</td>\n      <td>NaN</td>\n      <td>NaN</td>\n      <td>NaN</td>\n      <td>Present to you the Used saxophon alto Yamaha Y...</td>\n      <td>Used</td>\n      <td>YAS62</td>\n    </tr>\n  </tbody>\n</table>\n<p>5 rows × 48 columns</p>\n</div>"
     },
     "metadata": {},
     "execution_count": 2
    }
   ],
   "source": [
    "df.head()"
   ]
  },
  {
   "cell_type": "code",
   "execution_count": null,
   "metadata": {},
   "outputs": [],
   "source": []
  }
 ]
}