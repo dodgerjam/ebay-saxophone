{
 "metadata": {
  "language_info": {
   "codemirror_mode": {
    "name": "ipython",
    "version": 3
   },
   "file_extension": ".py",
   "mimetype": "text/x-python",
   "name": "python",
   "nbconvert_exporter": "python",
   "pygments_lexer": "ipython3",
   "version": 3
  },
  "orig_nbformat": 2,
  "kernelspec": {
   "name": "python_defaultSpec_1597682532776",
   "display_name": "Python 3.7.8 64-bit ('saxenv': venv)"
  }
 },
 "nbformat": 4,
 "nbformat_minor": 2,
 "cells": [
  {
   "cell_type": "code",
   "execution_count": 1,
   "metadata": {},
   "outputs": [
    {
     "output_type": "execute_result",
     "data": {
      "text/plain": "['shopping/08-03-2020.csv',\n 'shopping/08-04-2020.csv',\n 'shopping/08-05-2020.csv',\n 'shopping/08-06-2020.csv',\n 'shopping/08-07-2020.csv',\n 'shopping/08-08-2020.csv',\n 'shopping/08-09-2020.csv',\n 'shopping/08-10-2020.csv',\n 'shopping/08-12-2020.csv',\n 'shopping/08-13-2020.csv',\n 'shopping/08-14-2020.csv',\n 'shopping/08-15-2020.csv',\n 'shopping/08-16-2020.csv']"
     },
     "metadata": {},
     "execution_count": 1
    }
   ],
   "source": [
    "import boto3\n",
    "\n",
    "s3.list_objects(Bucket = 'ebayfindingdata', Prefix = 'shopping/')\n",
    "\n",
    "keys = [o['Key'] for o in s3.list_objects(Bucket = 'ebayfindingdata', Prefix = 'shopping')['Contents'] if '.csv' in o['Key']]\n",
    "\n",
    "keys"
   ]
  },
  {
   "cell_type": "code",
   "execution_count": 31,
   "metadata": {},
   "outputs": [],
   "source": [
    "import pandas as pd\n",
    "df = pd.concat([pd.read_csv(s3.get_object(Bucket = 'ebayfindingdata', Key = k)['Body']) for k in keys]).reset_index(drop=True)"
   ]
  },
  {
   "cell_type": "code",
   "execution_count": 32,
   "metadata": {
    "tags": []
   },
   "outputs": [
    {
     "output_type": "execute_result",
     "data": {
      "text/plain": "         ItemID                   EndTime  \\\n0  303116830074  2020-08-04T12:56:22.000Z   \n1  303635927434  2020-08-04T12:57:58.000Z   \n2  254668152053  2020-08-04T13:00:31.000Z   \n3  233663229380  2020-08-04T13:12:08.000Z   \n4  233663229383  2020-08-04T13:12:08.000Z   \n\n                         ViewItemURLForNaturalSearch     ListingType  \\\n0  https://www.ebay.com/itm/Jupiter-JAS-769GN-sax...  FixedPriceItem   \n1  https://www.ebay.com/itm/Vintage-Conn-Baritone...         Chinese   \n2  https://www.ebay.com/itm/LAMONTE-TENOR-SAXOPHO...         Chinese   \n3  https://www.ebay.com/itm/Used-saxophon-alto-Ya...         Chinese   \n4  https://www.ebay.com/itm/Used-saxophon-alto-Ya...         Chinese   \n\n                  Location                                         GalleryURL  \\\n0    Saint Louis, Missouri  https://thumbs3.ebaystatic.com/pict/3031168300...   \n1  Deep River, Connecticut  https://thumbs3.ebaystatic.com/pict/3036359274...   \n2      Trenton, New Jersey  https://thumbs2.ebaystatic.com/pict/2546681520...   \n3                     Bern  https://thumbs1.ebaystatic.com/pict/2336632293...   \n4                     Bern  https://thumbs4.ebaystatic.com/pict/2336632293...   \n\n                                          PictureURL  PrimaryCategoryID  \\\n0  ['https://i.ebayimg.com/00/s/MTM4MlgxMjk3/z/HU...              16231   \n1  ['https://i.ebayimg.com/00/s/MTA2NlgxNjAw/z/gl...              16231   \n2  ['https://i.ebayimg.com/00/s/MTYwMFgxMTk5/z/Yd...              16231   \n3  ['https://i.ebayimg.com/00/s/NzE5WDEwMjQ=/z/rj...              16231   \n4  ['https://i.ebayimg.com/00/s/NzE4WDEwMjQ=/z/WA...              16231   \n\n                                 PrimaryCategoryName  BidCount  ...  \\\n0  Musical Instruments & Gear:Wind & Woodwind:Ban...         0  ...   \n1  Musical Instruments & Gear:Wind & Woodwind:Ban...        35  ...   \n2  Musical Instruments & Gear:Wind & Woodwind:Ban...         0  ...   \n3  Musical Instruments & Gear:Wind & Woodwind:Ban...         0  ...   \n4  Musical Instruments & Gear:Wind & Woodwind:Ban...         0  ...   \n\n  ConvertedBuyItNowPrice-_currencyID ConvertedBuyItNowPrice-value  \\\n0                                NaN                          NaN   \n1                                NaN                          NaN   \n2                                NaN                          NaN   \n3                                NaN                          NaN   \n4                                NaN                          NaN   \n\n  ItemSpecifics-NameValueList-Name ItemSpecifics-NameValueList-Value  \\\n0                              NaN                               NaN   \n1                              NaN                               NaN   \n2                              NaN                               NaN   \n3                              NaN                               NaN   \n4                              NaN                               NaN   \n\n   DiscountPriceInfo-OriginalRetailPrice-_currencyID  \\\n0                                                NaN   \n1                                                NaN   \n2                                                NaN   \n3                                                NaN   \n4                                                NaN   \n\n   DiscountPriceInfo-OriginalRetailPrice-value  \\\n0                                          NaN   \n1                                          NaN   \n2                                          NaN   \n3                                          NaN   \n4                                          NaN   \n\n  DiscountPriceInfo-PricingTreatment DiscountPriceInfo-SoldOneBay  \\\n0                                NaN                          NaN   \n1                                NaN                          NaN   \n2                                NaN                          NaN   \n3                                NaN                          NaN   \n4                                NaN                          NaN   \n\n  DiscountPriceInfo-SoldOffeBay Quantity  \n0                           NaN      NaN  \n1                           NaN      NaN  \n2                           NaN      NaN  \n3                           NaN      NaN  \n4                           NaN      NaN  \n\n[5 rows x 45 columns]",
      "text/html": "<div>\n<style scoped>\n    .dataframe tbody tr th:only-of-type {\n        vertical-align: middle;\n    }\n\n    .dataframe tbody tr th {\n        vertical-align: top;\n    }\n\n    .dataframe thead th {\n        text-align: right;\n    }\n</style>\n<table border=\"1\" class=\"dataframe\">\n  <thead>\n    <tr style=\"text-align: right;\">\n      <th></th>\n      <th>ItemID</th>\n      <th>EndTime</th>\n      <th>ViewItemURLForNaturalSearch</th>\n      <th>ListingType</th>\n      <th>Location</th>\n      <th>GalleryURL</th>\n      <th>PictureURL</th>\n      <th>PrimaryCategoryID</th>\n      <th>PrimaryCategoryName</th>\n      <th>BidCount</th>\n      <th>...</th>\n      <th>ConvertedBuyItNowPrice-_currencyID</th>\n      <th>ConvertedBuyItNowPrice-value</th>\n      <th>ItemSpecifics-NameValueList-Name</th>\n      <th>ItemSpecifics-NameValueList-Value</th>\n      <th>DiscountPriceInfo-OriginalRetailPrice-_currencyID</th>\n      <th>DiscountPriceInfo-OriginalRetailPrice-value</th>\n      <th>DiscountPriceInfo-PricingTreatment</th>\n      <th>DiscountPriceInfo-SoldOneBay</th>\n      <th>DiscountPriceInfo-SoldOffeBay</th>\n      <th>Quantity</th>\n    </tr>\n  </thead>\n  <tbody>\n    <tr>\n      <th>0</th>\n      <td>303116830074</td>\n      <td>2020-08-04T12:56:22.000Z</td>\n      <td>https://www.ebay.com/itm/Jupiter-JAS-769GN-sax...</td>\n      <td>FixedPriceItem</td>\n      <td>Saint Louis, Missouri</td>\n      <td>https://thumbs3.ebaystatic.com/pict/3031168300...</td>\n      <td>['https://i.ebayimg.com/00/s/MTM4MlgxMjk3/z/HU...</td>\n      <td>16231</td>\n      <td>Musical Instruments &amp; Gear:Wind &amp; Woodwind:Ban...</td>\n      <td>0</td>\n      <td>...</td>\n      <td>NaN</td>\n      <td>NaN</td>\n      <td>NaN</td>\n      <td>NaN</td>\n      <td>NaN</td>\n      <td>NaN</td>\n      <td>NaN</td>\n      <td>NaN</td>\n      <td>NaN</td>\n      <td>NaN</td>\n    </tr>\n    <tr>\n      <th>1</th>\n      <td>303635927434</td>\n      <td>2020-08-04T12:57:58.000Z</td>\n      <td>https://www.ebay.com/itm/Vintage-Conn-Baritone...</td>\n      <td>Chinese</td>\n      <td>Deep River, Connecticut</td>\n      <td>https://thumbs3.ebaystatic.com/pict/3036359274...</td>\n      <td>['https://i.ebayimg.com/00/s/MTA2NlgxNjAw/z/gl...</td>\n      <td>16231</td>\n      <td>Musical Instruments &amp; Gear:Wind &amp; Woodwind:Ban...</td>\n      <td>35</td>\n      <td>...</td>\n      <td>NaN</td>\n      <td>NaN</td>\n      <td>NaN</td>\n      <td>NaN</td>\n      <td>NaN</td>\n      <td>NaN</td>\n      <td>NaN</td>\n      <td>NaN</td>\n      <td>NaN</td>\n      <td>NaN</td>\n    </tr>\n    <tr>\n      <th>2</th>\n      <td>254668152053</td>\n      <td>2020-08-04T13:00:31.000Z</td>\n      <td>https://www.ebay.com/itm/LAMONTE-TENOR-SAXOPHO...</td>\n      <td>Chinese</td>\n      <td>Trenton, New Jersey</td>\n      <td>https://thumbs2.ebaystatic.com/pict/2546681520...</td>\n      <td>['https://i.ebayimg.com/00/s/MTYwMFgxMTk5/z/Yd...</td>\n      <td>16231</td>\n      <td>Musical Instruments &amp; Gear:Wind &amp; Woodwind:Ban...</td>\n      <td>0</td>\n      <td>...</td>\n      <td>NaN</td>\n      <td>NaN</td>\n      <td>NaN</td>\n      <td>NaN</td>\n      <td>NaN</td>\n      <td>NaN</td>\n      <td>NaN</td>\n      <td>NaN</td>\n      <td>NaN</td>\n      <td>NaN</td>\n    </tr>\n    <tr>\n      <th>3</th>\n      <td>233663229380</td>\n      <td>2020-08-04T13:12:08.000Z</td>\n      <td>https://www.ebay.com/itm/Used-saxophon-alto-Ya...</td>\n      <td>Chinese</td>\n      <td>Bern</td>\n      <td>https://thumbs1.ebaystatic.com/pict/2336632293...</td>\n      <td>['https://i.ebayimg.com/00/s/NzE5WDEwMjQ=/z/rj...</td>\n      <td>16231</td>\n      <td>Musical Instruments &amp; Gear:Wind &amp; Woodwind:Ban...</td>\n      <td>0</td>\n      <td>...</td>\n      <td>NaN</td>\n      <td>NaN</td>\n      <td>NaN</td>\n      <td>NaN</td>\n      <td>NaN</td>\n      <td>NaN</td>\n      <td>NaN</td>\n      <td>NaN</td>\n      <td>NaN</td>\n      <td>NaN</td>\n    </tr>\n    <tr>\n      <th>4</th>\n      <td>233663229383</td>\n      <td>2020-08-04T13:12:08.000Z</td>\n      <td>https://www.ebay.com/itm/Used-saxophon-alto-Ya...</td>\n      <td>Chinese</td>\n      <td>Bern</td>\n      <td>https://thumbs4.ebaystatic.com/pict/2336632293...</td>\n      <td>['https://i.ebayimg.com/00/s/NzE4WDEwMjQ=/z/WA...</td>\n      <td>16231</td>\n      <td>Musical Instruments &amp; Gear:Wind &amp; Woodwind:Ban...</td>\n      <td>0</td>\n      <td>...</td>\n      <td>NaN</td>\n      <td>NaN</td>\n      <td>NaN</td>\n      <td>NaN</td>\n      <td>NaN</td>\n      <td>NaN</td>\n      <td>NaN</td>\n      <td>NaN</td>\n      <td>NaN</td>\n      <td>NaN</td>\n    </tr>\n  </tbody>\n</table>\n<p>5 rows × 45 columns</p>\n</div>"
     },
     "metadata": {},
     "execution_count": 32
    }
   ],
   "source": [
    "import itemSpecificCleanUp as iscu \n",
    "\n",
    "df.loc[~df['ItemSpecifics-Type'].isna(), 'ItemSpecifics-Type'] = df[~df['ItemSpecifics-Type'].isna()]['ItemSpecifics-Type'].apply(iscu.cleanUpType)\n",
    "df.loc[~df['ItemSpecifics-Brand'].isna(),'ItemSpecifics-Brand'] = df[~df['ItemSpecifics-Brand'].isna()]['ItemSpecifics-Brand'].apply(iscu.cleanUpBrand)\n",
    "df.loc[~df['ItemSpecifics-Skill Level'].isna(), 'ItemSpecifics-Skill Level'] = df[~df['ItemSpecifics-Skill Level'].isna()]['ItemSpecifics-Skill Level'].apply(iscu.cleanUpSkill)\n",
    "\n",
    "df.loc[df['ItemSpecifics-Type'].isna(), 'ItemSpecifics-Type'] = df[df['ItemSpecifics-Type'].isna()]['Title'].apply(iscu.extractTypeFromTitle)\n",
    "df.loc[df['ItemSpecifics-Brand'].isna(),'ItemSpecifics-Brand'] = df[df['ItemSpecifics-Brand'].isna()]['Title'].apply(iscu.extractBrandFromTitle)\n",
    "\n",
    "df.head()"
   ]
  },
  {
   "cell_type": "code",
   "execution_count": 8,
   "metadata": {},
   "outputs": [],
   "source": [
    "\n",
    "df['EndTime'] = pd.to_datetime(df['EndTime'])"
   ]
  },
  {
   "cell_type": "code",
   "execution_count": 84,
   "metadata": {},
   "outputs": [],
   "source": [
    "import plotly.graph_objects as go\n",
    "import plotly.express as px\n",
    "\n",
    "\n",
    "def typePieFig():\n",
    "    colors = ['gold', 'mediumturquoise', 'darkorange', 'lightgreen']\n",
    "\n",
    "    fig = go.Figure(data=[go.Pie(labels=df['ItemSpecifics-Type'].value_counts().index, \n",
    "    values = df['ItemSpecifics-Type'].value_counts().values,\n",
    "    hole=.3,\n",
    "    )])\n",
    "    fig.update_traces(hoverinfo='label+percent', textinfo='value', textfont_size=20,\n",
    "                    marker=dict(colors=colors, line=dict(color='#000000', width=2)))\n",
    "    return fig"
   ]
  },
  {
   "cell_type": "code",
   "execution_count": 159,
   "metadata": {},
   "outputs": [],
   "source": [
    "def sunburstFig():\n",
    "    df1 = df.groupby(['ItemSpecifics-Brand','ItemSpecifics-Type'])['ConvertedCurrentPrice-value'].median().reset_index()\n",
    "    df1['Count'] = df.groupby(['ItemSpecifics-Brand','ItemSpecifics-Type']).size().values\n",
    "    fig = px.sunburst(df1, \n",
    "    path=['ItemSpecifics-Brand', 'ItemSpecifics-Type'], \n",
    "    values='Count',\n",
    "    color = 'ConvertedCurrentPrice-value',\n",
    "    color_continuous_scale='RdBu')\n",
    "    return fig"
   ]
  },
  {
   "cell_type": "code",
   "execution_count": 168,
   "metadata": {},
   "outputs": [],
   "source": [
    "def choroplethFig():\n",
    "    fig = go.Figure(data = go.Choropleth(\n",
    "        locations = df['ItemSpecifics-Country/Region of Manufacture'].value_counts().index,\n",
    "        z =  df['ItemSpecifics-Country/Region of Manufacture'].value_counts().values,\n",
    "        colorscale = 'purp',\n",
    "        #colorbar = {'tickvals':[0,2,4,6,8,10],'ticktext':[\"0\", \"2\", \"4\", \"6\", \"8\", \"10+\"]},\n",
    "        #colorscale = [\"rgb(230,230,230)\", \"rgb(115, 89, 164)\"],\n",
    "        #zmin = 0,\n",
    "        #zmax = 10,\n",
    "        # hoverinfo = 'skip',\n",
    "        # autocolorscale=False,\n",
    "        locationmode = 'country names',\n",
    "        marker_line_width = 0.4,\n",
    "    ))\n",
    "    return fig\n"
   ]
  },
  {
   "cell_type": "code",
   "execution_count": 193,
   "metadata": {},
   "outputs": [],
   "source": [
    "import numpy as np\n",
    "\n",
    "df[\"ConvertedCurrentPrice-value(LOG)\"] = df[\"ConvertedCurrentPrice-value\"].apply(np.log10)\n",
    "fig = go.Figure()\n",
    "df\n",
    "fig = px.histogram(df[~df[\"ItemSpecifics-Type\"].isna()], \n",
    "x=\"ConvertedCurrentPrice-value(LOG)\",\n",
    "color=\"ItemSpecifics-Type\")\n",
    "fig.update_traces(opacity=0.75)\n",
    "fig.update_xaxes(\n",
    "    title=\"Cost\",\n",
    "    tickvals=[np.log10(x) for x in (100,500,1000, 5000, 10000)],\n",
    "    ticktext=[\"$100\", \"$500\", \"$1k\", \"$5k\", \"$10k\"],\n",
    ")\n",
    "\n"
   ]
  },
  {
   "cell_type": "code",
   "execution_count": 235,
   "metadata": {},
   "outputs": [],
   "source": [
    "order = df['ItemSpecifics-Type'].value_counts().index.values\n",
    "df.groupby(\"ItemSpecifics-Type\")[\"ConvertedCurrentPrice-value(LOG)\"].apply(list).loc[order]\n",
    "\n",
    "data = df.groupby(\"ItemSpecifics-Type\")[\"ConvertedCurrentPrice-value(LOG)\"].apply(list).loc[order].values\n",
    "types = order\n",
    "colors = sns.color_palette(\"Purples\", len(df['ItemSpecifics-Type'].value_counts().values)).as_hex()[::-1]\n",
    "fig = go.Figure()\n",
    "for data_line, color, sax in zip(data, colors, types):\n",
    "    fig.add_trace(go.Violin(x=data_line, line_color=color, name = sax))\n",
    "fig.update_traces(orientation='h', side='positive', width=3, points=False)\n",
    "fig.update_layout(xaxis_showgrid=False, xaxis_zeroline=False)\n",
    "fig.update_layout(plot_bgcolor='#7b7d8d')\n",
    "fig.update_xaxes(\n",
    "        title=\"Price\",\n",
    "        tickvals=[np.log10(x) for x in (100,500,1000, 5000, 10000)],\n",
    "        ticktext=[\"$100\", \"$500\", \"$1k\", \"$5k\", \"$10k\"],\n",
    "    )\n",
    "fig.update_layout(title = 'Distribution of Price for Sax Types',\n",
    ")\n",
    "fig.write_html('price-histogram.html')"
   ]
  },
  {
   "cell_type": "code",
   "execution_count": 236,
   "metadata": {
    "tags": []
   },
   "outputs": [
    {
     "output_type": "execute_result",
     "data": {
      "text/plain": "'001'"
     },
     "metadata": {},
     "execution_count": 236
    }
   ],
   "source": []
  },
  {
   "cell_type": "code",
   "execution_count": 1,
   "metadata": {},
   "outputs": [],
   "source": [
    "import boto3\n",
    "import pandas as pd\n",
    "\n",
    "s3 = boto3.client('s3')\n",
    "s3.list_objects(Bucket = 'ebayfindingdata', Prefix = 'shopping/')\n",
    "\n",
    "keys = [o['Key'] for o in s3.list_objects(Bucket = 'ebayfindingdata', Prefix = 'shopping')['Contents'] if '.csv' in o['Key']]\n",
    "\n",
    "df = pd.concat([pd.read_csv(s3.get_object(Bucket = 'ebayfindingdata', Key = k)['Body']) for k in keys])"
   ]
  },
  {
   "cell_type": "code",
   "execution_count": 2,
   "metadata": {},
   "outputs": [],
   "source": [
    "keys = [o['Key'] for o in s3.list_objects(Bucket = 'ebayfindingdata', Prefix = 'description')['Contents'] if '.csv' in o['Key']]\n",
    "\n",
    "df1 = pd.concat([pd.read_csv(s3.get_object(Bucket = 'ebayfindingdata', Key = k)['Body']) for k in keys])"
   ]
  },
  {
   "cell_type": "code",
   "execution_count": 3,
   "metadata": {},
   "outputs": [],
   "source": [
    "df = df.drop_duplicates(subset='ItemID', keep='last')\n",
    "\n",
    "df = df.set_index('ItemID').join(df1.set_index('ItemID'))\n",
    "\n"
   ]
  },
  {
   "cell_type": "code",
   "execution_count": 4,
   "metadata": {},
   "outputs": [
    {
     "output_type": "execute_result",
     "data": {
      "text/plain": "EndTime                                                 0\nViewItemURLForNaturalSearch                             0\nListingType                                             0\nLocation                                                0\nGalleryURL                                             69\nPictureURL                                              2\nPrimaryCategoryID                                       0\nPrimaryCategoryName                                     0\nBidCount                                                0\nListingStatus                                           0\nTimeLeft                                                0\nTitle                                                   0\nCountry                                                 0\nAutoPay                                                 0\nConditionID                                            15\nConditionDisplayName                                   15\nGlobalShipping                                       3986\nConditionDescription                                 3782\nConvertedCurrentPrice-_currencyID                       0\nConvertedCurrentPrice-value                             0\nItemSpecifics                                         201\nItemSpecifics-Brand                                   297\nItemSpecifics-Type                                   1334\nItemSpecifics-Skill Level                            2369\nItemSpecifics-Body Finish                            2575\nItemSpecifics-Body Material                          2690\nItemSpecifics-Key Finish                             3255\nItemSpecifics-Custom Bundle                          4356\nItemSpecifics-Modified Item                          4355\nItemSpecifics-Modified Description                   4745\nItemSpecifics-Country/Region of Manufacture          3004\nQuantityAvailableHint                                4447\nQuantityThreshold                                    4452\nBuyItNowAvailable                                    4621\nConvertedBuyItNowPrice-_currencyID                   4621\nConvertedBuyItNowPrice-value                         4621\nItemSpecifics-NameValueList-Name                     4612\nItemSpecifics-NameValueList-Value                    4612\nDiscountPriceInfo-OriginalRetailPrice-_currencyID    4597\nDiscountPriceInfo-OriginalRetailPrice-value          4597\nDiscountPriceInfo-PricingTreatment                   4593\nDiscountPriceInfo-SoldOneBay                         4597\nDiscountPriceInfo-SoldOffeBay                        4597\nQuantity                                             4743\nDescription                                           599\ndtype: int64"
     },
     "metadata": {},
     "execution_count": 4
    }
   ],
   "source": [
    "df.isna().sum()"
   ]
  },
  {
   "cell_type": "code",
   "execution_count": 5,
   "metadata": {},
   "outputs": [],
   "source": [
    "specifics = pd.read_csv('SaxophoneSpecifics.csv', \n",
    "delimiter = '\\t', \n",
    "error_bad_lines=False, \n",
    "warn_bad_lines=False).groupby('Name')['Value'].unique()\n",
    "\n",
    "mouthpieces = ['Berg Larsen', 'Otto Link', 'Schreiber', 'Vandoren']\n",
    "\n"
   ]
  },
  {
   "cell_type": "code",
   "execution_count": 6,
   "metadata": {
    "tags": []
   },
   "outputs": [
    {
     "output_type": "stream",
     "name": "stdout",
     "text": "297\n297\n209\n"
    }
   ],
   "source": [
    "import numpy as np\n",
    "sax_brands = ['P. Mauriat', 'Dakota', 'Antigua', 'Buescher', 'Vito', 'Amati', 'Armstrong', 'B&S', 'Berg Larsen', 'Boosey & Co', 'Buescher','Buffet', 'Buffet Crampon', 'Bundy', 'Cannonball', 'Conn', 'Elkhart', 'Gemeinhardt', 'Jupiter', 'Keilwerth', 'King', 'Martin', 'Odyssey', 'Selmer', 'Trevor James', 'Yamaha', 'Yanagisawa', 'Unbranded', 'Jean Baptiste']\n",
    "\n",
    "def cleanUpBrand(brand):\n",
    "    if brand != brand:\n",
    "        return np.nan\n",
    "    if brand.title() in sax_brands:\n",
    "        return brand.title()\n",
    "    brand = brand.title()\n",
    "\n",
    "    intersect = set(brand.split(\" \")).intersection(sax_brands)\n",
    "    if len(intersect) == 1:\n",
    "        # print(f'Mapping \"{brand}\" to \"{list(intersect)[0]}\"')\n",
    "        return list(intersect)[0]\n",
    "    if 'Conn' in brand:\n",
    "        # print(f'Mapping \"{brand}\" to \"Conn\"')\n",
    "        return 'Conn'\n",
    "    if 'unbranded' in brand.lower():\n",
    "        # print(f'Mapping \"{brand}\" to \"Unbranded\"')\n",
    "        return 'Other'\n",
    "    if 'selmer' in brand.lower():\n",
    "        return 'Selmer'\n",
    "    else:\n",
    "        return 'Other'\n",
    "\n",
    "def extractBrandFromTitle(title):\n",
    "\n",
    "    possible_values = [x for x in sax_brands if x in title.title()]\n",
    "\n",
    "    if len(possible_values) == 1:\n",
    "        return possible_values[0]\n",
    "    if len(possible_values) > 1:\n",
    "        # Remove Issues Like Selmer Bundy, Buffet Crampon and Conn Elkhart\n",
    "        possible_values = [x for x in possible_values if x not in ['Buffet', 'Selmer', 'Conn']]\n",
    "        if len(possible_values) == 1:\n",
    "            return possible_values[0]\n",
    "\n",
    "    return np.nan\n",
    "\n",
    "print(df['ItemSpecifics-Brand'].isna().sum())\n",
    "\n",
    "df['ItemSpecifics-Brand'] = df['ItemSpecifics-Brand'].apply(cleanUpBrand)\n",
    "\n",
    "print(df['ItemSpecifics-Brand'].isna().sum())\n",
    "\n",
    "df.loc[df['ItemSpecifics-Brand'].isna(), 'ItemSpecifics-Brand'] = df[df['ItemSpecifics-Brand'].isna()]['Title'].apply(extractBrandFromTitle)\n",
    "\n",
    "print(df['ItemSpecifics-Brand'].isna().sum())"
   ]
  },
  {
   "cell_type": "code",
   "execution_count": 7,
   "metadata": {
    "tags": []
   },
   "outputs": [],
   "source": [
    "import itemSpecificCleanUp  as iscu\n",
    "\n",
    "df.loc[~df['ItemSpecifics-Type'].isna(), 'ItemSpecifics-Type'] = df[~df['ItemSpecifics-Type'].isna()]['ItemSpecifics-Type'].apply(iscu.cleanUpType)\n",
    "df.loc[df['ItemSpecifics-Type'].isna(), 'ItemSpecifics-Type'] = df[df['ItemSpecifics-Type'].isna()]['Title'].apply(iscu.extractTypeFromTitle)\n",
    "\n"
   ]
  },
  {
   "cell_type": "code",
   "execution_count": 8,
   "metadata": {
    "tags": []
   },
   "outputs": [
    {
     "output_type": "stream",
     "name": "stdout",
     "text": "0.33553719008264465\n0.1559633027522936\n"
    }
   ],
   "source": [
    "from bs4 import BeautifulSoup\n",
    "\n",
    "df1 = df[df['ItemSpecifics-Brand']=='Selmer']\n",
    "df1['Model'] = df1['Title'].apply(iscu.selmerModel)\n",
    "print(df1['Model'].isna().mean())\n",
    "\n",
    "df1 = df[df['ItemSpecifics-Brand']=='Yamaha']\n",
    "df1['Model'] = df1['Title'].apply(iscu.yamahaModel)\n",
    "print(df1['Model'].isna().mean())\n"
   ]
  },
  {
   "cell_type": "code",
   "execution_count": 9,
   "metadata": {
    "tags": []
   },
   "outputs": [],
   "source": [
    "\n",
    "s3 = boto3.client('s3')\n",
    "s3.list_objects(Bucket = 'ebayfindingdata', Prefix = 'shopping/')\n",
    "\n",
    "keys = [o['Key'] for o in s3.list_objects(Bucket = 'ebayfindingdata', Prefix = 'shopping')['Contents'] if '.csv' in o['Key']]\n",
    "\n",
    "df = pd.concat([pd.read_csv(s3.get_object(Bucket = 'ebayfindingdata', Key = k)['Body']) for k in keys])\n",
    "\n",
    "df.loc[~df['ItemSpecifics-Type'].isna(), 'ItemSpecifics-Type'] = df[~df['ItemSpecifics-Type'].isna()]['ItemSpecifics-Type'].apply(iscu.cleanUpType)\n",
    "df.loc[~df['ItemSpecifics-Brand'].isna(),'ItemSpecifics-Brand'] = df[~df['ItemSpecifics-Brand'].isna()]['ItemSpecifics-Brand'].apply(iscu.cleanUpBrand)\n",
    "df.loc[~df['ItemSpecifics-Skill Level'].isna(), 'ItemSpecifics-Skill Level'] = df[~df['ItemSpecifics-Skill Level'].isna()]['ItemSpecifics-Skill Level'].apply(iscu.cleanUpSkill)\n",
    "\n",
    "df.loc[df['ItemSpecifics-Type'].isna(), 'ItemSpecifics-Type'] = df[df['ItemSpecifics-Type'].isna()]['Title'].apply(iscu.extractTypeFromTitle)\n",
    "df.loc[df['ItemSpecifics-Brand'].isna(),'ItemSpecifics-Brand'] = df[df['ItemSpecifics-Brand'].isna()]['Title'].apply(iscu.extractBrandFromTitle)\n",
    "\n",
    "df['Model'] = np.nan\n",
    "df.loc[df['ItemSpecifics-Brand']=='Selmer', 'Model'] = df.loc[df['ItemSpecifics-Brand']=='Selmer', 'Title'].apply(iscu.selmerModel)\n",
    "df.loc[df['ItemSpecifics-Brand']=='Yamaha', 'Model'] = df.loc[df['ItemSpecifics-Brand']=='Yamaha', 'Title'].apply(iscu.yamahaModel)\n",
    "df.loc[df['ItemSpecifics-Brand']=='Yanagisawa', 'Model'] = df.loc[df['ItemSpecifics-Brand']=='Yanagisawa', 'Title'].apply(iscu.yanagisawaModel)\n",
    "\n",
    "available_indicators = ['ItemSpecifics-Type', 'ItemSpecifics-Brand', 'ItemSpecifics-Skill Level', 'ConditionDisplayName']"
   ]
  },
  {
   "cell_type": "code",
   "execution_count": 10,
   "metadata": {
    "tags": []
   },
   "outputs": [],
   "source": [
    "import plotly.express as px\n",
    "import plotly.graph_objects as go\n",
    "\n",
    "\n",
    "\n",
    "def sunburstFig(df, parent_hierarchy, color_val = 'ConvertedCurrentPrice-value'):\n",
    "    # df1 = df.groupby(['ItemSpecifics-Brand','ItemSpecifics-Type', 'Model'])['ConvertedCurrentPrice-value'].median().reset_index()\n",
    "    \n",
    "    values = []\n",
    "    ids = []\n",
    "    labels = []\n",
    "    parents = []\n",
    "    color = []\n",
    "\n",
    "    for i in range(len(parent_hierarchy) , 0, -1):\n",
    "\n",
    "        df1 = df.groupby(parent_hierarchy[:i])[color_val].median().reset_index()\n",
    "        df1['Count'] = df.groupby(parent_hierarchy[:i]).size().values\n",
    "\n",
    "        values += df1['Count'].values.tolist()\n",
    "        ids += df1.apply(lambda x: ' - '.join([str(x[col]) for col in parent_hierarchy[:i]]), axis=1).values.tolist()\n",
    "        labels += df1[parent_hierarchy[i-1]].values.tolist()\n",
    "        parents += df1.apply(lambda x: ' - '.join([str(x[col]) for col in parent_hierarchy[:i-1]]), axis=1).values.tolist()\n",
    "        color += df1['ConvertedCurrentPrice-value'].values.tolist()\n",
    "\n",
    "    fig = go.Figure(data = go.Sunburst(\n",
    "    ids = ids,\n",
    "    values = values,\n",
    "    parents = parents,\n",
    "    labels = labels,\n",
    "    branchvalues=\"total\",\n",
    "    # color = color\n",
    "    marker = dict(\n",
    "        # colors = color,\n",
    "        # colorscale = 'Purp'\n",
    "    )\n",
    "    \n",
    "    ))\n",
    "    fig.update_layout(coloraxis_colorbar=dict(\n",
    "        title=\"Price\",),\n",
    "        title = \"Brand, Type, Price Sunburst Chart\"\n",
    "    )\n",
    "\n",
    "    return fig\n",
    "\n",
    "parent_hierarchy = ['ItemSpecifics-Brand','ItemSpecifics-Type']\n",
    "\n",
    "fig = sunburstFig(df, parent_hierarchy)\n",
    "\n",
    "fig.write_html('brand-type-sunburst.html')"
   ]
  },
  {
   "cell_type": "code",
   "execution_count": 11,
   "metadata": {},
   "outputs": [
    {
     "output_type": "execute_result",
     "data": {
      "text/plain": "0.12260536398467432"
     },
     "metadata": {},
     "execution_count": 11
    }
   ],
   "source": [
    "df[df['ItemSpecifics-Type'].isna()]['Title']\n",
    "df['ItemSpecifics-Type'].isna().mean()"
   ]
  },
  {
   "cell_type": "code",
   "execution_count": 12,
   "metadata": {
    "tags": []
   },
   "outputs": [],
   "source": [
    "s3.list_objects(Bucket = 'ebayfindingdata', Prefix = 'description/')\n",
    "description_keys = [o['Key'] for o in s3.list_objects(Bucket = 'ebayfindingdata', Prefix = 'description')['Contents'] if '.csv' in o['Key']]\n",
    "df_desc = pd.concat([pd.read_csv(s3.get_object(Bucket = 'ebayfindingdata', Key = k)['Body']) for k in description_keys])\n",
    "df = df[~df['ItemID'].duplicated()].set_index('ItemID').join(df_desc[~df_desc['ItemID'].duplicated()].set_index('ItemID'))\n"
   ]
  },
  {
   "cell_type": "code",
   "execution_count": 12,
   "metadata": {},
   "outputs": [],
   "source": [
    "\n",
    "\n"
   ]
  },
  {
   "cell_type": "code",
   "execution_count": 13,
   "metadata": {},
   "outputs": [
    {
     "output_type": "execute_result",
     "data": {
      "text/plain": "array(['Professional Eb Baritone Saxophone gold body Low A +case Material: high grade yellow BrassSurface: Gold surface，Tone: EbLow A key,High F key,high pitch F#,Front F#Free professional CaseFree MouthpieceFree ReedsFree necksFree Cleaning cloth,Great material, first-class workmanship. Great tone We will reply to your enquiries as immediately as possible. However, please note that we have 12-16 hours time difference with Western Europe and a 8 hours time difference with U.S.A. Therefore, we promise that we will do our best to answer your emails within 24 hours. I ship the item by Economy shipping , you can use the track number I provide to you, to watch the process of shiping. Normally, it will take 10-30 working days for you to get the item. INTERNATIONAL BUYERS - PLEASE NOTE: In order to smooth the rapid delivery of your goods, we hope you can provide a phone number.'],\n      dtype=object)"
     },
     "metadata": {},
     "execution_count": 13
    }
   ],
   "source": [
    "df['Description'].sample(1).values"
   ]
  },
  {
   "cell_type": "code",
   "execution_count": 14,
   "metadata": {},
   "outputs": [
    {
     "output_type": "execute_result",
     "data": {
      "text/plain": "3000.0    1938\n1000.0    1832\n1500.0     183\n2500.0     133\n7000.0     111\n2000.0       7\n5000.0       4\n4000.0       2\n2750.0       1\nName: ConditionID, dtype: int64"
     },
     "metadata": {},
     "execution_count": 14
    }
   ],
   "source": [
    "df['ConditionID'].value_counts()"
   ]
  },
  {
   "cell_type": "code",
   "execution_count": 15,
   "metadata": {},
   "outputs": [
    {
     "output_type": "execute_result",
     "data": {
      "text/plain": "'1.14.0'"
     },
     "metadata": {},
     "execution_count": 15
    }
   ],
   "source": [
    "import dash\n",
    "\n",
    "dash.__version__"
   ]
  },
  {
   "cell_type": "code",
   "execution_count": 16,
   "metadata": {},
   "outputs": [
    {
     "output_type": "error",
     "ename": "NameError",
     "evalue": "name 'cleanUpCondition' is not defined",
     "traceback": [
      "\u001b[0;31m---------------------------------------------------------------------------\u001b[0m",
      "\u001b[0;31mNameError\u001b[0m                                 Traceback (most recent call last)",
      "\u001b[0;32m<ipython-input-16-bef5382428bf>\u001b[0m in \u001b[0;36m<module>\u001b[0;34m\u001b[0m\n\u001b[0;32m----> 1\u001b[0;31m \u001b[0mdf\u001b[0m\u001b[0;34m[\u001b[0m\u001b[0;34m'ConditionID'\u001b[0m\u001b[0;34m]\u001b[0m\u001b[0;34m.\u001b[0m\u001b[0mapply\u001b[0m\u001b[0;34m(\u001b[0m\u001b[0mcleanUpCondition\u001b[0m\u001b[0;34m)\u001b[0m\u001b[0;34m\u001b[0m\u001b[0;34m\u001b[0m\u001b[0m\n\u001b[0m",
      "\u001b[0;31mNameError\u001b[0m: name 'cleanUpCondition' is not defined"
     ]
    }
   ],
   "source": [
    "\n",
    "\n",
    "df['ConditionID'].apply(cleanUpCondition)"
   ]
  },
  {
   "cell_type": "code",
   "execution_count": 17,
   "metadata": {},
   "outputs": [
    {
     "output_type": "execute_result",
     "data": {
      "text/plain": "Index(['EndTime', 'ViewItemURLForNaturalSearch', 'ListingType', 'Location',\n       'GalleryURL', 'PictureURL', 'PrimaryCategoryID', 'PrimaryCategoryName',\n       'BidCount', 'ListingStatus', 'TimeLeft', 'Title', 'Country', 'AutoPay',\n       'ConditionID', 'ConditionDisplayName', 'GlobalShipping',\n       'ConditionDescription', 'ConvertedCurrentPrice-_currencyID',\n       'ConvertedCurrentPrice-value', 'ItemSpecifics', 'ItemSpecifics-Brand',\n       'ItemSpecifics-Type', 'ItemSpecifics-Skill Level',\n       'ItemSpecifics-Body Finish', 'ItemSpecifics-Body Material',\n       'ItemSpecifics-Key Finish', 'ItemSpecifics-Custom Bundle',\n       'ItemSpecifics-Modified Item', 'ItemSpecifics-Modified Description',\n       'ItemSpecifics-Country/Region of Manufacture', 'QuantityAvailableHint',\n       'QuantityThreshold', 'BuyItNowAvailable',\n       'ConvertedBuyItNowPrice-_currencyID', 'ConvertedBuyItNowPrice-value',\n       'ItemSpecifics-NameValueList-Name', 'ItemSpecifics-NameValueList-Value',\n       'DiscountPriceInfo-OriginalRetailPrice-_currencyID',\n       'DiscountPriceInfo-OriginalRetailPrice-value',\n       'DiscountPriceInfo-PricingTreatment', 'DiscountPriceInfo-SoldOneBay',\n       'DiscountPriceInfo-SoldOffeBay', 'Quantity', 'Model', 'Description'],\n      dtype='object')"
     },
     "metadata": {},
     "execution_count": 17
    }
   ],
   "source": [
    "df.columns"
   ]
  },
  {
   "cell_type": "code",
   "execution_count": 18,
   "metadata": {},
   "outputs": [
    {
     "output_type": "execute_result",
     "data": {
      "text/plain": "115061"
     },
     "metadata": {},
     "execution_count": 18
    }
   ],
   "source": [
    "import ast\n",
    "import requests\n",
    "import numpy as np\n",
    "# import cv2\n",
    "url = df['PictureURL'].apply(lambda x: ast.literal_eval(x) if x==x else x).sample(1).values[0][0]\n",
    "response = requests.get(url)\n",
    "# response.content\n",
    "len(response.content)"
   ]
  },
  {
   "cell_type": "code",
   "execution_count": 19,
   "metadata": {},
   "outputs": [
    {
     "output_type": "execute_result",
     "data": {
      "text/plain": "                                                     PictureURL  \\\nItemID                                                            \n303116830074  ['https://i.ebayimg.com/00/s/MTM4MlgxMjk3/z/HU...   \n303635927434  ['https://i.ebayimg.com/00/s/MTA2NlgxNjAw/z/gl...   \n254668152053  ['https://i.ebayimg.com/00/s/MTYwMFgxMTk5/z/Yd...   \n233663229380  ['https://i.ebayimg.com/00/s/NzE5WDEwMjQ=/z/rj...   \n233663229383  ['https://i.ebayimg.com/00/s/NzE4WDEwMjQ=/z/WA...   \n...                                                         ...   \n312339546823  ['https://i.ebayimg.com/00/s/MTA3NFgxMDAw/z/he...   \n312339561349  ['https://i.ebayimg.com/00/s/OTMzWDkwMA==/z/I8...   \n324241885097  ['https://i.ebayimg.com/00/s/NTk1WDQ4Mw==/z/Np...   \n324241885146  ['https://i.ebayimg.com/00/s/NDI3WDY0MA==/z/U4...   \n323570910146  ['https://i.ebayimg.com/00/s/MTAwMFgxMDAw/z/tn...   \n\n             ItemSpecifics-Type  \nItemID                           \n303116830074               Alto  \n303635927434      Baritone/Bass  \n254668152053              Tenor  \n233663229380               Alto  \n233663229383               Alto  \n...                         ...  \n312339546823               Alto  \n312339561349              Tenor  \n324241885097              Tenor  \n324241885146              Tenor  \n323570910146            Soprano  \n\n[1410 rows x 2 columns]",
      "text/html": "<div>\n<style scoped>\n    .dataframe tbody tr th:only-of-type {\n        vertical-align: middle;\n    }\n\n    .dataframe tbody tr th {\n        vertical-align: top;\n    }\n\n    .dataframe thead th {\n        text-align: right;\n    }\n</style>\n<table border=\"1\" class=\"dataframe\">\n  <thead>\n    <tr style=\"text-align: right;\">\n      <th></th>\n      <th>PictureURL</th>\n      <th>ItemSpecifics-Type</th>\n    </tr>\n    <tr>\n      <th>ItemID</th>\n      <th></th>\n      <th></th>\n    </tr>\n  </thead>\n  <tbody>\n    <tr>\n      <th>303116830074</th>\n      <td>['https://i.ebayimg.com/00/s/MTM4MlgxMjk3/z/HU...</td>\n      <td>Alto</td>\n    </tr>\n    <tr>\n      <th>303635927434</th>\n      <td>['https://i.ebayimg.com/00/s/MTA2NlgxNjAw/z/gl...</td>\n      <td>Baritone/Bass</td>\n    </tr>\n    <tr>\n      <th>254668152053</th>\n      <td>['https://i.ebayimg.com/00/s/MTYwMFgxMTk5/z/Yd...</td>\n      <td>Tenor</td>\n    </tr>\n    <tr>\n      <th>233663229380</th>\n      <td>['https://i.ebayimg.com/00/s/NzE5WDEwMjQ=/z/rj...</td>\n      <td>Alto</td>\n    </tr>\n    <tr>\n      <th>233663229383</th>\n      <td>['https://i.ebayimg.com/00/s/NzE4WDEwMjQ=/z/WA...</td>\n      <td>Alto</td>\n    </tr>\n    <tr>\n      <th>...</th>\n      <td>...</td>\n      <td>...</td>\n    </tr>\n    <tr>\n      <th>312339546823</th>\n      <td>['https://i.ebayimg.com/00/s/MTA3NFgxMDAw/z/he...</td>\n      <td>Alto</td>\n    </tr>\n    <tr>\n      <th>312339561349</th>\n      <td>['https://i.ebayimg.com/00/s/OTMzWDkwMA==/z/I8...</td>\n      <td>Tenor</td>\n    </tr>\n    <tr>\n      <th>324241885097</th>\n      <td>['https://i.ebayimg.com/00/s/NTk1WDQ4Mw==/z/Np...</td>\n      <td>Tenor</td>\n    </tr>\n    <tr>\n      <th>324241885146</th>\n      <td>['https://i.ebayimg.com/00/s/NDI3WDY0MA==/z/U4...</td>\n      <td>Tenor</td>\n    </tr>\n    <tr>\n      <th>323570910146</th>\n      <td>['https://i.ebayimg.com/00/s/MTAwMFgxMDAw/z/tn...</td>\n      <td>Soprano</td>\n    </tr>\n  </tbody>\n</table>\n<p>1410 rows × 2 columns</p>\n</div>"
     },
     "metadata": {},
     "execution_count": 19
    }
   ],
   "source": [
    "cond1 = df['PictureURL'].apply(lambda x: len(ast.literal_eval(x)) if x==x else x)>10\n",
    "cond2 = df['ItemSpecifics-Type'].isin(['Alto', 'Tenor', 'Soprano', 'Baritone/Bass'])\n",
    "df[(cond1) & (cond2)][['PictureURL', 'ItemSpecifics-Type']]\n",
    "\n"
   ]
  },
  {
   "cell_type": "code",
   "execution_count": 20,
   "metadata": {},
   "outputs": [],
   "source": [
    "from sklearn.model_selection import train_test_split, StratifiedShuffleSplit\n",
    "\n",
    "cond1 = df['PictureURL'].apply(lambda x: len(ast.literal_eval(x)) if x==x else x)>8\n",
    "cond2 = df['ItemSpecifics-Type'].isin(['Alto', 'Tenor', 'Soprano', 'Baritone/Bass'])\n",
    "\n",
    "X = df[(cond1) & (cond2)]['PictureURL']\n",
    "y = df[(cond1) & (cond2)]['ItemSpecifics-Type']\n",
    "\n",
    "\n",
    "X_train, X_test, y_train, y_test = train_test_split(X, y, random_state=42, stratify = y, train_size = 0.8)\n",
    "X_train, X_val, y_train, y_val = train_test_split(X_train, y_train, random_state=42, stratify = y_train, train_size = 0.8)"
   ]
  },
  {
   "cell_type": "code",
   "execution_count": 41,
   "metadata": {
    "tags": []
   },
   "outputs": [],
   "source": [
    "from PIL import Image\n",
    "import requests \n",
    "from io import BytesIO\n",
    "import matplotlib.pyplot as plt\n",
    "import matplotlib.animation as animation\n",
    "\n",
    "url = 'https://i.ebayimg.com/00/s/MTIwMFgxNjAw/z/bQ0AAOSwUwRfQGNF/$_57.JPG?set_id=8800005007'\n",
    "\n",
    "def preprocessImage(url, newsize=(128,128)):\n",
    "    response = requests.get(url)\n",
    "    img = Image.open(BytesIO(response.content))\n",
    "    img = img.resize(newsize)\n",
    "    return np.array(img)\n",
    "\n",
    "img = preprocessImage(url)"
   ]
  },
  {
   "cell_type": "code",
   "execution_count": 43,
   "metadata": {},
   "outputs": [
    {
     "output_type": "error",
     "ename": "ValueError",
     "evalue": "Found array with dim 3. the normalize function expected <= 2.",
     "traceback": [
      "\u001b[0;31m---------------------------------------------------------------------------\u001b[0m",
      "\u001b[0;31mValueError\u001b[0m                                Traceback (most recent call last)",
      "\u001b[0;32m<ipython-input-43-afe518b0f0fe>\u001b[0m in \u001b[0;36m<module>\u001b[0;34m\u001b[0m\n\u001b[1;32m      1\u001b[0m \u001b[0;32mfrom\u001b[0m \u001b[0msklearn\u001b[0m\u001b[0;34m.\u001b[0m\u001b[0mpreprocessing\u001b[0m \u001b[0;32mimport\u001b[0m \u001b[0mnormalize\u001b[0m\u001b[0;34m\u001b[0m\u001b[0;34m\u001b[0m\u001b[0m\n\u001b[0;32m----> 2\u001b[0;31m \u001b[0mnormalize\u001b[0m\u001b[0;34m(\u001b[0m\u001b[0mimg\u001b[0m\u001b[0;34m)\u001b[0m\u001b[0;34m\u001b[0m\u001b[0;34m\u001b[0m\u001b[0m\n\u001b[0m",
      "\u001b[0;32m~/Documents/GitHub/ebay-saxophone/saxenv/lib/python3.7/site-packages/sklearn/utils/validation.py\u001b[0m in \u001b[0;36minner_f\u001b[0;34m(*args, **kwargs)\u001b[0m\n\u001b[1;32m     70\u001b[0m                           FutureWarning)\n\u001b[1;32m     71\u001b[0m         \u001b[0mkwargs\u001b[0m\u001b[0;34m.\u001b[0m\u001b[0mupdate\u001b[0m\u001b[0;34m(\u001b[0m\u001b[0;34m{\u001b[0m\u001b[0mk\u001b[0m\u001b[0;34m:\u001b[0m \u001b[0marg\u001b[0m \u001b[0;32mfor\u001b[0m \u001b[0mk\u001b[0m\u001b[0;34m,\u001b[0m \u001b[0marg\u001b[0m \u001b[0;32min\u001b[0m \u001b[0mzip\u001b[0m\u001b[0;34m(\u001b[0m\u001b[0msig\u001b[0m\u001b[0;34m.\u001b[0m\u001b[0mparameters\u001b[0m\u001b[0;34m,\u001b[0m \u001b[0margs\u001b[0m\u001b[0;34m)\u001b[0m\u001b[0;34m}\u001b[0m\u001b[0;34m)\u001b[0m\u001b[0;34m\u001b[0m\u001b[0;34m\u001b[0m\u001b[0m\n\u001b[0;32m---> 72\u001b[0;31m         \u001b[0;32mreturn\u001b[0m \u001b[0mf\u001b[0m\u001b[0;34m(\u001b[0m\u001b[0;34m**\u001b[0m\u001b[0mkwargs\u001b[0m\u001b[0;34m)\u001b[0m\u001b[0;34m\u001b[0m\u001b[0;34m\u001b[0m\u001b[0m\n\u001b[0m\u001b[1;32m     73\u001b[0m     \u001b[0;32mreturn\u001b[0m \u001b[0minner_f\u001b[0m\u001b[0;34m\u001b[0m\u001b[0;34m\u001b[0m\u001b[0m\n\u001b[1;32m     74\u001b[0m \u001b[0;34m\u001b[0m\u001b[0m\n",
      "\u001b[0;32m~/Documents/GitHub/ebay-saxophone/saxenv/lib/python3.7/site-packages/sklearn/preprocessing/_data.py\u001b[0m in \u001b[0;36mnormalize\u001b[0;34m(X, norm, axis, copy, return_norm)\u001b[0m\n\u001b[1;32m   1709\u001b[0m \u001b[0;34m\u001b[0m\u001b[0m\n\u001b[1;32m   1710\u001b[0m     X = check_array(X, accept_sparse=sparse_format, copy=copy,\n\u001b[0;32m-> 1711\u001b[0;31m                     estimator='the normalize function', dtype=FLOAT_DTYPES)\n\u001b[0m\u001b[1;32m   1712\u001b[0m     \u001b[0;32mif\u001b[0m \u001b[0maxis\u001b[0m \u001b[0;34m==\u001b[0m \u001b[0;36m0\u001b[0m\u001b[0;34m:\u001b[0m\u001b[0;34m\u001b[0m\u001b[0;34m\u001b[0m\u001b[0m\n\u001b[1;32m   1713\u001b[0m         \u001b[0mX\u001b[0m \u001b[0;34m=\u001b[0m \u001b[0mX\u001b[0m\u001b[0;34m.\u001b[0m\u001b[0mT\u001b[0m\u001b[0;34m\u001b[0m\u001b[0;34m\u001b[0m\u001b[0m\n",
      "\u001b[0;32m~/Documents/GitHub/ebay-saxophone/saxenv/lib/python3.7/site-packages/sklearn/utils/validation.py\u001b[0m in \u001b[0;36minner_f\u001b[0;34m(*args, **kwargs)\u001b[0m\n\u001b[1;32m     70\u001b[0m                           FutureWarning)\n\u001b[1;32m     71\u001b[0m         \u001b[0mkwargs\u001b[0m\u001b[0;34m.\u001b[0m\u001b[0mupdate\u001b[0m\u001b[0;34m(\u001b[0m\u001b[0;34m{\u001b[0m\u001b[0mk\u001b[0m\u001b[0;34m:\u001b[0m \u001b[0marg\u001b[0m \u001b[0;32mfor\u001b[0m \u001b[0mk\u001b[0m\u001b[0;34m,\u001b[0m \u001b[0marg\u001b[0m \u001b[0;32min\u001b[0m \u001b[0mzip\u001b[0m\u001b[0;34m(\u001b[0m\u001b[0msig\u001b[0m\u001b[0;34m.\u001b[0m\u001b[0mparameters\u001b[0m\u001b[0;34m,\u001b[0m \u001b[0margs\u001b[0m\u001b[0;34m)\u001b[0m\u001b[0;34m}\u001b[0m\u001b[0;34m)\u001b[0m\u001b[0;34m\u001b[0m\u001b[0;34m\u001b[0m\u001b[0m\n\u001b[0;32m---> 72\u001b[0;31m         \u001b[0;32mreturn\u001b[0m \u001b[0mf\u001b[0m\u001b[0;34m(\u001b[0m\u001b[0;34m**\u001b[0m\u001b[0mkwargs\u001b[0m\u001b[0;34m)\u001b[0m\u001b[0;34m\u001b[0m\u001b[0;34m\u001b[0m\u001b[0m\n\u001b[0m\u001b[1;32m     73\u001b[0m     \u001b[0;32mreturn\u001b[0m \u001b[0minner_f\u001b[0m\u001b[0;34m\u001b[0m\u001b[0;34m\u001b[0m\u001b[0m\n\u001b[1;32m     74\u001b[0m \u001b[0;34m\u001b[0m\u001b[0m\n",
      "\u001b[0;32m~/Documents/GitHub/ebay-saxophone/saxenv/lib/python3.7/site-packages/sklearn/utils/validation.py\u001b[0m in \u001b[0;36mcheck_array\u001b[0;34m(array, accept_sparse, accept_large_sparse, dtype, order, copy, force_all_finite, ensure_2d, allow_nd, ensure_min_samples, ensure_min_features, estimator)\u001b[0m\n\u001b[1;32m    639\u001b[0m         \u001b[0;32mif\u001b[0m \u001b[0;32mnot\u001b[0m \u001b[0mallow_nd\u001b[0m \u001b[0;32mand\u001b[0m \u001b[0marray\u001b[0m\u001b[0;34m.\u001b[0m\u001b[0mndim\u001b[0m \u001b[0;34m>=\u001b[0m \u001b[0;36m3\u001b[0m\u001b[0;34m:\u001b[0m\u001b[0;34m\u001b[0m\u001b[0;34m\u001b[0m\u001b[0m\n\u001b[1;32m    640\u001b[0m             raise ValueError(\"Found array with dim %d. %s expected <= 2.\"\n\u001b[0;32m--> 641\u001b[0;31m                              % (array.ndim, estimator_name))\n\u001b[0m\u001b[1;32m    642\u001b[0m \u001b[0;34m\u001b[0m\u001b[0m\n\u001b[1;32m    643\u001b[0m         \u001b[0;32mif\u001b[0m \u001b[0mforce_all_finite\u001b[0m\u001b[0;34m:\u001b[0m\u001b[0;34m\u001b[0m\u001b[0;34m\u001b[0m\u001b[0m\n",
      "\u001b[0;31mValueError\u001b[0m: Found array with dim 3. the normalize function expected <= 2."
     ]
    }
   ],
   "source": []
  },
  {
   "cell_type": "code",
   "execution_count": 22,
   "metadata": {},
   "outputs": [
    {
     "output_type": "display_data",
     "data": {
      "text/plain": "<Figure size 1440x720 with 0 Axes>"
     },
     "metadata": {}
    }
   ],
   "source": [
    "def showImagesHorizontally(list_of_files):\n",
    "    fig = plt.figure(figsize=(20,10))\n",
    "    number_of_files = len(list_of_files)\n",
    "    for i in range(number_of_files):\n",
    "        a=fig.add_subplot(1,number_of_files,i+1)\n",
    "        plt.imshow(list_of_files[i],cmap='Greys_r')\n",
    "        plt.axis('off')\n",
    "\n",
    "showImagesHorizontally(images)"
   ]
  },
  {
   "cell_type": "code",
   "execution_count": 23,
   "metadata": {},
   "outputs": [],
   "source": []
  },
  {
   "cell_type": "code",
   "execution_count": 30,
   "metadata": {
    "tags": []
   },
   "outputs": [],
   "source": [
    "from tensorflow import keras\n",
    "from tensorflow.keras import layers\n",
    "\n",
    "def imageInput():\n",
    "    img_input = keras.Input(shape=(64, 64, 3))\n",
    "    x = layers.Conv2D(16, 3, activation=\"relu\")(img_input)\n",
    "    x = layers.Conv2D(32, 3, activation=\"relu\")(x)\n",
    "    x = layers.MaxPooling2D(3)(x)\n",
    "    conv_output = layers.Conv2D(32, 3, activation=\"relu\")(x)\n",
    "    return keras.Model(img_input, conv_output)\n",
    "\n",
    "\n",
    "inputs = [keras.Input(shape=(64, 64, 3)) for i in range(12)]\n",
    "\n",
    "x = layers.concatenate([imageInput()(inputs[i]) for i in range(12)])\n",
    "pred = layers.Dense(4, name=\"priority\")(x)\n",
    "model = keras.Model(\n",
    "    inputs=inputs,\n",
    "    outputs=pred,\n",
    ")\n",
    "model.compile(\n",
    "    optimizer=keras.optimizers.Adam(),\n",
    "    loss=[\n",
    "        keras.losses.CategoricalCrossentropy(from_logits=True),\n",
    "    ],\n",
    ")"
   ]
  },
  {
   "cell_type": "code",
   "execution_count": 103,
   "metadata": {},
   "outputs": [],
   "source": [
    "keys = [o['Key'] for o in s3.list_objects(Bucket = 'ebayfindingdata', Prefix = 'shopping')['Contents'] if '.csv' in o['Key']]\n",
    "desc_keys = [o['Key'] for o in s3.list_objects(Bucket = 'ebayfindingdata', Prefix = 'description')['Contents'] if '.csv' in o['Key']]\n",
    "\n",
    "df1 = pd.concat([pd.read_csv(s3.get_object(Bucket = 'ebayfindingdata', Key = k)['Body']) for k in keys])\n",
    "desc_df = pd.concat([pd.read_csv(s3.get_object(Bucket = 'ebayfindingdata', Key = k)['Body']) for k in desc_keys])\n"
   ]
  },
  {
   "cell_type": "code",
   "execution_count": 105,
   "metadata": {},
   "outputs": [
    {
     "output_type": "execute_result",
     "data": {
      "text/plain": "           ItemID                   EndTime  \\\n0    303116830074  2020-08-04T12:56:22.000Z   \n0    303116830074  2020-08-04T12:56:22.000Z   \n1    303635927434  2020-08-04T12:57:58.000Z   \n1    303635927434  2020-08-04T12:57:58.000Z   \n2    254668152053  2020-08-04T13:00:31.000Z   \n..            ...                       ...   \n181  353153512515  2020-09-29T07:12:08.000Z   \n182  224061856934  2020-09-29T07:50:46.000Z   \n183  114327903428  2020-09-29T08:45:51.000Z   \n184  233633659685  2020-09-29T08:58:23.000Z   \n185  324213359450  2020-09-29T09:11:56.000Z   \n\n                           ViewItemURLForNaturalSearch     ListingType  \\\n0    https://www.ebay.com/itm/Jupiter-JAS-769GN-sax...  FixedPriceItem   \n0    https://www.ebay.com/itm/Jupiter-JAS-769GN-sax...  FixedPriceItem   \n1    https://www.ebay.com/itm/Vintage-Conn-Baritone...         Chinese   \n1    https://www.ebay.com/itm/Vintage-Conn-Baritone...         Chinese   \n2    https://www.ebay.com/itm/LAMONTE-TENOR-SAXOPHO...         Chinese   \n..                                                 ...             ...   \n181  https://www.ebay.com/itm/Set-2-Selmer-Paris-Al...  FixedPriceItem   \n182  https://www.ebay.com/itm/Yamaha-Yas-62-Yas-62S...  FixedPriceItem   \n183  https://www.ebay.com/itm/Yamaha-YAS-200ADII-Ad...  FixedPriceItem   \n184  https://www.ebay.com/itm/SYLPHIDE-Alto-Sax-A-2...  FixedPriceItem   \n185  https://www.ebay.com/itm/Aizen-Fuga-Alto-Saxop...  FixedPriceItem   \n\n                    Location  \\\n0      Saint Louis, Missouri   \n0      Saint Louis, Missouri   \n1    Deep River, Connecticut   \n1    Deep River, Connecticut   \n2        Trenton, New Jersey   \n..                       ...   \n181                    Tokyo   \n182                    Seoul   \n183     Lafayette, Louisiana   \n184                 Yokohama   \n185            Bundoora, VIC   \n\n                                            GalleryURL  \\\n0    https://thumbs3.ebaystatic.com/pict/3031168300...   \n0    https://thumbs3.ebaystatic.com/pict/3031168300...   \n1    https://thumbs3.ebaystatic.com/pict/3036359274...   \n1    https://thumbs3.ebaystatic.com/pict/3036359274...   \n2    https://thumbs2.ebaystatic.com/pict/2546681520...   \n..                                                 ...   \n181  https://thumbs4.ebaystatic.com/pict/3531535125...   \n182                                                NaN   \n183  https://thumbs1.ebaystatic.com/pict/1143279034...   \n184  https://thumbs2.ebaystatic.com/pict/2336336596...   \n185  https://thumbs3.ebaystatic.com/pict/3242133594...   \n\n                                            PictureURL  PrimaryCategoryID  \\\n0    ['https://i.ebayimg.com/00/s/MTM4MlgxMjk3/z/HU...              16231   \n0    ['https://i.ebayimg.com/00/s/MTM4MlgxMjk3/z/HU...              16231   \n1    ['https://i.ebayimg.com/00/s/MTA2NlgxNjAw/z/gl...              16231   \n1    ['https://i.ebayimg.com/00/s/MTA2NlgxNjAw/z/gl...              16231   \n2    ['https://i.ebayimg.com/00/s/MTYwMFgxMTk5/z/Yd...              16231   \n..                                                 ...                ...   \n181  ['https://i.ebayimg.com/00/s/NTQwWDcyMA==/z/LZ...              16231   \n182  ['https://i.ebayimg.com/00/s/MTYwMFgxNjAw/z/wh...              16231   \n183  ['https://i.ebayimg.com/00/s/MTIwMFgxNjAw/z/6w...              16231   \n184  ['https://i.ebayimg.com/00/s/ODAwWDEyMDA=/z/wE...              16231   \n185  ['https://i.ebayimg.com/00/s/MTYwMFgxMjAw/z/5~...              16231   \n\n                                   PrimaryCategoryName  BidCount  ...  \\\n0    Musical Instruments & Gear:Wind & Woodwind:Ban...         0  ...   \n0    Musical Instruments & Gear:Wind & Woodwind:Ban...         0  ...   \n1    Musical Instruments & Gear:Wind & Woodwind:Ban...        35  ...   \n1    Musical Instruments & Gear:Wind & Woodwind:Ban...        35  ...   \n2    Musical Instruments & Gear:Wind & Woodwind:Ban...         0  ...   \n..                                                 ...       ...  ...   \n181  Musical Instruments & Gear:Wind & Woodwind:Ban...         0  ...   \n182  Musical Instruments & Gear:Wind & Woodwind:Ban...         0  ...   \n183  Musical Instruments & Gear:Wind & Woodwind:Ban...         0  ...   \n184  Musical Instruments & Gear:Wind & Woodwind:Ban...         0  ...   \n185  Musical Instruments:Wind & Woodwind:Band & Orc...         0  ...   \n\n    ConvertedBuyItNowPrice-value ItemSpecifics-NameValueList-Name  \\\n0                            NaN                              NaN   \n0                            NaN                              NaN   \n1                            NaN                              NaN   \n1                            NaN                              NaN   \n2                            NaN                              NaN   \n..                           ...                              ...   \n181                          NaN                              NaN   \n182                          NaN                              NaN   \n183                          NaN                              NaN   \n184                          NaN                              NaN   \n185                          NaN                             Type   \n\n    ItemSpecifics-NameValueList-Value  \\\n0                                 NaN   \n0                                 NaN   \n1                                 NaN   \n1                                 NaN   \n2                                 NaN   \n..                                ...   \n181                               NaN   \n182                               NaN   \n183                               NaN   \n184                               NaN   \n185                              Alto   \n\n    DiscountPriceInfo-OriginalRetailPrice-_currencyID  \\\n0                                                 NaN   \n0                                                 NaN   \n1                                                 NaN   \n1                                                 NaN   \n2                                                 NaN   \n..                                                ...   \n181                                               NaN   \n182                                               NaN   \n183                                               NaN   \n184                                               NaN   \n185                                               NaN   \n\n     DiscountPriceInfo-OriginalRetailPrice-value  \\\n0                                            NaN   \n0                                            NaN   \n1                                            NaN   \n1                                            NaN   \n2                                            NaN   \n..                                           ...   \n181                                          NaN   \n182                                          NaN   \n183                                          NaN   \n184                                          NaN   \n185                                          NaN   \n\n     DiscountPriceInfo-PricingTreatment DiscountPriceInfo-SoldOneBay  \\\n0                                   NaN                          NaN   \n0                                   NaN                          NaN   \n1                                   NaN                          NaN   \n1                                   NaN                          NaN   \n2                                   NaN                          NaN   \n..                                  ...                          ...   \n181                                 NaN                          NaN   \n182                                 NaN                          NaN   \n183                                 NaN                          NaN   \n184                                 NaN                          NaN   \n185                                 NaN                          NaN   \n\n    DiscountPriceInfo-SoldOffeBay Quantity  \\\n0                             NaN      NaN   \n0                             NaN      NaN   \n1                             NaN      NaN   \n1                             NaN      NaN   \n2                             NaN      NaN   \n..                            ...      ...   \n181                           NaN      NaN   \n182                           NaN      NaN   \n183                           NaN      NaN   \n184                           NaN      NaN   \n185                           NaN      NaN   \n\n                                           Description  \n0    very nice Jupiter Jas-769GN Saxophone Eb alto ...  \n0    very nice Jupiter Jas-769GN Saxophone Eb alto ...  \n1    Fresh from a local estate, you are bidding on ...  \n1    Fresh from a local estate, you are bidding on ...  \n2    This is a Lamonte tenor sax. Made in Italy. Th...  \n..                                                 ...  \n181  DescriptionBEAUTIFULNo noticeable scratch or d...  \n182  Yamaha Yas-62/Yas-62S 04 Alto Saxophone Plated...  \n183  This Sax was bought for my son approx 8 years ...  \n184  Item DescriptionSylpheed Alto Sax A-2000 Disas...  \n185  For sell this beautiful Aizen Fuga Alto Saxoph...  \n\n[6040 rows x 46 columns]",
      "text/html": "<div>\n<style scoped>\n    .dataframe tbody tr th:only-of-type {\n        vertical-align: middle;\n    }\n\n    .dataframe tbody tr th {\n        vertical-align: top;\n    }\n\n    .dataframe thead th {\n        text-align: right;\n    }\n</style>\n<table border=\"1\" class=\"dataframe\">\n  <thead>\n    <tr style=\"text-align: right;\">\n      <th></th>\n      <th>ItemID</th>\n      <th>EndTime</th>\n      <th>ViewItemURLForNaturalSearch</th>\n      <th>ListingType</th>\n      <th>Location</th>\n      <th>GalleryURL</th>\n      <th>PictureURL</th>\n      <th>PrimaryCategoryID</th>\n      <th>PrimaryCategoryName</th>\n      <th>BidCount</th>\n      <th>...</th>\n      <th>ConvertedBuyItNowPrice-value</th>\n      <th>ItemSpecifics-NameValueList-Name</th>\n      <th>ItemSpecifics-NameValueList-Value</th>\n      <th>DiscountPriceInfo-OriginalRetailPrice-_currencyID</th>\n      <th>DiscountPriceInfo-OriginalRetailPrice-value</th>\n      <th>DiscountPriceInfo-PricingTreatment</th>\n      <th>DiscountPriceInfo-SoldOneBay</th>\n      <th>DiscountPriceInfo-SoldOffeBay</th>\n      <th>Quantity</th>\n      <th>Description</th>\n    </tr>\n  </thead>\n  <tbody>\n    <tr>\n      <th>0</th>\n      <td>303116830074</td>\n      <td>2020-08-04T12:56:22.000Z</td>\n      <td>https://www.ebay.com/itm/Jupiter-JAS-769GN-sax...</td>\n      <td>FixedPriceItem</td>\n      <td>Saint Louis, Missouri</td>\n      <td>https://thumbs3.ebaystatic.com/pict/3031168300...</td>\n      <td>['https://i.ebayimg.com/00/s/MTM4MlgxMjk3/z/HU...</td>\n      <td>16231</td>\n      <td>Musical Instruments &amp; Gear:Wind &amp; Woodwind:Ban...</td>\n      <td>0</td>\n      <td>...</td>\n      <td>NaN</td>\n      <td>NaN</td>\n      <td>NaN</td>\n      <td>NaN</td>\n      <td>NaN</td>\n      <td>NaN</td>\n      <td>NaN</td>\n      <td>NaN</td>\n      <td>NaN</td>\n      <td>very nice Jupiter Jas-769GN Saxophone Eb alto ...</td>\n    </tr>\n    <tr>\n      <th>0</th>\n      <td>303116830074</td>\n      <td>2020-08-04T12:56:22.000Z</td>\n      <td>https://www.ebay.com/itm/Jupiter-JAS-769GN-sax...</td>\n      <td>FixedPriceItem</td>\n      <td>Saint Louis, Missouri</td>\n      <td>https://thumbs3.ebaystatic.com/pict/3031168300...</td>\n      <td>['https://i.ebayimg.com/00/s/MTM4MlgxMjk3/z/HU...</td>\n      <td>16231</td>\n      <td>Musical Instruments &amp; Gear:Wind &amp; Woodwind:Ban...</td>\n      <td>0</td>\n      <td>...</td>\n      <td>NaN</td>\n      <td>NaN</td>\n      <td>NaN</td>\n      <td>NaN</td>\n      <td>NaN</td>\n      <td>NaN</td>\n      <td>NaN</td>\n      <td>NaN</td>\n      <td>NaN</td>\n      <td>very nice Jupiter Jas-769GN Saxophone Eb alto ...</td>\n    </tr>\n    <tr>\n      <th>1</th>\n      <td>303635927434</td>\n      <td>2020-08-04T12:57:58.000Z</td>\n      <td>https://www.ebay.com/itm/Vintage-Conn-Baritone...</td>\n      <td>Chinese</td>\n      <td>Deep River, Connecticut</td>\n      <td>https://thumbs3.ebaystatic.com/pict/3036359274...</td>\n      <td>['https://i.ebayimg.com/00/s/MTA2NlgxNjAw/z/gl...</td>\n      <td>16231</td>\n      <td>Musical Instruments &amp; Gear:Wind &amp; Woodwind:Ban...</td>\n      <td>35</td>\n      <td>...</td>\n      <td>NaN</td>\n      <td>NaN</td>\n      <td>NaN</td>\n      <td>NaN</td>\n      <td>NaN</td>\n      <td>NaN</td>\n      <td>NaN</td>\n      <td>NaN</td>\n      <td>NaN</td>\n      <td>Fresh from a local estate, you are bidding on ...</td>\n    </tr>\n    <tr>\n      <th>1</th>\n      <td>303635927434</td>\n      <td>2020-08-04T12:57:58.000Z</td>\n      <td>https://www.ebay.com/itm/Vintage-Conn-Baritone...</td>\n      <td>Chinese</td>\n      <td>Deep River, Connecticut</td>\n      <td>https://thumbs3.ebaystatic.com/pict/3036359274...</td>\n      <td>['https://i.ebayimg.com/00/s/MTA2NlgxNjAw/z/gl...</td>\n      <td>16231</td>\n      <td>Musical Instruments &amp; Gear:Wind &amp; Woodwind:Ban...</td>\n      <td>35</td>\n      <td>...</td>\n      <td>NaN</td>\n      <td>NaN</td>\n      <td>NaN</td>\n      <td>NaN</td>\n      <td>NaN</td>\n      <td>NaN</td>\n      <td>NaN</td>\n      <td>NaN</td>\n      <td>NaN</td>\n      <td>Fresh from a local estate, you are bidding on ...</td>\n    </tr>\n    <tr>\n      <th>2</th>\n      <td>254668152053</td>\n      <td>2020-08-04T13:00:31.000Z</td>\n      <td>https://www.ebay.com/itm/LAMONTE-TENOR-SAXOPHO...</td>\n      <td>Chinese</td>\n      <td>Trenton, New Jersey</td>\n      <td>https://thumbs2.ebaystatic.com/pict/2546681520...</td>\n      <td>['https://i.ebayimg.com/00/s/MTYwMFgxMTk5/z/Yd...</td>\n      <td>16231</td>\n      <td>Musical Instruments &amp; Gear:Wind &amp; Woodwind:Ban...</td>\n      <td>0</td>\n      <td>...</td>\n      <td>NaN</td>\n      <td>NaN</td>\n      <td>NaN</td>\n      <td>NaN</td>\n      <td>NaN</td>\n      <td>NaN</td>\n      <td>NaN</td>\n      <td>NaN</td>\n      <td>NaN</td>\n      <td>This is a Lamonte tenor sax. Made in Italy. Th...</td>\n    </tr>\n    <tr>\n      <th>...</th>\n      <td>...</td>\n      <td>...</td>\n      <td>...</td>\n      <td>...</td>\n      <td>...</td>\n      <td>...</td>\n      <td>...</td>\n      <td>...</td>\n      <td>...</td>\n      <td>...</td>\n      <td>...</td>\n      <td>...</td>\n      <td>...</td>\n      <td>...</td>\n      <td>...</td>\n      <td>...</td>\n      <td>...</td>\n      <td>...</td>\n      <td>...</td>\n      <td>...</td>\n      <td>...</td>\n    </tr>\n    <tr>\n      <th>181</th>\n      <td>353153512515</td>\n      <td>2020-09-29T07:12:08.000Z</td>\n      <td>https://www.ebay.com/itm/Set-2-Selmer-Paris-Al...</td>\n      <td>FixedPriceItem</td>\n      <td>Tokyo</td>\n      <td>https://thumbs4.ebaystatic.com/pict/3531535125...</td>\n      <td>['https://i.ebayimg.com/00/s/NTQwWDcyMA==/z/LZ...</td>\n      <td>16231</td>\n      <td>Musical Instruments &amp; Gear:Wind &amp; Woodwind:Ban...</td>\n      <td>0</td>\n      <td>...</td>\n      <td>NaN</td>\n      <td>NaN</td>\n      <td>NaN</td>\n      <td>NaN</td>\n      <td>NaN</td>\n      <td>NaN</td>\n      <td>NaN</td>\n      <td>NaN</td>\n      <td>NaN</td>\n      <td>DescriptionBEAUTIFULNo noticeable scratch or d...</td>\n    </tr>\n    <tr>\n      <th>182</th>\n      <td>224061856934</td>\n      <td>2020-09-29T07:50:46.000Z</td>\n      <td>https://www.ebay.com/itm/Yamaha-Yas-62-Yas-62S...</td>\n      <td>FixedPriceItem</td>\n      <td>Seoul</td>\n      <td>NaN</td>\n      <td>['https://i.ebayimg.com/00/s/MTYwMFgxNjAw/z/wh...</td>\n      <td>16231</td>\n      <td>Musical Instruments &amp; Gear:Wind &amp; Woodwind:Ban...</td>\n      <td>0</td>\n      <td>...</td>\n      <td>NaN</td>\n      <td>NaN</td>\n      <td>NaN</td>\n      <td>NaN</td>\n      <td>NaN</td>\n      <td>NaN</td>\n      <td>NaN</td>\n      <td>NaN</td>\n      <td>NaN</td>\n      <td>Yamaha Yas-62/Yas-62S 04 Alto Saxophone Plated...</td>\n    </tr>\n    <tr>\n      <th>183</th>\n      <td>114327903428</td>\n      <td>2020-09-29T08:45:51.000Z</td>\n      <td>https://www.ebay.com/itm/Yamaha-YAS-200ADII-Ad...</td>\n      <td>FixedPriceItem</td>\n      <td>Lafayette, Louisiana</td>\n      <td>https://thumbs1.ebaystatic.com/pict/1143279034...</td>\n      <td>['https://i.ebayimg.com/00/s/MTIwMFgxNjAw/z/6w...</td>\n      <td>16231</td>\n      <td>Musical Instruments &amp; Gear:Wind &amp; Woodwind:Ban...</td>\n      <td>0</td>\n      <td>...</td>\n      <td>NaN</td>\n      <td>NaN</td>\n      <td>NaN</td>\n      <td>NaN</td>\n      <td>NaN</td>\n      <td>NaN</td>\n      <td>NaN</td>\n      <td>NaN</td>\n      <td>NaN</td>\n      <td>This Sax was bought for my son approx 8 years ...</td>\n    </tr>\n    <tr>\n      <th>184</th>\n      <td>233633659685</td>\n      <td>2020-09-29T08:58:23.000Z</td>\n      <td>https://www.ebay.com/itm/SYLPHIDE-Alto-Sax-A-2...</td>\n      <td>FixedPriceItem</td>\n      <td>Yokohama</td>\n      <td>https://thumbs2.ebaystatic.com/pict/2336336596...</td>\n      <td>['https://i.ebayimg.com/00/s/ODAwWDEyMDA=/z/wE...</td>\n      <td>16231</td>\n      <td>Musical Instruments &amp; Gear:Wind &amp; Woodwind:Ban...</td>\n      <td>0</td>\n      <td>...</td>\n      <td>NaN</td>\n      <td>NaN</td>\n      <td>NaN</td>\n      <td>NaN</td>\n      <td>NaN</td>\n      <td>NaN</td>\n      <td>NaN</td>\n      <td>NaN</td>\n      <td>NaN</td>\n      <td>Item DescriptionSylpheed Alto Sax A-2000 Disas...</td>\n    </tr>\n    <tr>\n      <th>185</th>\n      <td>324213359450</td>\n      <td>2020-09-29T09:11:56.000Z</td>\n      <td>https://www.ebay.com/itm/Aizen-Fuga-Alto-Saxop...</td>\n      <td>FixedPriceItem</td>\n      <td>Bundoora, VIC</td>\n      <td>https://thumbs3.ebaystatic.com/pict/3242133594...</td>\n      <td>['https://i.ebayimg.com/00/s/MTYwMFgxMjAw/z/5~...</td>\n      <td>16231</td>\n      <td>Musical Instruments:Wind &amp; Woodwind:Band &amp; Orc...</td>\n      <td>0</td>\n      <td>...</td>\n      <td>NaN</td>\n      <td>Type</td>\n      <td>Alto</td>\n      <td>NaN</td>\n      <td>NaN</td>\n      <td>NaN</td>\n      <td>NaN</td>\n      <td>NaN</td>\n      <td>NaN</td>\n      <td>For sell this beautiful Aizen Fuga Alto Saxoph...</td>\n    </tr>\n  </tbody>\n</table>\n<p>6040 rows × 46 columns</p>\n</div>"
     },
     "metadata": {},
     "execution_count": 105
    }
   ],
   "source": [
    "df1.join(desc_df.set_index('ItemID'), on = 'ItemID')"
   ]
  },
  {
   "cell_type": "code",
   "execution_count": null,
   "metadata": {},
   "outputs": [],
   "source": []
  }
 ]
}