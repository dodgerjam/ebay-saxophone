{
 "cells": [
  {
   "cell_type": "code",
   "execution_count": 1,
   "metadata": {
    "tags": []
   },
   "outputs": [],
   "source": [
    "from ebaysdk.finding import Connection\n",
    "import pandas as pd\n",
    "from datetime import datetime, timedelta\n",
    "\n",
    "api = Connection(config_file = 'ebay.yaml')\n",
    "\n",
    "class APIError(Exception):\n",
    "    \"\"\"An API Error Exception\"\"\"\n",
    "\n",
    "    def __init__(self, response):\n",
    "        self.response = response\n",
    "\n",
    "    def __str__(self):\n",
    "        return \"APIError: error = {}\".format(self.response.dict()['errorMessage']['error']['message'])\n",
    "\n",
    "\n",
    "def api2df(from_time, to_time):\n",
    "        api_request = {\n",
    "        # 16231 - saxophones\n",
    "        'categoryId': '16231',\n",
    "        'keywords': 'sax',\n",
    "        'outputSelector' : [\n",
    "                        'SellerInfo',\n",
    "                        'StoreInfo',\n",
    "                ],\n",
    "        'siteID' : 'EBAY-GB',\n",
    "        'itemFilter' : [\n",
    "                {'name':'LocatedIn', 'value':'GB'},\n",
    "                {'name':'EndTimeFrom', 'value' : from_time},\n",
    "                {'name':'EndTimeTo', 'value' :to_time},\n",
    "                {'name':'HideDuplicateItems', 'value':'true'}\n",
    "                ],\n",
    "        'paginationInput': {\n",
    "                'entriesPerPage': 100,\n",
    "                'pageNumber': 1},\n",
    "        'sortOrder' : 'EndTimeSoonest'\n",
    "        }\n",
    "\n",
    "        response = api.execute('findItemsByCategory', api_request)\n",
    "        \n",
    "        if response.dict()['ack'] == 'Failure':\n",
    "                raise APIError(response)\n",
    "\n",
    "        print(response.dict()['paginationOutput'])\n",
    "\n",
    "        df = pd.io.json.json_normalize(response.dict()['searchResult']['item'],  sep='-')\n",
    "        '''\n",
    "        return df[['itemId', 'title', 'viewItemURL', 'postalCode','sellerInfo-sellerUserName',                                                        'shippingInfo-shippingServiceCost-_currencyId',\n",
    "                'shippingInfo-shippingServiceCost-value', 'sellingStatus-currentPrice-_currencyId',\n",
    "       'sellingStatus-currentPrice-value', 'listingInfo-bestOfferEnabled', 'listingInfo-buyItNowAvailable', 'listingInfo-startTime', 'listingInfo-endTime', 'listingInfo-watchCount','condition-conditionId', 'condition-conditionDisplayName'\n",
    "       ]].set_index('itemId')\n",
    "        '''\n",
    "        return df.set_index('itemId')\n",
    "\n",
    "from_time = datetime.now().isoformat()\n",
    "to_time =  (datetime.now() + timedelta(days=1)).isoformat()\n",
    "\n",
    "# df = api2df(from_time, to_time)"
   ]
  },
  {
   "cell_type": "code",
   "execution_count": 6,
   "metadata": {
    "tags": []
   },
   "outputs": [
    {
     "output_type": "execute_result",
     "data": {
      "text/plain": "                                         Description        ItemID  \\\n0  Thank you for visiting our ebay store! Note: -...  224045256301   \n\n                    EndTime  \\\n0  2020-09-14T14:37:17.000Z   \n\n                         ViewItemURLForNaturalSearch     ListingType Location  \\\n0  https://www.ebay.com/itm/ammoon-Mini-Pocket-Bb...  FixedPriceItem   London   \n\n                                          GalleryURL  \\\n0  https://thumbs2.ebaystatic.com/pict/2240452563...   \n\n                                          PictureURL PrimaryCategoryID  \\\n0  [https://i.ebayimg.com/00/s/OTU2WDcxMA==/z/NcM...             16231   \n\n                                 PrimaryCategoryName  ... ItemSpecifics-Brand  \\\n0  Musical Instruments:Wind & Woodwind:Band & Orc...  ...                 NaN   \n\n  ItemSpecifics-Type ItemSpecifics-Skill Level ItemSpecifics-Body Finish  \\\n0                NaN                       NaN                       NaN   \n\n  ItemSpecifics-Body Material ItemSpecifics-Key Finish  \\\n0                         NaN                      NaN   \n\n  ItemSpecifics-Custom Bundle ItemSpecifics-Modified Item  \\\n0                         NaN                         NaN   \n\n  ItemSpecifics-Modified Description  \\\n0                                NaN   \n\n  ItemSpecifics-Country/Region of Manufacture  \n0                                         NaN  \n\n[1 rows x 31 columns]",
      "text/html": "<div>\n<style scoped>\n    .dataframe tbody tr th:only-of-type {\n        vertical-align: middle;\n    }\n\n    .dataframe tbody tr th {\n        vertical-align: top;\n    }\n\n    .dataframe thead th {\n        text-align: right;\n    }\n</style>\n<table border=\"1\" class=\"dataframe\">\n  <thead>\n    <tr style=\"text-align: right;\">\n      <th></th>\n      <th>Description</th>\n      <th>ItemID</th>\n      <th>EndTime</th>\n      <th>ViewItemURLForNaturalSearch</th>\n      <th>ListingType</th>\n      <th>Location</th>\n      <th>GalleryURL</th>\n      <th>PictureURL</th>\n      <th>PrimaryCategoryID</th>\n      <th>PrimaryCategoryName</th>\n      <th>...</th>\n      <th>ItemSpecifics-Brand</th>\n      <th>ItemSpecifics-Type</th>\n      <th>ItemSpecifics-Skill Level</th>\n      <th>ItemSpecifics-Body Finish</th>\n      <th>ItemSpecifics-Body Material</th>\n      <th>ItemSpecifics-Key Finish</th>\n      <th>ItemSpecifics-Custom Bundle</th>\n      <th>ItemSpecifics-Modified Item</th>\n      <th>ItemSpecifics-Modified Description</th>\n      <th>ItemSpecifics-Country/Region of Manufacture</th>\n    </tr>\n  </thead>\n  <tbody>\n    <tr>\n      <th>0</th>\n      <td>Thank you for visiting our ebay store! Note: -...</td>\n      <td>224045256301</td>\n      <td>2020-09-14T14:37:17.000Z</td>\n      <td>https://www.ebay.com/itm/ammoon-Mini-Pocket-Bb...</td>\n      <td>FixedPriceItem</td>\n      <td>London</td>\n      <td>https://thumbs2.ebaystatic.com/pict/2240452563...</td>\n      <td>[https://i.ebayimg.com/00/s/OTU2WDcxMA==/z/NcM...</td>\n      <td>16231</td>\n      <td>Musical Instruments:Wind &amp; Woodwind:Band &amp; Orc...</td>\n      <td>...</td>\n      <td>NaN</td>\n      <td>NaN</td>\n      <td>NaN</td>\n      <td>NaN</td>\n      <td>NaN</td>\n      <td>NaN</td>\n      <td>NaN</td>\n      <td>NaN</td>\n      <td>NaN</td>\n      <td>NaN</td>\n    </tr>\n  </tbody>\n</table>\n<p>1 rows × 31 columns</p>\n</div>"
     },
     "metadata": {},
     "execution_count": 6
    }
   ],
   "source": [
    "from ebaysdk.shopping import Connection as shopping\n",
    "import numpy\n",
    " \n",
    "shop_api = shopping(config_file = 'ebay.yaml')\n",
    "\n",
    "# df.index.values[0]\n",
    "\n",
    "specifics = ['Brand', 'Type', 'Skill Level', 'Body Finish', 'Body Material', 'Key Finish', 'Custom Bundle', 'Modified Item', 'Modified Description', 'Country/Region of Manufacture']\n",
    "\n",
    "def nameValue2dict(nv):\n",
    "    return {item['Name']:item['Value'] for item in nv}\n",
    "\n",
    "def itemSpecificGetter(itemid):\n",
    "\n",
    "    api_request = {\n",
    "            # 16231 - saxophones\n",
    "            'ItemID' : itemid,\n",
    "            'IncludeSelector' : ['ItemSpecifics'],\n",
    "            }\n",
    "\n",
    "    response = shop_api.execute('GetSingleItem', api_request)\n",
    "\n",
    "    if response.dict()['Ack'] == 'Failure':\n",
    "        raise APIError(response)\n",
    "\n",
    "    df1 = pd.io.json.json_normalize(response.dict()['Item'],  sep='-')\n",
    "\n",
    "    if 'ItemSpecifics-NameValueList' in df1.columns:\n",
    "        df1['ItemSpecifics'] = df1['ItemSpecifics-NameValueList'].apply(nameValue2dict)\n",
    "\n",
    "        df1 = df1.drop('ItemSpecifics-NameValueList', axis=1)\n",
    "\n",
    "        for s in specifics:\n",
    "            if s in df1['ItemSpecifics'].loc[0]:\n",
    "                df1['ItemSpecifics-{}'.format(s)] = df1['ItemSpecifics'].loc[0][s]\n",
    "            else:\n",
    "                df1['ItemSpecifics-{}'.format(s)] = np.nan\n",
    "    \n",
    "    else: \n",
    "         for s in specifics:           \n",
    "            df1['ItemSpecifics-{}'.format(s)] = np.nan\n",
    "    \n",
    "    return df1\n",
    "\n",
    "def itemSpecificGetter(itemid):\n",
    "\n",
    "    api_request = {\n",
    "            # 16231 - saxophones\n",
    "            'ItemID' : itemid,\n",
    "            'IncludeSelector' : ['ItemSpecifics'],\n",
    "            }\n",
    "\n",
    "    response = shop_api.execute('GetSingleItem', api_request)\n",
    "\n",
    "    if response.dict()['Ack'] == 'Failure':\n",
    "        raise APIError(response)\n",
    "\n",
    "    df1 = pd.io.json.json_normalize(response.dict()['Item'],  sep='-')\n",
    "\n",
    "    if 'ItemSpecifics-NameValueList' in df1.columns:\n",
    "        df1['ItemSpecifics'] = df1['ItemSpecifics-NameValueList'].apply(nameValue2dict)\n",
    "\n",
    "        df1 = df1.drop('ItemSpecifics-NameValueList', axis=1)\n",
    "\n",
    "        for s in specifics:\n",
    "            if s in df1['ItemSpecifics'].loc[0]:\n",
    "                df1['ItemSpecifics-{}'.format(s)] = df1['ItemSpecifics'].loc[0][s]\n",
    "            else:\n",
    "                df1['ItemSpecifics-{}'.format(s)] = np.nan\n",
    "    \n",
    "    else: \n",
    "         for s in specifics:           \n",
    "            df1['ItemSpecifics-{}'.format(s)] = np.nan\n",
    "    \n",
    "    return df1\n",
    "\n",
    "\n",
    "def allItemSpecifics(itemIDs):\n",
    "    return pd.concat([itemSpecificGetter(itemid) for itemid in itemIDs])\n",
    "\n",
    "def getItemIds():\n",
    "    yesterday = (datetime.now() - timedelta(days=1)).strftime(\"%m-%d-%Y\")\n",
    "    df = pd.read_csv('data/finding/{}.csv'.format(yesterday), index_col='itemId')\n",
    "    itemIDs = df.index.values\n",
    "    df1 = allItemSpecifics(itemIDs)\n",
    "    df1.join(df).to_csv('data/shopping/{}.csv'.format(yesterday))    \n",
    "\n",
    "\n",
    "itemSpecificGetter(224045256301)"
   ]
  },
  {
   "cell_type": "code",
   "execution_count": 215,
   "metadata": {},
   "outputs": [
    {
     "output_type": "execute_result",
     "data": {
      "text/plain": "                               EndTime  \\\nItemID                                   \n253864995727  2020-07-11T23:50:33.000Z   \n372433869443  2020-07-11T23:50:38.000Z   \n253864995782  2020-07-11T23:50:39.000Z   \n372433869465  2020-07-11T23:50:41.000Z   \n114146766828  2020-07-12T03:28:30.000Z   \n...                                ...   \n203019795919  2020-07-12T20:26:04.000Z   \n203019798088  2020-07-12T20:29:35.000Z   \n392863290256  2020-07-12T21:07:07.000Z   \n324220435020  2020-07-12T21:47:59.000Z   \n333646089544  2020-07-12T21:48:56.000Z   \n\n                                    ViewItemURLForNaturalSearch  \\\nItemID                                                            \n253864995727  https://www.ebay.com/itm/Protec-Bpstrap-Acolch...   \n372433869443  https://www.ebay.com/itm/Protec-Bpstrap-Rembou...   \n253864995782  https://www.ebay.com/itm/Protec-Bpstrap-Imbott...   \n372433869465  https://www.ebay.com/itm/Protec-Bpstrap-Gepols...   \n114146766828  https://www.ebay.com/itm/Lebayle-Studio-Tenor-...   \n...                                                         ...   \n203019795919  https://www.ebay.com/itm/SAXRAX-Baritone-Saxop...   \n203019798088  https://www.ebay.com/itm/SAXRAX-Curved-Soprano...   \n392863290256  https://www.ebay.com/itm/Rico-Royal-Tenor-sax-...   \n324220435020  https://www.ebay.com/itm/Classic-Trevor-J-Jame...   \n333646089544  https://www.ebay.com/itm/Sax-Soprano-Courbe-As...   \n\n                 ListingType         Location  \\\nItemID                                          \n253864995727  FixedPriceItem               UK   \n372433869443  FixedPriceItem               UK   \n253864995782  FixedPriceItem               UK   \n372433869465  FixedPriceItem               UK   \n114146766828  FixedPriceItem      East Boldon   \n...                      ...              ...   \n203019795919  FixedPriceItem  Kirkcaldy, Fife   \n203019798088  FixedPriceItem  Kirkcaldy, Fife   \n392863290256         Chinese                .   \n324220435020         Chinese  Tunbridge Wells   \n333646089544         Chinese           london   \n\n                                                     GalleryURL  \\\nItemID                                                            \n253864995727  https://thumbs4.ebaystatic.com/pict/2538649957...   \n372433869443  https://thumbs4.ebaystatic.com/pict/3724338694...   \n253864995782  https://thumbs3.ebaystatic.com/pict/2538649957...   \n372433869465  https://thumbs2.ebaystatic.com/pict/3724338694...   \n114146766828  https://thumbs1.ebaystatic.com/pict/1141467668...   \n...                                                         ...   \n203019795919  https://thumbs4.ebaystatic.com/pict/2030197959...   \n203019798088  https://thumbs1.ebaystatic.com/pict/2030197980...   \n392863290256  https://thumbs1.ebaystatic.com/pict/3928632902...   \n324220435020  https://thumbs1.ebaystatic.com/pict/3242204350...   \n333646089544  https://thumbs1.ebaystatic.com/pict/3336460895...   \n\n                                                     PictureURL  \\\nItemID                                                            \n253864995727  [https://i.ebayimg.com/00/s/NTIwWDMxMg==/z/H7E...   \n372433869443  [https://i.ebayimg.com/00/s/NTIwWDMxMg==/z/H7E...   \n253864995782  [https://i.ebayimg.com/00/s/NTIwWDMxMg==/z/H7E...   \n372433869465  [https://i.ebayimg.com/00/s/NTIwWDMxMg==/z/H7E...   \n114146766828  [https://i.ebayimg.com/00/s/MTYwMFg2ODY=/z/v5k...   \n...                                                         ...   \n203019795919  [https://i.ebayimg.com/00/s/OTU4WDY0NA==/z/JAk...   \n203019798088  [https://i.ebayimg.com/00/s/MTAyNFg4ODc=/z/uko...   \n392863290256  [https://i.ebayimg.com/00/s/MTIwMFgxNjAw/z/O1U...   \n324220435020  [https://i.ebayimg.com/00/s/MTYwMFgxMjAw/z/UOs...   \n333646089544  [https://i.ebayimg.com/00/s/MTYwMFgxMjAw/z/Xgk...   \n\n             PrimaryCategoryID  \\\nItemID                           \n253864995727             16231   \n372433869443             16231   \n253864995782             16231   \n372433869465             16231   \n114146766828             16231   \n...                        ...   \n203019795919             16231   \n203019798088             16231   \n392863290256             16231   \n324220435020             16231   \n333646089544             16231   \n\n                                            PrimaryCategoryName BidCount  \\\nItemID                                                                     \n253864995727  Instrumentos musicales:Instrumentos de viento ...        0   \n372433869443  Instruments de musique:Instruments à vent (Boi...        0   \n253864995782  Strumenti musicali:Strumenti a fiato: legni:Ba...        0   \n372433869465  Musikinstrumente:Blasinstrumente:Band & Orches...        0   \n114146766828  Musical Instruments:Wind & Woodwind:Band & Orc...        0   \n...                                                         ...      ...   \n203019795919  Musical Instruments:Wind & Woodwind:Band & Orc...        0   \n203019798088  Musical Instruments:Wind & Woodwind:Band & Orc...        0   \n392863290256  Musical Instruments:Wind & Woodwind:Band & Orc...        0   \n324220435020  Musical Instruments:Wind & Woodwind:Band & Orc...        1   \n333646089544  Musical Instruments:Wind & Woodwind:Band & Orc...        0   \n\n             ListingStatus  ... ItemSpecifics-NameValueList-Value  \\\nItemID                      ...                                     \n253864995727        Active  ...                               NaN   \n372433869443        Active  ...                               NaN   \n253864995782        Active  ...                               NaN   \n372433869465        Active  ...                               NaN   \n114146766828        Active  ...                             Tenor   \n...                    ...  ...                               ...   \n203019795919        Active  ...                               NaN   \n203019798088        Active  ...                               NaN   \n392863290256        Active  ...                               NaN   \n324220435020        Active  ...                               NaN   \n333646089544        Active  ...                           Soprano   \n\n             ConditionDescription GlobalShipping BuyItNowAvailable  \\\nItemID                                                               \n253864995727                  NaN            NaN               NaN   \n372433869443                  NaN            NaN               NaN   \n253864995782                  NaN            NaN               NaN   \n372433869465                  NaN            NaN               NaN   \n114146766828                  NaN            NaN               NaN   \n...                           ...            ...               ...   \n203019795919                  NaN            NaN               NaN   \n203019798088                  NaN            NaN               NaN   \n392863290256                  NaN           true               NaN   \n324220435020                  NaN            NaN               NaN   \n333646089544                  NaN            NaN               NaN   \n\n             ConvertedBuyItNowPrice-_currencyID ConvertedBuyItNowPrice-value  \\\nItemID                                                                         \n253864995727                                NaN                          NaN   \n372433869443                                NaN                          NaN   \n253864995782                                NaN                          NaN   \n372433869465                                NaN                          NaN   \n114146766828                                NaN                          NaN   \n...                                         ...                          ...   \n203019795919                                NaN                          NaN   \n203019798088                                NaN                          NaN   \n392863290256                                NaN                          NaN   \n324220435020                                NaN                          NaN   \n333646089544                                NaN                          NaN   \n\n             QuantityAvailableHint QuantityThreshold postalCode  \\\nItemID                                                            \n253864995727                   NaN               NaN        NaN   \n372433869443                   NaN               NaN        NaN   \n253864995782                   NaN               NaN        NaN   \n372433869465                   NaN               NaN        NaN   \n114146766828                   NaN               NaN    NE360PU   \n...                            ...               ...        ...   \n203019795919                   NaN               NaN     KY25PN   \n203019798088                   NaN               NaN     KY25PN   \n392863290256                   NaN               NaN        NaN   \n324220435020                   NaN               NaN     TN25DE   \n333646089544                   NaN               NaN     UB56GF   \n\n                    location  \nItemID                        \n253864995727  United Kingdom  \n372433869443  United Kingdom  \n253864995782  United Kingdom  \n372433869465  United Kingdom  \n114146766828  United Kingdom  \n...                      ...  \n203019795919  United Kingdom  \n203019798088  United Kingdom  \n392863290256  United Kingdom  \n324220435020  United Kingdom  \n333646089544  United Kingdom  \n\n[91 rows x 40 columns]",
      "text/html": "<div>\n<style scoped>\n    .dataframe tbody tr th:only-of-type {\n        vertical-align: middle;\n    }\n\n    .dataframe tbody tr th {\n        vertical-align: top;\n    }\n\n    .dataframe thead th {\n        text-align: right;\n    }\n</style>\n<table border=\"1\" class=\"dataframe\">\n  <thead>\n    <tr style=\"text-align: right;\">\n      <th></th>\n      <th>EndTime</th>\n      <th>ViewItemURLForNaturalSearch</th>\n      <th>ListingType</th>\n      <th>Location</th>\n      <th>GalleryURL</th>\n      <th>PictureURL</th>\n      <th>PrimaryCategoryID</th>\n      <th>PrimaryCategoryName</th>\n      <th>BidCount</th>\n      <th>ListingStatus</th>\n      <th>...</th>\n      <th>ItemSpecifics-NameValueList-Value</th>\n      <th>ConditionDescription</th>\n      <th>GlobalShipping</th>\n      <th>BuyItNowAvailable</th>\n      <th>ConvertedBuyItNowPrice-_currencyID</th>\n      <th>ConvertedBuyItNowPrice-value</th>\n      <th>QuantityAvailableHint</th>\n      <th>QuantityThreshold</th>\n      <th>postalCode</th>\n      <th>location</th>\n    </tr>\n    <tr>\n      <th>ItemID</th>\n      <th></th>\n      <th></th>\n      <th></th>\n      <th></th>\n      <th></th>\n      <th></th>\n      <th></th>\n      <th></th>\n      <th></th>\n      <th></th>\n      <th></th>\n      <th></th>\n      <th></th>\n      <th></th>\n      <th></th>\n      <th></th>\n      <th></th>\n      <th></th>\n      <th></th>\n      <th></th>\n      <th></th>\n    </tr>\n  </thead>\n  <tbody>\n    <tr>\n      <th>253864995727</th>\n      <td>2020-07-11T23:50:33.000Z</td>\n      <td>https://www.ebay.com/itm/Protec-Bpstrap-Acolch...</td>\n      <td>FixedPriceItem</td>\n      <td>UK</td>\n      <td>https://thumbs4.ebaystatic.com/pict/2538649957...</td>\n      <td>[https://i.ebayimg.com/00/s/NTIwWDMxMg==/z/H7E...</td>\n      <td>16231</td>\n      <td>Instrumentos musicales:Instrumentos de viento ...</td>\n      <td>0</td>\n      <td>Active</td>\n      <td>...</td>\n      <td>NaN</td>\n      <td>NaN</td>\n      <td>NaN</td>\n      <td>NaN</td>\n      <td>NaN</td>\n      <td>NaN</td>\n      <td>NaN</td>\n      <td>NaN</td>\n      <td>NaN</td>\n      <td>United Kingdom</td>\n    </tr>\n    <tr>\n      <th>372433869443</th>\n      <td>2020-07-11T23:50:38.000Z</td>\n      <td>https://www.ebay.com/itm/Protec-Bpstrap-Rembou...</td>\n      <td>FixedPriceItem</td>\n      <td>UK</td>\n      <td>https://thumbs4.ebaystatic.com/pict/3724338694...</td>\n      <td>[https://i.ebayimg.com/00/s/NTIwWDMxMg==/z/H7E...</td>\n      <td>16231</td>\n      <td>Instruments de musique:Instruments à vent (Boi...</td>\n      <td>0</td>\n      <td>Active</td>\n      <td>...</td>\n      <td>NaN</td>\n      <td>NaN</td>\n      <td>NaN</td>\n      <td>NaN</td>\n      <td>NaN</td>\n      <td>NaN</td>\n      <td>NaN</td>\n      <td>NaN</td>\n      <td>NaN</td>\n      <td>United Kingdom</td>\n    </tr>\n    <tr>\n      <th>253864995782</th>\n      <td>2020-07-11T23:50:39.000Z</td>\n      <td>https://www.ebay.com/itm/Protec-Bpstrap-Imbott...</td>\n      <td>FixedPriceItem</td>\n      <td>UK</td>\n      <td>https://thumbs3.ebaystatic.com/pict/2538649957...</td>\n      <td>[https://i.ebayimg.com/00/s/NTIwWDMxMg==/z/H7E...</td>\n      <td>16231</td>\n      <td>Strumenti musicali:Strumenti a fiato: legni:Ba...</td>\n      <td>0</td>\n      <td>Active</td>\n      <td>...</td>\n      <td>NaN</td>\n      <td>NaN</td>\n      <td>NaN</td>\n      <td>NaN</td>\n      <td>NaN</td>\n      <td>NaN</td>\n      <td>NaN</td>\n      <td>NaN</td>\n      <td>NaN</td>\n      <td>United Kingdom</td>\n    </tr>\n    <tr>\n      <th>372433869465</th>\n      <td>2020-07-11T23:50:41.000Z</td>\n      <td>https://www.ebay.com/itm/Protec-Bpstrap-Gepols...</td>\n      <td>FixedPriceItem</td>\n      <td>UK</td>\n      <td>https://thumbs2.ebaystatic.com/pict/3724338694...</td>\n      <td>[https://i.ebayimg.com/00/s/NTIwWDMxMg==/z/H7E...</td>\n      <td>16231</td>\n      <td>Musikinstrumente:Blasinstrumente:Band &amp; Orches...</td>\n      <td>0</td>\n      <td>Active</td>\n      <td>...</td>\n      <td>NaN</td>\n      <td>NaN</td>\n      <td>NaN</td>\n      <td>NaN</td>\n      <td>NaN</td>\n      <td>NaN</td>\n      <td>NaN</td>\n      <td>NaN</td>\n      <td>NaN</td>\n      <td>United Kingdom</td>\n    </tr>\n    <tr>\n      <th>114146766828</th>\n      <td>2020-07-12T03:28:30.000Z</td>\n      <td>https://www.ebay.com/itm/Lebayle-Studio-Tenor-...</td>\n      <td>FixedPriceItem</td>\n      <td>East Boldon</td>\n      <td>https://thumbs1.ebaystatic.com/pict/1141467668...</td>\n      <td>[https://i.ebayimg.com/00/s/MTYwMFg2ODY=/z/v5k...</td>\n      <td>16231</td>\n      <td>Musical Instruments:Wind &amp; Woodwind:Band &amp; Orc...</td>\n      <td>0</td>\n      <td>Active</td>\n      <td>...</td>\n      <td>Tenor</td>\n      <td>NaN</td>\n      <td>NaN</td>\n      <td>NaN</td>\n      <td>NaN</td>\n      <td>NaN</td>\n      <td>NaN</td>\n      <td>NaN</td>\n      <td>NE360PU</td>\n      <td>United Kingdom</td>\n    </tr>\n    <tr>\n      <th>...</th>\n      <td>...</td>\n      <td>...</td>\n      <td>...</td>\n      <td>...</td>\n      <td>...</td>\n      <td>...</td>\n      <td>...</td>\n      <td>...</td>\n      <td>...</td>\n      <td>...</td>\n      <td>...</td>\n      <td>...</td>\n      <td>...</td>\n      <td>...</td>\n      <td>...</td>\n      <td>...</td>\n      <td>...</td>\n      <td>...</td>\n      <td>...</td>\n      <td>...</td>\n      <td>...</td>\n    </tr>\n    <tr>\n      <th>203019795919</th>\n      <td>2020-07-12T20:26:04.000Z</td>\n      <td>https://www.ebay.com/itm/SAXRAX-Baritone-Saxop...</td>\n      <td>FixedPriceItem</td>\n      <td>Kirkcaldy, Fife</td>\n      <td>https://thumbs4.ebaystatic.com/pict/2030197959...</td>\n      <td>[https://i.ebayimg.com/00/s/OTU4WDY0NA==/z/JAk...</td>\n      <td>16231</td>\n      <td>Musical Instruments:Wind &amp; Woodwind:Band &amp; Orc...</td>\n      <td>0</td>\n      <td>Active</td>\n      <td>...</td>\n      <td>NaN</td>\n      <td>NaN</td>\n      <td>NaN</td>\n      <td>NaN</td>\n      <td>NaN</td>\n      <td>NaN</td>\n      <td>NaN</td>\n      <td>NaN</td>\n      <td>KY25PN</td>\n      <td>United Kingdom</td>\n    </tr>\n    <tr>\n      <th>203019798088</th>\n      <td>2020-07-12T20:29:35.000Z</td>\n      <td>https://www.ebay.com/itm/SAXRAX-Curved-Soprano...</td>\n      <td>FixedPriceItem</td>\n      <td>Kirkcaldy, Fife</td>\n      <td>https://thumbs1.ebaystatic.com/pict/2030197980...</td>\n      <td>[https://i.ebayimg.com/00/s/MTAyNFg4ODc=/z/uko...</td>\n      <td>16231</td>\n      <td>Musical Instruments:Wind &amp; Woodwind:Band &amp; Orc...</td>\n      <td>0</td>\n      <td>Active</td>\n      <td>...</td>\n      <td>NaN</td>\n      <td>NaN</td>\n      <td>NaN</td>\n      <td>NaN</td>\n      <td>NaN</td>\n      <td>NaN</td>\n      <td>NaN</td>\n      <td>NaN</td>\n      <td>KY25PN</td>\n      <td>United Kingdom</td>\n    </tr>\n    <tr>\n      <th>392863290256</th>\n      <td>2020-07-12T21:07:07.000Z</td>\n      <td>https://www.ebay.com/itm/Rico-Royal-Tenor-sax-...</td>\n      <td>Chinese</td>\n      <td>.</td>\n      <td>https://thumbs1.ebaystatic.com/pict/3928632902...</td>\n      <td>[https://i.ebayimg.com/00/s/MTIwMFgxNjAw/z/O1U...</td>\n      <td>16231</td>\n      <td>Musical Instruments:Wind &amp; Woodwind:Band &amp; Orc...</td>\n      <td>0</td>\n      <td>Active</td>\n      <td>...</td>\n      <td>NaN</td>\n      <td>NaN</td>\n      <td>true</td>\n      <td>NaN</td>\n      <td>NaN</td>\n      <td>NaN</td>\n      <td>NaN</td>\n      <td>NaN</td>\n      <td>NaN</td>\n      <td>United Kingdom</td>\n    </tr>\n    <tr>\n      <th>324220435020</th>\n      <td>2020-07-12T21:47:59.000Z</td>\n      <td>https://www.ebay.com/itm/Classic-Trevor-J-Jame...</td>\n      <td>Chinese</td>\n      <td>Tunbridge Wells</td>\n      <td>https://thumbs1.ebaystatic.com/pict/3242204350...</td>\n      <td>[https://i.ebayimg.com/00/s/MTYwMFgxMjAw/z/UOs...</td>\n      <td>16231</td>\n      <td>Musical Instruments:Wind &amp; Woodwind:Band &amp; Orc...</td>\n      <td>1</td>\n      <td>Active</td>\n      <td>...</td>\n      <td>NaN</td>\n      <td>NaN</td>\n      <td>NaN</td>\n      <td>NaN</td>\n      <td>NaN</td>\n      <td>NaN</td>\n      <td>NaN</td>\n      <td>NaN</td>\n      <td>TN25DE</td>\n      <td>United Kingdom</td>\n    </tr>\n    <tr>\n      <th>333646089544</th>\n      <td>2020-07-12T21:48:56.000Z</td>\n      <td>https://www.ebay.com/itm/Sax-Soprano-Courbe-As...</td>\n      <td>Chinese</td>\n      <td>london</td>\n      <td>https://thumbs1.ebaystatic.com/pict/3336460895...</td>\n      <td>[https://i.ebayimg.com/00/s/MTYwMFgxMjAw/z/Xgk...</td>\n      <td>16231</td>\n      <td>Musical Instruments:Wind &amp; Woodwind:Band &amp; Orc...</td>\n      <td>0</td>\n      <td>Active</td>\n      <td>...</td>\n      <td>Soprano</td>\n      <td>NaN</td>\n      <td>NaN</td>\n      <td>NaN</td>\n      <td>NaN</td>\n      <td>NaN</td>\n      <td>NaN</td>\n      <td>NaN</td>\n      <td>UB56GF</td>\n      <td>United Kingdom</td>\n    </tr>\n  </tbody>\n</table>\n<p>91 rows × 40 columns</p>\n</div>"
     },
     "metadata": {},
     "execution_count": 215
    }
   ],
   "source": [
    "df1.join(df[['postalCode', 'location']])"
   ]
  },
  {
   "cell_type": "code",
   "execution_count": 213,
   "metadata": {},
   "outputs": [],
   "source": [
    "df1 = df1.set_index('ItemID')"
   ]
  },
  {
   "cell_type": "code",
   "execution_count": 9,
   "metadata": {
    "tags": []
   },
   "outputs": [
    {
     "output_type": "stream",
     "name": "stderr",
     "text": "b'Skipping line 125: expected 10 fields, saw 12\\nSkipping line 128: expected 10 fields, saw 12\\n'\n"
    },
    {
     "output_type": "execute_result",
     "data": {
      "text/plain": "Name\nBody Finish                      [Amber Lacquer, Black Lacquer, Black Nickel-Pl...\nBody Material                    [Brass, Copper, Nickel Silber, Red Brass, Silv...\nBrand                            [Unbranded, Adler, Alexander, Altus, Amati, Ar...\nCountry/Region of Manufacture    [Unknown, Afghanistan, Albania, Algeria, Ameri...\nCustom Bundle                                                            [No, Yes]\nKey Finish                       [Brass, Gold Lacquered, Silver-Plated, Unlacqu...\nMPN                                                               [Does Not Apply]\nModified Item                                                            [No, Yes]\nSkill Level                       [Beginner, Intermediate, Professional, Children]\nType                                         [Alto, Baritone/Bass, Soprano, Tenor]\nName: Value, dtype: object"
     },
     "metadata": {},
     "execution_count": 9
    }
   ],
   "source": [
    "import pandas as pd\n",
    "specifics = pd.read_csv('SaxophoneSpecifics.csv', delimiter = '\\t', error_bad_lines=False).groupby('Name')['Value'].unique()\n",
    "specifics"
   ]
  },
  {
   "cell_type": "code",
   "execution_count": 168,
   "metadata": {},
   "outputs": [
    {
     "output_type": "execute_result",
     "data": {
      "text/plain": "                                                          title  \\\nitemId                                                            \n392722209060                   weltklang alto saxophone soloist   \n303615307035                        Vintage Baritone Saxophone.   \n193202614928                         REIG Pocoyo Musical Carpet   \n203018057769            AirCell Suspension Saxophone Neck Strap   \n372800823491  Wood Stone Original Alto Sax Ligature (Selmer ...   \n\n                                                    viewItemURL postalCode  \\\nitemId                                                                       \n392722209060  https://www.ebay.com/itm/weltklang-alto-saxoph...     SL37QU   \n303615307035  https://www.ebay.com/itm/Vintage-Baritone-Saxo...    LS212BE   \n193202614928  https://www.ebay.com/itm/REIG-Pocoyo-Musical-C...        NaN   \n203018057769  https://www.ebay.com/itm/AirCell-Suspension-Sa...     KY25PN   \n372800823491  https://www.ebay.com/itm/Wood-Stone-Original-A...     SL68BT   \n\n             sellerInfo-sellerUserName  \\\nitemId                                   \n392722209060           fantasticdeals3   \n303615307035                6688chrisc   \n193202614928                thepomshop   \n203018057769            liquid-silicon   \n372800823491             windcraft-ltd   \n\n             shippingInfo-shippingServiceCost-_currencyId  \\\nitemId                                                      \n392722209060                                          USD   \n303615307035                                          NaN   \n193202614928                                          USD   \n203018057769                                          NaN   \n372800823491                                          USD   \n\n             shippingInfo-shippingServiceCost-value  \\\nitemId                                                \n392722209060                                  80.95   \n303615307035                                    NaN   \n193202614928                                   6.95   \n203018057769                                    NaN   \n372800823491                                  12.49   \n\n             sellingStatus-currentPrice-_currencyId  \\\nitemId                                                \n392722209060                                    GBP   \n303615307035                                    GBP   \n193202614928                                    AUD   \n203018057769                                    GBP   \n372800823491                                    GBP   \n\n             sellingStatus-currentPrice-value listingInfo-bestOfferEnabled  \\\nitemId                                                                       \n392722209060                            395.0                        false   \n303615307035                            595.0                         true   \n193202614928                            63.32                        false   \n203018057769                            19.95                        false   \n372800823491                           145.04                        false   \n\n             listingInfo-buyItNowAvailable     listingInfo-startTime  \\\nitemId                                                                 \n392722209060                         false  2020-03-10T20:27:38.000Z   \n303615307035                         false  2020-07-05T20:42:53.000Z   \n193202614928                         false  2019-11-10T20:52:39.000Z   \n203018057769                         false  2020-06-10T21:13:16.000Z   \n372800823491                         false  2019-10-10T21:23:33.000Z   \n\n                   listingInfo-endTime listingInfo-watchCount  \\\nitemId                                                          \n392722209060  2020-07-10T20:27:38.000Z                      2   \n303615307035  2020-07-10T20:42:53.000Z                     13   \n193202614928  2020-07-10T20:52:39.000Z                    NaN   \n203018057769  2020-07-10T21:13:16.000Z                    NaN   \n372800823491  2020-07-10T21:23:33.000Z                      1   \n\n             condition-conditionId condition-conditionDisplayName  \nitemId                                                             \n392722209060                  3000                           Used  \n303615307035                  3000                           Used  \n193202614928                  1000                            New  \n203018057769                  1000                            New  \n372800823491                  1000                            New  ",
      "text/html": "<div>\n<style scoped>\n    .dataframe tbody tr th:only-of-type {\n        vertical-align: middle;\n    }\n\n    .dataframe tbody tr th {\n        vertical-align: top;\n    }\n\n    .dataframe thead th {\n        text-align: right;\n    }\n</style>\n<table border=\"1\" class=\"dataframe\">\n  <thead>\n    <tr style=\"text-align: right;\">\n      <th></th>\n      <th>title</th>\n      <th>viewItemURL</th>\n      <th>postalCode</th>\n      <th>sellerInfo-sellerUserName</th>\n      <th>shippingInfo-shippingServiceCost-_currencyId</th>\n      <th>shippingInfo-shippingServiceCost-value</th>\n      <th>sellingStatus-currentPrice-_currencyId</th>\n      <th>sellingStatus-currentPrice-value</th>\n      <th>listingInfo-bestOfferEnabled</th>\n      <th>listingInfo-buyItNowAvailable</th>\n      <th>listingInfo-startTime</th>\n      <th>listingInfo-endTime</th>\n      <th>listingInfo-watchCount</th>\n      <th>condition-conditionId</th>\n      <th>condition-conditionDisplayName</th>\n    </tr>\n    <tr>\n      <th>itemId</th>\n      <th></th>\n      <th></th>\n      <th></th>\n      <th></th>\n      <th></th>\n      <th></th>\n      <th></th>\n      <th></th>\n      <th></th>\n      <th></th>\n      <th></th>\n      <th></th>\n      <th></th>\n      <th></th>\n      <th></th>\n    </tr>\n  </thead>\n  <tbody>\n    <tr>\n      <th>392722209060</th>\n      <td>weltklang alto saxophone soloist</td>\n      <td>https://www.ebay.com/itm/weltklang-alto-saxoph...</td>\n      <td>SL37QU</td>\n      <td>fantasticdeals3</td>\n      <td>USD</td>\n      <td>80.95</td>\n      <td>GBP</td>\n      <td>395.0</td>\n      <td>false</td>\n      <td>false</td>\n      <td>2020-03-10T20:27:38.000Z</td>\n      <td>2020-07-10T20:27:38.000Z</td>\n      <td>2</td>\n      <td>3000</td>\n      <td>Used</td>\n    </tr>\n    <tr>\n      <th>303615307035</th>\n      <td>Vintage Baritone Saxophone.</td>\n      <td>https://www.ebay.com/itm/Vintage-Baritone-Saxo...</td>\n      <td>LS212BE</td>\n      <td>6688chrisc</td>\n      <td>NaN</td>\n      <td>NaN</td>\n      <td>GBP</td>\n      <td>595.0</td>\n      <td>true</td>\n      <td>false</td>\n      <td>2020-07-05T20:42:53.000Z</td>\n      <td>2020-07-10T20:42:53.000Z</td>\n      <td>13</td>\n      <td>3000</td>\n      <td>Used</td>\n    </tr>\n    <tr>\n      <th>193202614928</th>\n      <td>REIG Pocoyo Musical Carpet</td>\n      <td>https://www.ebay.com/itm/REIG-Pocoyo-Musical-C...</td>\n      <td>NaN</td>\n      <td>thepomshop</td>\n      <td>USD</td>\n      <td>6.95</td>\n      <td>AUD</td>\n      <td>63.32</td>\n      <td>false</td>\n      <td>false</td>\n      <td>2019-11-10T20:52:39.000Z</td>\n      <td>2020-07-10T20:52:39.000Z</td>\n      <td>NaN</td>\n      <td>1000</td>\n      <td>New</td>\n    </tr>\n    <tr>\n      <th>203018057769</th>\n      <td>AirCell Suspension Saxophone Neck Strap</td>\n      <td>https://www.ebay.com/itm/AirCell-Suspension-Sa...</td>\n      <td>KY25PN</td>\n      <td>liquid-silicon</td>\n      <td>NaN</td>\n      <td>NaN</td>\n      <td>GBP</td>\n      <td>19.95</td>\n      <td>false</td>\n      <td>false</td>\n      <td>2020-06-10T21:13:16.000Z</td>\n      <td>2020-07-10T21:13:16.000Z</td>\n      <td>NaN</td>\n      <td>1000</td>\n      <td>New</td>\n    </tr>\n    <tr>\n      <th>372800823491</th>\n      <td>Wood Stone Original Alto Sax Ligature (Selmer ...</td>\n      <td>https://www.ebay.com/itm/Wood-Stone-Original-A...</td>\n      <td>SL68BT</td>\n      <td>windcraft-ltd</td>\n      <td>USD</td>\n      <td>12.49</td>\n      <td>GBP</td>\n      <td>145.04</td>\n      <td>false</td>\n      <td>false</td>\n      <td>2019-10-10T21:23:33.000Z</td>\n      <td>2020-07-10T21:23:33.000Z</td>\n      <td>1</td>\n      <td>1000</td>\n      <td>New</td>\n    </tr>\n  </tbody>\n</table>\n</div>"
     },
     "metadata": {},
     "execution_count": 168
    }
   ],
   "source": [
    "df.head()"
   ]
  },
  {
   "cell_type": "code",
   "execution_count": 145,
   "metadata": {},
   "outputs": [
    {
     "output_type": "execute_result",
     "data": {
      "text/plain": "Index(['ItemID', 'EndTime', 'ViewItemURLForNaturalSearch', 'ListingType',\n       'Location', 'GalleryURL', 'PictureURL', 'PrimaryCategoryID',\n       'PrimaryCategoryName', 'BidCount', 'ListingStatus', 'TimeLeft', 'Title',\n       'Country', 'AutoPay', 'ConditionID', 'ConditionDisplayName',\n       'GlobalShipping', 'ConvertedCurrentPrice-_currencyID',\n       'ConvertedCurrentPrice-value', 'ItemSpecifics', 'ItemSpecifics-Brand',\n       'ItemSpecifics-Type', 'ItemSpecifics-Skill Level',\n       'ItemSpecifics-Body Finish', 'ItemSpecifics-Body Material',\n       'ItemSpecifics-Key Finish', 'ItemSpecifics-Custom Bundle',\n       'ItemSpecifics-Modified Item', 'ItemSpecifics-Modified Description',\n       'ItemSpecifics-Country/Region of Manufacture'],\n      dtype='object')"
     },
     "metadata": {},
     "execution_count": 145
    }
   ],
   "source": [
    "import numpy as np\n",
    "\n",
    "def nameValue2dict(nv):\n",
    "    return {item['Name']:item['Value'] for item in nv}\n",
    "\n",
    "\n"
   ]
  },
  {
   "cell_type": "code",
   "execution_count": 147,
   "metadata": {},
   "outputs": [
    {
     "output_type": "execute_result",
     "data": {
      "text/plain": "         ItemID                   EndTime  \\\n0  392722209060  2020-08-10T20:27:38.000Z   \n\n                         ViewItemURLForNaturalSearch     ListingType Location  \\\n0  https://www.ebay.com/itm/weltklang-alto-saxoph...  FixedPriceItem   Slough   \n\n                                          GalleryURL  \\\n0  https://thumbs1.ebaystatic.com/pict/3927222090...   \n\n                                          PictureURL PrimaryCategoryID  \\\n0  [https://i.ebayimg.com/00/s/MTIwMFgxNjAw/z/2ak...             16231   \n\n                                 PrimaryCategoryName BidCount  ...  \\\n0  Musical Instruments:Wind & Woodwind:Band & Orc...        0  ...   \n\n  ItemSpecifics-Brand ItemSpecifics-Type ItemSpecifics-Skill Level  \\\n0           Weltklang               Alto                       all   \n\n  ItemSpecifics-Body Finish ItemSpecifics-Body Material  \\\n0              Gold Lacquer                         NaN   \n\n  ItemSpecifics-Key Finish ItemSpecifics-Custom Bundle  \\\n0                      NaN                         NaN   \n\n  ItemSpecifics-Modified Item ItemSpecifics-Modified Description  \\\n0                         NaN                                NaN   \n\n  ItemSpecifics-Country/Region of Manufacture  \n0                                         NaN  \n\n[1 rows x 31 columns]",
      "text/html": "<div>\n<style scoped>\n    .dataframe tbody tr th:only-of-type {\n        vertical-align: middle;\n    }\n\n    .dataframe tbody tr th {\n        vertical-align: top;\n    }\n\n    .dataframe thead th {\n        text-align: right;\n    }\n</style>\n<table border=\"1\" class=\"dataframe\">\n  <thead>\n    <tr style=\"text-align: right;\">\n      <th></th>\n      <th>ItemID</th>\n      <th>EndTime</th>\n      <th>ViewItemURLForNaturalSearch</th>\n      <th>ListingType</th>\n      <th>Location</th>\n      <th>GalleryURL</th>\n      <th>PictureURL</th>\n      <th>PrimaryCategoryID</th>\n      <th>PrimaryCategoryName</th>\n      <th>BidCount</th>\n      <th>...</th>\n      <th>ItemSpecifics-Brand</th>\n      <th>ItemSpecifics-Type</th>\n      <th>ItemSpecifics-Skill Level</th>\n      <th>ItemSpecifics-Body Finish</th>\n      <th>ItemSpecifics-Body Material</th>\n      <th>ItemSpecifics-Key Finish</th>\n      <th>ItemSpecifics-Custom Bundle</th>\n      <th>ItemSpecifics-Modified Item</th>\n      <th>ItemSpecifics-Modified Description</th>\n      <th>ItemSpecifics-Country/Region of Manufacture</th>\n    </tr>\n  </thead>\n  <tbody>\n    <tr>\n      <th>0</th>\n      <td>392722209060</td>\n      <td>2020-08-10T20:27:38.000Z</td>\n      <td>https://www.ebay.com/itm/weltklang-alto-saxoph...</td>\n      <td>FixedPriceItem</td>\n      <td>Slough</td>\n      <td>https://thumbs1.ebaystatic.com/pict/3927222090...</td>\n      <td>[https://i.ebayimg.com/00/s/MTIwMFgxNjAw/z/2ak...</td>\n      <td>16231</td>\n      <td>Musical Instruments:Wind &amp; Woodwind:Band &amp; Orc...</td>\n      <td>0</td>\n      <td>...</td>\n      <td>Weltklang</td>\n      <td>Alto</td>\n      <td>all</td>\n      <td>Gold Lacquer</td>\n      <td>NaN</td>\n      <td>NaN</td>\n      <td>NaN</td>\n      <td>NaN</td>\n      <td>NaN</td>\n      <td>NaN</td>\n    </tr>\n  </tbody>\n</table>\n<p>1 rows × 31 columns</p>\n</div>"
     },
     "metadata": {},
     "execution_count": 147
    }
   ],
   "source": [
    "df1"
   ]
  },
  {
   "cell_type": "code",
   "execution_count": 61,
   "metadata": {},
   "outputs": [
    {
     "output_type": "execute_result",
     "data": {
      "text/plain": "<matplotlib.axes._subplots.AxesSubplot at 0x7fb5d6728150>"
     },
     "metadata": {},
     "execution_count": 61
    },
    {
     "output_type": "display_data",
     "data": {
      "text/plain": "<Figure size 1080x720 with 1 Axes>",
      "image/svg+xml": "<?xml version=\"1.0\" encoding=\"utf-8\" standalone=\"no\"?>\n<!DOCTYPE svg PUBLIC \"-//W3C//DTD SVG 1.1//EN\"\n  \"http://www.w3.org/Graphics/SVG/1.1/DTD/svg11.dtd\">\n<!-- Created with matplotlib (https://matplotlib.org/) -->\n<svg height=\"574.678125pt\" version=\"1.1\" viewBox=\"0 0 871.125 574.678125\" width=\"871.125pt\" xmlns=\"http://www.w3.org/2000/svg\" xmlns:xlink=\"http://www.w3.org/1999/xlink\">\n <defs>\n  <style type=\"text/css\">\n*{stroke-linecap:butt;stroke-linejoin:round;}\n  </style>\n </defs>\n <g id=\"figure_1\">\n  <g id=\"patch_1\">\n   <path d=\"M 0 574.678125 \nL 871.125 574.678125 \nL 871.125 0 \nL 0 0 \nz\n\" style=\"fill:none;\"/>\n  </g>\n  <g id=\"axes_1\">\n   <g id=\"patch_2\">\n    <path d=\"M 26.925 550.8 \nL 863.925 550.8 \nL 863.925 7.2 \nL 26.925 7.2 \nz\n\" style=\"fill:#ffffff;\"/>\n   </g>\n   <g id=\"patch_3\">\n    <path clip-path=\"url(#pc85b7ed741)\" d=\"M 64.970455 550.8 \nL 141.061364 550.8 \nL 141.061364 536.807722 \nL 64.970455 536.807722 \nz\n\" style=\"fill:#1f77b4;\"/>\n   </g>\n   <g id=\"patch_4\">\n    <path clip-path=\"url(#pc85b7ed741)\" d=\"M 141.061364 550.8 \nL 217.152273 550.8 \nL 217.152273 522.815444 \nL 141.061364 522.815444 \nz\n\" style=\"fill:#1f77b4;\"/>\n   </g>\n   <g id=\"patch_5\">\n    <path clip-path=\"url(#pc85b7ed741)\" d=\"M 217.152273 550.8 \nL 293.243182 550.8 \nL 293.243182 550.8 \nL 217.152273 550.8 \nz\n\" style=\"fill:#1f77b4;\"/>\n   </g>\n   <g id=\"patch_6\">\n    <path clip-path=\"url(#pc85b7ed741)\" d=\"M 293.243182 550.8 \nL 369.334091 550.8 \nL 369.334091 550.8 \nL 293.243182 550.8 \nz\n\" style=\"fill:#1f77b4;\"/>\n   </g>\n   <g id=\"patch_7\">\n    <path clip-path=\"url(#pc85b7ed741)\" d=\"M 369.334091 550.8 \nL 445.425 550.8 \nL 445.425 550.8 \nL 369.334091 550.8 \nz\n\" style=\"fill:#1f77b4;\"/>\n   </g>\n   <g id=\"patch_8\">\n    <path clip-path=\"url(#pc85b7ed741)\" d=\"M 445.425 550.8 \nL 521.515909 550.8 \nL 521.515909 494.830888 \nL 445.425 494.830888 \nz\n\" style=\"fill:#1f77b4;\"/>\n   </g>\n   <g id=\"patch_9\">\n    <path clip-path=\"url(#pc85b7ed741)\" d=\"M 521.515909 550.8 \nL 597.606818 550.8 \nL 597.606818 522.815444 \nL 521.515909 522.815444 \nz\n\" style=\"fill:#1f77b4;\"/>\n   </g>\n   <g id=\"patch_10\">\n    <path clip-path=\"url(#pc85b7ed741)\" d=\"M 597.606818 550.8 \nL 673.697727 550.8 \nL 673.697727 466.846332 \nL 597.606818 466.846332 \nz\n\" style=\"fill:#1f77b4;\"/>\n   </g>\n   <g id=\"patch_11\">\n    <path clip-path=\"url(#pc85b7ed741)\" d=\"M 673.697727 550.8 \nL 749.788636 550.8 \nL 749.788636 396.884942 \nL 673.697727 396.884942 \nz\n\" style=\"fill:#1f77b4;\"/>\n   </g>\n   <g id=\"patch_12\">\n    <path clip-path=\"url(#pc85b7ed741)\" d=\"M 749.788636 550.8 \nL 825.879545 550.8 \nL 825.879545 33.085714 \nL 749.788636 33.085714 \nz\n\" style=\"fill:#1f77b4;\"/>\n   </g>\n   <g id=\"matplotlib.axis_1\">\n    <g id=\"xtick_1\">\n     <g id=\"line2d_1\">\n      <path clip-path=\"url(#pc85b7ed741)\" d=\"M 105.098457 550.8 \nL 105.098457 7.2 \n\" style=\"fill:none;stroke:#b0b0b0;stroke-linecap:square;stroke-width:0.8;\"/>\n     </g>\n     <g id=\"line2d_2\">\n      <defs>\n       <path d=\"M 0 0 \nL 0 3.5 \n\" id=\"mbdb32e997d\" style=\"stroke:#000000;stroke-width:0.8;\"/>\n      </defs>\n      <g>\n       <use style=\"stroke:#000000;stroke-width:0.8;\" x=\"105.098457\" xlink:href=\"#mbdb32e997d\" y=\"550.8\"/>\n      </g>\n     </g>\n     <g id=\"text_1\">\n      <!-- 2015 -->\n      <defs>\n       <path d=\"M 19.1875 8.296875 \nL 53.609375 8.296875 \nL 53.609375 0 \nL 7.328125 0 \nL 7.328125 8.296875 \nQ 12.9375 14.109375 22.625 23.890625 \nQ 32.328125 33.6875 34.8125 36.53125 \nQ 39.546875 41.84375 41.421875 45.53125 \nQ 43.3125 49.21875 43.3125 52.78125 \nQ 43.3125 58.59375 39.234375 62.25 \nQ 35.15625 65.921875 28.609375 65.921875 \nQ 23.96875 65.921875 18.8125 64.3125 \nQ 13.671875 62.703125 7.8125 59.421875 \nL 7.8125 69.390625 \nQ 13.765625 71.78125 18.9375 73 \nQ 24.125 74.21875 28.421875 74.21875 \nQ 39.75 74.21875 46.484375 68.546875 \nQ 53.21875 62.890625 53.21875 53.421875 \nQ 53.21875 48.921875 51.53125 44.890625 \nQ 49.859375 40.875 45.40625 35.40625 \nQ 44.1875 33.984375 37.640625 27.21875 \nQ 31.109375 20.453125 19.1875 8.296875 \nz\n\" id=\"DejaVuSans-50\"/>\n       <path d=\"M 31.78125 66.40625 \nQ 24.171875 66.40625 20.328125 58.90625 \nQ 16.5 51.421875 16.5 36.375 \nQ 16.5 21.390625 20.328125 13.890625 \nQ 24.171875 6.390625 31.78125 6.390625 \nQ 39.453125 6.390625 43.28125 13.890625 \nQ 47.125 21.390625 47.125 36.375 \nQ 47.125 51.421875 43.28125 58.90625 \nQ 39.453125 66.40625 31.78125 66.40625 \nz\nM 31.78125 74.21875 \nQ 44.046875 74.21875 50.515625 64.515625 \nQ 56.984375 54.828125 56.984375 36.375 \nQ 56.984375 17.96875 50.515625 8.265625 \nQ 44.046875 -1.421875 31.78125 -1.421875 \nQ 19.53125 -1.421875 13.0625 8.265625 \nQ 6.59375 17.96875 6.59375 36.375 \nQ 6.59375 54.828125 13.0625 64.515625 \nQ 19.53125 74.21875 31.78125 74.21875 \nz\n\" id=\"DejaVuSans-48\"/>\n       <path d=\"M 12.40625 8.296875 \nL 28.515625 8.296875 \nL 28.515625 63.921875 \nL 10.984375 60.40625 \nL 10.984375 69.390625 \nL 28.421875 72.90625 \nL 38.28125 72.90625 \nL 38.28125 8.296875 \nL 54.390625 8.296875 \nL 54.390625 0 \nL 12.40625 0 \nz\n\" id=\"DejaVuSans-49\"/>\n       <path d=\"M 10.796875 72.90625 \nL 49.515625 72.90625 \nL 49.515625 64.59375 \nL 19.828125 64.59375 \nL 19.828125 46.734375 \nQ 21.96875 47.46875 24.109375 47.828125 \nQ 26.265625 48.1875 28.421875 48.1875 \nQ 40.625 48.1875 47.75 41.5 \nQ 54.890625 34.8125 54.890625 23.390625 \nQ 54.890625 11.625 47.5625 5.09375 \nQ 40.234375 -1.421875 26.90625 -1.421875 \nQ 22.3125 -1.421875 17.546875 -0.640625 \nQ 12.796875 0.140625 7.71875 1.703125 \nL 7.71875 11.625 \nQ 12.109375 9.234375 16.796875 8.0625 \nQ 21.484375 6.890625 26.703125 6.890625 \nQ 35.15625 6.890625 40.078125 11.328125 \nQ 45.015625 15.765625 45.015625 23.390625 \nQ 45.015625 31 40.078125 35.4375 \nQ 35.15625 39.890625 26.703125 39.890625 \nQ 22.75 39.890625 18.8125 39.015625 \nQ 14.890625 38.140625 10.796875 36.28125 \nz\n\" id=\"DejaVuSans-53\"/>\n      </defs>\n      <g transform=\"translate(92.373457 565.398438)scale(0.1 -0.1)\">\n       <use xlink:href=\"#DejaVuSans-50\"/>\n       <use x=\"63.623047\" xlink:href=\"#DejaVuSans-48\"/>\n       <use x=\"127.246094\" xlink:href=\"#DejaVuSans-49\"/>\n       <use x=\"190.869141\" xlink:href=\"#DejaVuSans-53\"/>\n      </g>\n     </g>\n    </g>\n    <g id=\"xtick_2\">\n     <g id=\"line2d_3\">\n      <path clip-path=\"url(#pc85b7ed741)\" d=\"M 235.797014 550.8 \nL 235.797014 7.2 \n\" style=\"fill:none;stroke:#b0b0b0;stroke-linecap:square;stroke-width:0.8;\"/>\n     </g>\n     <g id=\"line2d_4\">\n      <g>\n       <use style=\"stroke:#000000;stroke-width:0.8;\" x=\"235.797014\" xlink:href=\"#mbdb32e997d\" y=\"550.8\"/>\n      </g>\n     </g>\n     <g id=\"text_2\">\n      <!-- 2016 -->\n      <defs>\n       <path d=\"M 33.015625 40.375 \nQ 26.375 40.375 22.484375 35.828125 \nQ 18.609375 31.296875 18.609375 23.390625 \nQ 18.609375 15.53125 22.484375 10.953125 \nQ 26.375 6.390625 33.015625 6.390625 \nQ 39.65625 6.390625 43.53125 10.953125 \nQ 47.40625 15.53125 47.40625 23.390625 \nQ 47.40625 31.296875 43.53125 35.828125 \nQ 39.65625 40.375 33.015625 40.375 \nz\nM 52.59375 71.296875 \nL 52.59375 62.3125 \nQ 48.875 64.0625 45.09375 64.984375 \nQ 41.3125 65.921875 37.59375 65.921875 \nQ 27.828125 65.921875 22.671875 59.328125 \nQ 17.53125 52.734375 16.796875 39.40625 \nQ 19.671875 43.65625 24.015625 45.921875 \nQ 28.375 48.1875 33.59375 48.1875 \nQ 44.578125 48.1875 50.953125 41.515625 \nQ 57.328125 34.859375 57.328125 23.390625 \nQ 57.328125 12.15625 50.6875 5.359375 \nQ 44.046875 -1.421875 33.015625 -1.421875 \nQ 20.359375 -1.421875 13.671875 8.265625 \nQ 6.984375 17.96875 6.984375 36.375 \nQ 6.984375 53.65625 15.1875 63.9375 \nQ 23.390625 74.21875 37.203125 74.21875 \nQ 40.921875 74.21875 44.703125 73.484375 \nQ 48.484375 72.75 52.59375 71.296875 \nz\n\" id=\"DejaVuSans-54\"/>\n      </defs>\n      <g transform=\"translate(223.072014 565.398438)scale(0.1 -0.1)\">\n       <use xlink:href=\"#DejaVuSans-50\"/>\n       <use x=\"63.623047\" xlink:href=\"#DejaVuSans-48\"/>\n       <use x=\"127.246094\" xlink:href=\"#DejaVuSans-49\"/>\n       <use x=\"190.869141\" xlink:href=\"#DejaVuSans-54\"/>\n      </g>\n     </g>\n    </g>\n    <g id=\"xtick_3\">\n     <g id=\"line2d_5\">\n      <path clip-path=\"url(#pc85b7ed741)\" d=\"M 366.853649 550.8 \nL 366.853649 7.2 \n\" style=\"fill:none;stroke:#b0b0b0;stroke-linecap:square;stroke-width:0.8;\"/>\n     </g>\n     <g id=\"line2d_6\">\n      <g>\n       <use style=\"stroke:#000000;stroke-width:0.8;\" x=\"366.853649\" xlink:href=\"#mbdb32e997d\" y=\"550.8\"/>\n      </g>\n     </g>\n     <g id=\"text_3\">\n      <!-- 2017 -->\n      <defs>\n       <path d=\"M 8.203125 72.90625 \nL 55.078125 72.90625 \nL 55.078125 68.703125 \nL 28.609375 0 \nL 18.3125 0 \nL 43.21875 64.59375 \nL 8.203125 64.59375 \nz\n\" id=\"DejaVuSans-55\"/>\n      </defs>\n      <g transform=\"translate(354.128649 565.398438)scale(0.1 -0.1)\">\n       <use xlink:href=\"#DejaVuSans-50\"/>\n       <use x=\"63.623047\" xlink:href=\"#DejaVuSans-48\"/>\n       <use x=\"127.246094\" xlink:href=\"#DejaVuSans-49\"/>\n       <use x=\"190.869141\" xlink:href=\"#DejaVuSans-55\"/>\n      </g>\n     </g>\n    </g>\n    <g id=\"xtick_4\">\n     <g id=\"line2d_7\">\n      <path clip-path=\"url(#pc85b7ed741)\" d=\"M 497.552206 550.8 \nL 497.552206 7.2 \n\" style=\"fill:none;stroke:#b0b0b0;stroke-linecap:square;stroke-width:0.8;\"/>\n     </g>\n     <g id=\"line2d_8\">\n      <g>\n       <use style=\"stroke:#000000;stroke-width:0.8;\" x=\"497.552206\" xlink:href=\"#mbdb32e997d\" y=\"550.8\"/>\n      </g>\n     </g>\n     <g id=\"text_4\">\n      <!-- 2018 -->\n      <defs>\n       <path d=\"M 31.78125 34.625 \nQ 24.75 34.625 20.71875 30.859375 \nQ 16.703125 27.09375 16.703125 20.515625 \nQ 16.703125 13.921875 20.71875 10.15625 \nQ 24.75 6.390625 31.78125 6.390625 \nQ 38.8125 6.390625 42.859375 10.171875 \nQ 46.921875 13.96875 46.921875 20.515625 \nQ 46.921875 27.09375 42.890625 30.859375 \nQ 38.875 34.625 31.78125 34.625 \nz\nM 21.921875 38.8125 \nQ 15.578125 40.375 12.03125 44.71875 \nQ 8.5 49.078125 8.5 55.328125 \nQ 8.5 64.0625 14.71875 69.140625 \nQ 20.953125 74.21875 31.78125 74.21875 \nQ 42.671875 74.21875 48.875 69.140625 \nQ 55.078125 64.0625 55.078125 55.328125 \nQ 55.078125 49.078125 51.53125 44.71875 \nQ 48 40.375 41.703125 38.8125 \nQ 48.828125 37.15625 52.796875 32.3125 \nQ 56.78125 27.484375 56.78125 20.515625 \nQ 56.78125 9.90625 50.3125 4.234375 \nQ 43.84375 -1.421875 31.78125 -1.421875 \nQ 19.734375 -1.421875 13.25 4.234375 \nQ 6.78125 9.90625 6.78125 20.515625 \nQ 6.78125 27.484375 10.78125 32.3125 \nQ 14.796875 37.15625 21.921875 38.8125 \nz\nM 18.3125 54.390625 \nQ 18.3125 48.734375 21.84375 45.5625 \nQ 25.390625 42.390625 31.78125 42.390625 \nQ 38.140625 42.390625 41.71875 45.5625 \nQ 45.3125 48.734375 45.3125 54.390625 \nQ 45.3125 60.0625 41.71875 63.234375 \nQ 38.140625 66.40625 31.78125 66.40625 \nQ 25.390625 66.40625 21.84375 63.234375 \nQ 18.3125 60.0625 18.3125 54.390625 \nz\n\" id=\"DejaVuSans-56\"/>\n      </defs>\n      <g transform=\"translate(484.827206 565.398438)scale(0.1 -0.1)\">\n       <use xlink:href=\"#DejaVuSans-50\"/>\n       <use x=\"63.623047\" xlink:href=\"#DejaVuSans-48\"/>\n       <use x=\"127.246094\" xlink:href=\"#DejaVuSans-49\"/>\n       <use x=\"190.869141\" xlink:href=\"#DejaVuSans-56\"/>\n      </g>\n     </g>\n    </g>\n    <g id=\"xtick_5\">\n     <g id=\"line2d_9\">\n      <path clip-path=\"url(#pc85b7ed741)\" d=\"M 628.250763 550.8 \nL 628.250763 7.2 \n\" style=\"fill:none;stroke:#b0b0b0;stroke-linecap:square;stroke-width:0.8;\"/>\n     </g>\n     <g id=\"line2d_10\">\n      <g>\n       <use style=\"stroke:#000000;stroke-width:0.8;\" x=\"628.250763\" xlink:href=\"#mbdb32e997d\" y=\"550.8\"/>\n      </g>\n     </g>\n     <g id=\"text_5\">\n      <!-- 2019 -->\n      <defs>\n       <path d=\"M 10.984375 1.515625 \nL 10.984375 10.5 \nQ 14.703125 8.734375 18.5 7.8125 \nQ 22.3125 6.890625 25.984375 6.890625 \nQ 35.75 6.890625 40.890625 13.453125 \nQ 46.046875 20.015625 46.78125 33.40625 \nQ 43.953125 29.203125 39.59375 26.953125 \nQ 35.25 24.703125 29.984375 24.703125 \nQ 19.046875 24.703125 12.671875 31.3125 \nQ 6.296875 37.9375 6.296875 49.421875 \nQ 6.296875 60.640625 12.9375 67.421875 \nQ 19.578125 74.21875 30.609375 74.21875 \nQ 43.265625 74.21875 49.921875 64.515625 \nQ 56.59375 54.828125 56.59375 36.375 \nQ 56.59375 19.140625 48.40625 8.859375 \nQ 40.234375 -1.421875 26.421875 -1.421875 \nQ 22.703125 -1.421875 18.890625 -0.6875 \nQ 15.09375 0.046875 10.984375 1.515625 \nz\nM 30.609375 32.421875 \nQ 37.25 32.421875 41.125 36.953125 \nQ 45.015625 41.5 45.015625 49.421875 \nQ 45.015625 57.28125 41.125 61.84375 \nQ 37.25 66.40625 30.609375 66.40625 \nQ 23.96875 66.40625 20.09375 61.84375 \nQ 16.21875 57.28125 16.21875 49.421875 \nQ 16.21875 41.5 20.09375 36.953125 \nQ 23.96875 32.421875 30.609375 32.421875 \nz\n\" id=\"DejaVuSans-57\"/>\n      </defs>\n      <g transform=\"translate(615.525763 565.398438)scale(0.1 -0.1)\">\n       <use xlink:href=\"#DejaVuSans-50\"/>\n       <use x=\"63.623047\" xlink:href=\"#DejaVuSans-48\"/>\n       <use x=\"127.246094\" xlink:href=\"#DejaVuSans-49\"/>\n       <use x=\"190.869141\" xlink:href=\"#DejaVuSans-57\"/>\n      </g>\n     </g>\n    </g>\n    <g id=\"xtick_6\">\n     <g id=\"line2d_11\">\n      <path clip-path=\"url(#pc85b7ed741)\" d=\"M 758.94932 550.8 \nL 758.94932 7.2 \n\" style=\"fill:none;stroke:#b0b0b0;stroke-linecap:square;stroke-width:0.8;\"/>\n     </g>\n     <g id=\"line2d_12\">\n      <g>\n       <use style=\"stroke:#000000;stroke-width:0.8;\" x=\"758.94932\" xlink:href=\"#mbdb32e997d\" y=\"550.8\"/>\n      </g>\n     </g>\n     <g id=\"text_6\">\n      <!-- 2020 -->\n      <g transform=\"translate(746.22432 565.398438)scale(0.1 -0.1)\">\n       <use xlink:href=\"#DejaVuSans-50\"/>\n       <use x=\"63.623047\" xlink:href=\"#DejaVuSans-48\"/>\n       <use x=\"127.246094\" xlink:href=\"#DejaVuSans-50\"/>\n       <use x=\"190.869141\" xlink:href=\"#DejaVuSans-48\"/>\n      </g>\n     </g>\n    </g>\n   </g>\n   <g id=\"matplotlib.axis_2\">\n    <g id=\"ytick_1\">\n     <g id=\"line2d_13\">\n      <path clip-path=\"url(#pc85b7ed741)\" d=\"M 26.925 550.8 \nL 863.925 550.8 \n\" style=\"fill:none;stroke:#b0b0b0;stroke-linecap:square;stroke-width:0.8;\"/>\n     </g>\n     <g id=\"line2d_14\">\n      <defs>\n       <path d=\"M 0 0 \nL -3.5 0 \n\" id=\"md0ca7c4d2c\" style=\"stroke:#000000;stroke-width:0.8;\"/>\n      </defs>\n      <g>\n       <use style=\"stroke:#000000;stroke-width:0.8;\" x=\"26.925\" xlink:href=\"#md0ca7c4d2c\" y=\"550.8\"/>\n      </g>\n     </g>\n     <g id=\"text_7\">\n      <!-- 0 -->\n      <g transform=\"translate(13.5625 554.599219)scale(0.1 -0.1)\">\n       <use xlink:href=\"#DejaVuSans-48\"/>\n      </g>\n     </g>\n    </g>\n    <g id=\"ytick_2\">\n     <g id=\"line2d_15\">\n      <path clip-path=\"url(#pc85b7ed741)\" d=\"M 26.925 480.83861 \nL 863.925 480.83861 \n\" style=\"fill:none;stroke:#b0b0b0;stroke-linecap:square;stroke-width:0.8;\"/>\n     </g>\n     <g id=\"line2d_16\">\n      <g>\n       <use style=\"stroke:#000000;stroke-width:0.8;\" x=\"26.925\" xlink:href=\"#md0ca7c4d2c\" y=\"480.83861\"/>\n      </g>\n     </g>\n     <g id=\"text_8\">\n      <!-- 5 -->\n      <g transform=\"translate(13.5625 484.637829)scale(0.1 -0.1)\">\n       <use xlink:href=\"#DejaVuSans-53\"/>\n      </g>\n     </g>\n    </g>\n    <g id=\"ytick_3\">\n     <g id=\"line2d_17\">\n      <path clip-path=\"url(#pc85b7ed741)\" d=\"M 26.925 410.87722 \nL 863.925 410.87722 \n\" style=\"fill:none;stroke:#b0b0b0;stroke-linecap:square;stroke-width:0.8;\"/>\n     </g>\n     <g id=\"line2d_18\">\n      <g>\n       <use style=\"stroke:#000000;stroke-width:0.8;\" x=\"26.925\" xlink:href=\"#md0ca7c4d2c\" y=\"410.87722\"/>\n      </g>\n     </g>\n     <g id=\"text_9\">\n      <!-- 10 -->\n      <g transform=\"translate(7.2 414.676439)scale(0.1 -0.1)\">\n       <use xlink:href=\"#DejaVuSans-49\"/>\n       <use x=\"63.623047\" xlink:href=\"#DejaVuSans-48\"/>\n      </g>\n     </g>\n    </g>\n    <g id=\"ytick_4\">\n     <g id=\"line2d_19\">\n      <path clip-path=\"url(#pc85b7ed741)\" d=\"M 26.925 340.91583 \nL 863.925 340.91583 \n\" style=\"fill:none;stroke:#b0b0b0;stroke-linecap:square;stroke-width:0.8;\"/>\n     </g>\n     <g id=\"line2d_20\">\n      <g>\n       <use style=\"stroke:#000000;stroke-width:0.8;\" x=\"26.925\" xlink:href=\"#md0ca7c4d2c\" y=\"340.91583\"/>\n      </g>\n     </g>\n     <g id=\"text_10\">\n      <!-- 15 -->\n      <g transform=\"translate(7.2 344.715049)scale(0.1 -0.1)\">\n       <use xlink:href=\"#DejaVuSans-49\"/>\n       <use x=\"63.623047\" xlink:href=\"#DejaVuSans-53\"/>\n      </g>\n     </g>\n    </g>\n    <g id=\"ytick_5\">\n     <g id=\"line2d_21\">\n      <path clip-path=\"url(#pc85b7ed741)\" d=\"M 26.925 270.95444 \nL 863.925 270.95444 \n\" style=\"fill:none;stroke:#b0b0b0;stroke-linecap:square;stroke-width:0.8;\"/>\n     </g>\n     <g id=\"line2d_22\">\n      <g>\n       <use style=\"stroke:#000000;stroke-width:0.8;\" x=\"26.925\" xlink:href=\"#md0ca7c4d2c\" y=\"270.95444\"/>\n      </g>\n     </g>\n     <g id=\"text_11\">\n      <!-- 20 -->\n      <g transform=\"translate(7.2 274.753659)scale(0.1 -0.1)\">\n       <use xlink:href=\"#DejaVuSans-50\"/>\n       <use x=\"63.623047\" xlink:href=\"#DejaVuSans-48\"/>\n      </g>\n     </g>\n    </g>\n    <g id=\"ytick_6\">\n     <g id=\"line2d_23\">\n      <path clip-path=\"url(#pc85b7ed741)\" d=\"M 26.925 200.99305 \nL 863.925 200.99305 \n\" style=\"fill:none;stroke:#b0b0b0;stroke-linecap:square;stroke-width:0.8;\"/>\n     </g>\n     <g id=\"line2d_24\">\n      <g>\n       <use style=\"stroke:#000000;stroke-width:0.8;\" x=\"26.925\" xlink:href=\"#md0ca7c4d2c\" y=\"200.99305\"/>\n      </g>\n     </g>\n     <g id=\"text_12\">\n      <!-- 25 -->\n      <g transform=\"translate(7.2 204.792269)scale(0.1 -0.1)\">\n       <use xlink:href=\"#DejaVuSans-50\"/>\n       <use x=\"63.623047\" xlink:href=\"#DejaVuSans-53\"/>\n      </g>\n     </g>\n    </g>\n    <g id=\"ytick_7\">\n     <g id=\"line2d_25\">\n      <path clip-path=\"url(#pc85b7ed741)\" d=\"M 26.925 131.03166 \nL 863.925 131.03166 \n\" style=\"fill:none;stroke:#b0b0b0;stroke-linecap:square;stroke-width:0.8;\"/>\n     </g>\n     <g id=\"line2d_26\">\n      <g>\n       <use style=\"stroke:#000000;stroke-width:0.8;\" x=\"26.925\" xlink:href=\"#md0ca7c4d2c\" y=\"131.03166\"/>\n      </g>\n     </g>\n     <g id=\"text_13\">\n      <!-- 30 -->\n      <defs>\n       <path d=\"M 40.578125 39.3125 \nQ 47.65625 37.796875 51.625 33 \nQ 55.609375 28.21875 55.609375 21.1875 \nQ 55.609375 10.40625 48.1875 4.484375 \nQ 40.765625 -1.421875 27.09375 -1.421875 \nQ 22.515625 -1.421875 17.65625 -0.515625 \nQ 12.796875 0.390625 7.625 2.203125 \nL 7.625 11.71875 \nQ 11.71875 9.328125 16.59375 8.109375 \nQ 21.484375 6.890625 26.8125 6.890625 \nQ 36.078125 6.890625 40.9375 10.546875 \nQ 45.796875 14.203125 45.796875 21.1875 \nQ 45.796875 27.640625 41.28125 31.265625 \nQ 36.765625 34.90625 28.71875 34.90625 \nL 20.21875 34.90625 \nL 20.21875 43.015625 \nL 29.109375 43.015625 \nQ 36.375 43.015625 40.234375 45.921875 \nQ 44.09375 48.828125 44.09375 54.296875 \nQ 44.09375 59.90625 40.109375 62.90625 \nQ 36.140625 65.921875 28.71875 65.921875 \nQ 24.65625 65.921875 20.015625 65.03125 \nQ 15.375 64.15625 9.8125 62.3125 \nL 9.8125 71.09375 \nQ 15.4375 72.65625 20.34375 73.4375 \nQ 25.25 74.21875 29.59375 74.21875 \nQ 40.828125 74.21875 47.359375 69.109375 \nQ 53.90625 64.015625 53.90625 55.328125 \nQ 53.90625 49.265625 50.4375 45.09375 \nQ 46.96875 40.921875 40.578125 39.3125 \nz\n\" id=\"DejaVuSans-51\"/>\n      </defs>\n      <g transform=\"translate(7.2 134.830879)scale(0.1 -0.1)\">\n       <use xlink:href=\"#DejaVuSans-51\"/>\n       <use x=\"63.623047\" xlink:href=\"#DejaVuSans-48\"/>\n      </g>\n     </g>\n    </g>\n    <g id=\"ytick_8\">\n     <g id=\"line2d_27\">\n      <path clip-path=\"url(#pc85b7ed741)\" d=\"M 26.925 61.07027 \nL 863.925 61.07027 \n\" style=\"fill:none;stroke:#b0b0b0;stroke-linecap:square;stroke-width:0.8;\"/>\n     </g>\n     <g id=\"line2d_28\">\n      <g>\n       <use style=\"stroke:#000000;stroke-width:0.8;\" x=\"26.925\" xlink:href=\"#md0ca7c4d2c\" y=\"61.07027\"/>\n      </g>\n     </g>\n     <g id=\"text_14\">\n      <!-- 35 -->\n      <g transform=\"translate(7.2 64.869489)scale(0.1 -0.1)\">\n       <use xlink:href=\"#DejaVuSans-51\"/>\n       <use x=\"63.623047\" xlink:href=\"#DejaVuSans-53\"/>\n      </g>\n     </g>\n    </g>\n   </g>\n   <g id=\"patch_13\">\n    <path d=\"M 26.925 550.8 \nL 26.925 7.2 \n\" style=\"fill:none;stroke:#000000;stroke-linecap:square;stroke-linejoin:miter;stroke-width:0.8;\"/>\n   </g>\n   <g id=\"patch_14\">\n    <path d=\"M 863.925 550.8 \nL 863.925 7.2 \n\" style=\"fill:none;stroke:#000000;stroke-linecap:square;stroke-linejoin:miter;stroke-width:0.8;\"/>\n   </g>\n   <g id=\"patch_15\">\n    <path d=\"M 26.925 550.8 \nL 863.925 550.8 \n\" style=\"fill:none;stroke:#000000;stroke-linecap:square;stroke-linejoin:miter;stroke-width:0.8;\"/>\n   </g>\n   <g id=\"patch_16\">\n    <path d=\"M 26.925 7.2 \nL 863.925 7.2 \n\" style=\"fill:none;stroke:#000000;stroke-linecap:square;stroke-linejoin:miter;stroke-width:0.8;\"/>\n   </g>\n  </g>\n </g>\n <defs>\n  <clipPath id=\"pc85b7ed741\">\n   <rect height=\"543.6\" width=\"837\" x=\"26.925\" y=\"7.2\"/>\n  </clipPath>\n </defs>\n</svg>\n",
      "image/png": "[encoded data removed]"
     },
     "metadata": {
      "needs_background": "light"
     }
    }
   ],
   "source": [
    "#df[['listingInfo-startTime', 'listingInfo-endTime']]\n",
    "plt.figure(figsize=(15,10))\n",
    "pd.to_datetime(df['listingInfo-startTime']).hist()"
   ]
  },
  {
   "cell_type": "code",
   "execution_count": 62,
   "metadata": {},
   "outputs": [
    {
     "output_type": "execute_result",
     "data": {
      "text/plain": "<matplotlib.axes._subplots.AxesSubplot at 0x7fb5d71c5a10>"
     },
     "metadata": {},
     "execution_count": 62
    },
    {
     "output_type": "display_data",
     "data": {
      "text/plain": "<Figure size 1080x720 with 1 Axes>",
      "image/svg+xml": "<?xml version=\"1.0\" encoding=\"utf-8\" standalone=\"no\"?>\n<!DOCTYPE svg PUBLIC \"-//W3C//DTD SVG 1.1//EN\"\n  \"http://www.w3.org/Graphics/SVG/1.1/DTD/svg11.dtd\">\n<!-- Created with matplotlib (https://matplotlib.org/) -->\n<svg height=\"574.678125pt\" version=\"1.1\" viewBox=\"0 0 871.125 574.678125\" width=\"871.125pt\" xmlns=\"http://www.w3.org/2000/svg\" xmlns:xlink=\"http://www.w3.org/1999/xlink\">\n <defs>\n  <style type=\"text/css\">\n*{stroke-linecap:butt;stroke-linejoin:round;}\n  </style>\n </defs>\n <g id=\"figure_1\">\n  <g id=\"patch_1\">\n   <path d=\"M 0 574.678125 \nL 871.125 574.678125 \nL 871.125 0 \nL 0 0 \nz\n\" style=\"fill:none;\"/>\n  </g>\n  <g id=\"axes_1\">\n   <g id=\"patch_2\">\n    <path d=\"M 26.925 550.8 \nL 863.925 550.8 \nL 863.925 7.2 \nL 26.925 7.2 \nz\n\" style=\"fill:#ffffff;\"/>\n   </g>\n   <g id=\"patch_3\">\n    <path clip-path=\"url(#p82035bc1c9)\" d=\"M 64.970455 550.8 \nL 141.061364 550.8 \nL 141.061364 335.085714 \nL 64.970455 335.085714 \nz\n\" style=\"fill:#1f77b4;\"/>\n   </g>\n   <g id=\"patch_4\">\n    <path clip-path=\"url(#p82035bc1c9)\" d=\"M 141.061364 550.8 \nL 217.152273 550.8 \nL 217.152273 248.8 \nL 141.061364 248.8 \nz\n\" style=\"fill:#1f77b4;\"/>\n   </g>\n   <g id=\"patch_5\">\n    <path clip-path=\"url(#p82035bc1c9)\" d=\"M 217.152273 550.8 \nL 293.243182 550.8 \nL 293.243182 335.085714 \nL 217.152273 335.085714 \nz\n\" style=\"fill:#1f77b4;\"/>\n   </g>\n   <g id=\"patch_6\">\n    <path clip-path=\"url(#p82035bc1c9)\" d=\"M 293.243182 550.8 \nL 369.334091 550.8 \nL 369.334091 550.8 \nL 293.243182 550.8 \nz\n\" style=\"fill:#1f77b4;\"/>\n   </g>\n   <g id=\"patch_7\">\n    <path clip-path=\"url(#p82035bc1c9)\" d=\"M 369.334091 550.8 \nL 445.425 550.8 \nL 445.425 507.657143 \nL 369.334091 507.657143 \nz\n\" style=\"fill:#1f77b4;\"/>\n   </g>\n   <g id=\"patch_8\">\n    <path clip-path=\"url(#p82035bc1c9)\" d=\"M 445.425 550.8 \nL 521.515909 550.8 \nL 521.515909 248.8 \nL 445.425 248.8 \nz\n\" style=\"fill:#1f77b4;\"/>\n   </g>\n   <g id=\"patch_9\">\n    <path clip-path=\"url(#p82035bc1c9)\" d=\"M 521.515909 550.8 \nL 597.606818 550.8 \nL 597.606818 119.371429 \nL 521.515909 119.371429 \nz\n\" style=\"fill:#1f77b4;\"/>\n   </g>\n   <g id=\"patch_10\">\n    <path clip-path=\"url(#p82035bc1c9)\" d=\"M 597.606818 550.8 \nL 673.697727 550.8 \nL 673.697727 33.085714 \nL 597.606818 33.085714 \nz\n\" style=\"fill:#1f77b4;\"/>\n   </g>\n   <g id=\"patch_11\">\n    <path clip-path=\"url(#p82035bc1c9)\" d=\"M 673.697727 550.8 \nL 749.788636 550.8 \nL 749.788636 205.657143 \nL 673.697727 205.657143 \nz\n\" style=\"fill:#1f77b4;\"/>\n   </g>\n   <g id=\"patch_12\">\n    <path clip-path=\"url(#p82035bc1c9)\" d=\"M 749.788636 550.8 \nL 825.879545 550.8 \nL 825.879545 205.657143 \nL 749.788636 205.657143 \nz\n\" style=\"fill:#1f77b4;\"/>\n   </g>\n   <g id=\"matplotlib.axis_1\">\n    <g id=\"xtick_1\">\n     <g id=\"line2d_1\">\n      <path clip-path=\"url(#p82035bc1c9)\" d=\"M 120.133749 550.8 \nL 120.133749 7.2 \n\" style=\"fill:none;stroke:#b0b0b0;stroke-linecap:square;stroke-width:0.8;\"/>\n     </g>\n     <g id=\"line2d_2\">\n      <defs>\n       <path d=\"M 0 0 \nL 0 3.5 \n\" id=\"m0609b9c70b\" style=\"stroke:#000000;stroke-width:0.8;\"/>\n      </defs>\n      <g>\n       <use style=\"stroke:#000000;stroke-width:0.8;\" x=\"120.133749\" xlink:href=\"#m0609b9c70b\" y=\"550.8\"/>\n      </g>\n     </g>\n     <g id=\"text_1\">\n      <!-- 07-10 18 -->\n      <defs>\n       <path d=\"M 31.78125 66.40625 \nQ 24.171875 66.40625 20.328125 58.90625 \nQ 16.5 51.421875 16.5 36.375 \nQ 16.5 21.390625 20.328125 13.890625 \nQ 24.171875 6.390625 31.78125 6.390625 \nQ 39.453125 6.390625 43.28125 13.890625 \nQ 47.125 21.390625 47.125 36.375 \nQ 47.125 51.421875 43.28125 58.90625 \nQ 39.453125 66.40625 31.78125 66.40625 \nz\nM 31.78125 74.21875 \nQ 44.046875 74.21875 50.515625 64.515625 \nQ 56.984375 54.828125 56.984375 36.375 \nQ 56.984375 17.96875 50.515625 8.265625 \nQ 44.046875 -1.421875 31.78125 -1.421875 \nQ 19.53125 -1.421875 13.0625 8.265625 \nQ 6.59375 17.96875 6.59375 36.375 \nQ 6.59375 54.828125 13.0625 64.515625 \nQ 19.53125 74.21875 31.78125 74.21875 \nz\n\" id=\"DejaVuSans-48\"/>\n       <path d=\"M 8.203125 72.90625 \nL 55.078125 72.90625 \nL 55.078125 68.703125 \nL 28.609375 0 \nL 18.3125 0 \nL 43.21875 64.59375 \nL 8.203125 64.59375 \nz\n\" id=\"DejaVuSans-55\"/>\n       <path d=\"M 4.890625 31.390625 \nL 31.203125 31.390625 \nL 31.203125 23.390625 \nL 4.890625 23.390625 \nz\n\" id=\"DejaVuSans-45\"/>\n       <path d=\"M 12.40625 8.296875 \nL 28.515625 8.296875 \nL 28.515625 63.921875 \nL 10.984375 60.40625 \nL 10.984375 69.390625 \nL 28.421875 72.90625 \nL 38.28125 72.90625 \nL 38.28125 8.296875 \nL 54.390625 8.296875 \nL 54.390625 0 \nL 12.40625 0 \nz\n\" id=\"DejaVuSans-49\"/>\n       <path id=\"DejaVuSans-32\"/>\n       <path d=\"M 31.78125 34.625 \nQ 24.75 34.625 20.71875 30.859375 \nQ 16.703125 27.09375 16.703125 20.515625 \nQ 16.703125 13.921875 20.71875 10.15625 \nQ 24.75 6.390625 31.78125 6.390625 \nQ 38.8125 6.390625 42.859375 10.171875 \nQ 46.921875 13.96875 46.921875 20.515625 \nQ 46.921875 27.09375 42.890625 30.859375 \nQ 38.875 34.625 31.78125 34.625 \nz\nM 21.921875 38.8125 \nQ 15.578125 40.375 12.03125 44.71875 \nQ 8.5 49.078125 8.5 55.328125 \nQ 8.5 64.0625 14.71875 69.140625 \nQ 20.953125 74.21875 31.78125 74.21875 \nQ 42.671875 74.21875 48.875 69.140625 \nQ 55.078125 64.0625 55.078125 55.328125 \nQ 55.078125 49.078125 51.53125 44.71875 \nQ 48 40.375 41.703125 38.8125 \nQ 48.828125 37.15625 52.796875 32.3125 \nQ 56.78125 27.484375 56.78125 20.515625 \nQ 56.78125 9.90625 50.3125 4.234375 \nQ 43.84375 -1.421875 31.78125 -1.421875 \nQ 19.734375 -1.421875 13.25 4.234375 \nQ 6.78125 9.90625 6.78125 20.515625 \nQ 6.78125 27.484375 10.78125 32.3125 \nQ 14.796875 37.15625 21.921875 38.8125 \nz\nM 18.3125 54.390625 \nQ 18.3125 48.734375 21.84375 45.5625 \nQ 25.390625 42.390625 31.78125 42.390625 \nQ 38.140625 42.390625 41.71875 45.5625 \nQ 45.3125 48.734375 45.3125 54.390625 \nQ 45.3125 60.0625 41.71875 63.234375 \nQ 38.140625 66.40625 31.78125 66.40625 \nQ 25.390625 66.40625 21.84375 63.234375 \nQ 18.3125 60.0625 18.3125 54.390625 \nz\n\" id=\"DejaVuSans-56\"/>\n      </defs>\n      <g transform=\"translate(97.65328 565.398438)scale(0.1 -0.1)\">\n       <use xlink:href=\"#DejaVuSans-48\"/>\n       <use x=\"63.623047\" xlink:href=\"#DejaVuSans-55\"/>\n       <use x=\"127.246094\" xlink:href=\"#DejaVuSans-45\"/>\n       <use x=\"163.330078\" xlink:href=\"#DejaVuSans-49\"/>\n       <use x=\"226.953125\" xlink:href=\"#DejaVuSans-48\"/>\n       <use x=\"290.576172\" xlink:href=\"#DejaVuSans-32\"/>\n       <use x=\"322.363281\" xlink:href=\"#DejaVuSans-49\"/>\n       <use x=\"385.986328\" xlink:href=\"#DejaVuSans-56\"/>\n      </g>\n     </g>\n    </g>\n    <g id=\"xtick_2\">\n     <g id=\"line2d_3\">\n      <path clip-path=\"url(#p82035bc1c9)\" d=\"M 217.496649 550.8 \nL 217.496649 7.2 \n\" style=\"fill:none;stroke:#b0b0b0;stroke-linecap:square;stroke-width:0.8;\"/>\n     </g>\n     <g id=\"line2d_4\">\n      <g>\n       <use style=\"stroke:#000000;stroke-width:0.8;\" x=\"217.496649\" xlink:href=\"#m0609b9c70b\" y=\"550.8\"/>\n      </g>\n     </g>\n     <g id=\"text_2\">\n      <!-- 07-10 21 -->\n      <defs>\n       <path d=\"M 19.1875 8.296875 \nL 53.609375 8.296875 \nL 53.609375 0 \nL 7.328125 0 \nL 7.328125 8.296875 \nQ 12.9375 14.109375 22.625 23.890625 \nQ 32.328125 33.6875 34.8125 36.53125 \nQ 39.546875 41.84375 41.421875 45.53125 \nQ 43.3125 49.21875 43.3125 52.78125 \nQ 43.3125 58.59375 39.234375 62.25 \nQ 35.15625 65.921875 28.609375 65.921875 \nQ 23.96875 65.921875 18.8125 64.3125 \nQ 13.671875 62.703125 7.8125 59.421875 \nL 7.8125 69.390625 \nQ 13.765625 71.78125 18.9375 73 \nQ 24.125 74.21875 28.421875 74.21875 \nQ 39.75 74.21875 46.484375 68.546875 \nQ 53.21875 62.890625 53.21875 53.421875 \nQ 53.21875 48.921875 51.53125 44.890625 \nQ 49.859375 40.875 45.40625 35.40625 \nQ 44.1875 33.984375 37.640625 27.21875 \nQ 31.109375 20.453125 19.1875 8.296875 \nz\n\" id=\"DejaVuSans-50\"/>\n      </defs>\n      <g transform=\"translate(195.01618 565.398438)scale(0.1 -0.1)\">\n       <use xlink:href=\"#DejaVuSans-48\"/>\n       <use x=\"63.623047\" xlink:href=\"#DejaVuSans-55\"/>\n       <use x=\"127.246094\" xlink:href=\"#DejaVuSans-45\"/>\n       <use x=\"163.330078\" xlink:href=\"#DejaVuSans-49\"/>\n       <use x=\"226.953125\" xlink:href=\"#DejaVuSans-48\"/>\n       <use x=\"290.576172\" xlink:href=\"#DejaVuSans-32\"/>\n       <use x=\"322.363281\" xlink:href=\"#DejaVuSans-50\"/>\n       <use x=\"385.986328\" xlink:href=\"#DejaVuSans-49\"/>\n      </g>\n     </g>\n    </g>\n    <g id=\"xtick_3\">\n     <g id=\"line2d_5\">\n      <path clip-path=\"url(#p82035bc1c9)\" d=\"M 314.859549 550.8 \nL 314.859549 7.2 \n\" style=\"fill:none;stroke:#b0b0b0;stroke-linecap:square;stroke-width:0.8;\"/>\n     </g>\n     <g id=\"line2d_6\">\n      <g>\n       <use style=\"stroke:#000000;stroke-width:0.8;\" x=\"314.859549\" xlink:href=\"#m0609b9c70b\" y=\"550.8\"/>\n      </g>\n     </g>\n     <g id=\"text_3\">\n      <!-- 07-11 00 -->\n      <g transform=\"translate(292.37908 565.398438)scale(0.1 -0.1)\">\n       <use xlink:href=\"#DejaVuSans-48\"/>\n       <use x=\"63.623047\" xlink:href=\"#DejaVuSans-55\"/>\n       <use x=\"127.246094\" xlink:href=\"#DejaVuSans-45\"/>\n       <use x=\"163.330078\" xlink:href=\"#DejaVuSans-49\"/>\n       <use x=\"226.953125\" xlink:href=\"#DejaVuSans-49\"/>\n       <use x=\"290.576172\" xlink:href=\"#DejaVuSans-32\"/>\n       <use x=\"322.363281\" xlink:href=\"#DejaVuSans-48\"/>\n       <use x=\"385.986328\" xlink:href=\"#DejaVuSans-48\"/>\n      </g>\n     </g>\n    </g>\n    <g id=\"xtick_4\">\n     <g id=\"line2d_7\">\n      <path clip-path=\"url(#p82035bc1c9)\" d=\"M 412.222448 550.8 \nL 412.222448 7.2 \n\" style=\"fill:none;stroke:#b0b0b0;stroke-linecap:square;stroke-width:0.8;\"/>\n     </g>\n     <g id=\"line2d_8\">\n      <g>\n       <use style=\"stroke:#000000;stroke-width:0.8;\" x=\"412.222448\" xlink:href=\"#m0609b9c70b\" y=\"550.8\"/>\n      </g>\n     </g>\n     <g id=\"text_4\">\n      <!-- 07-11 03 -->\n      <defs>\n       <path d=\"M 40.578125 39.3125 \nQ 47.65625 37.796875 51.625 33 \nQ 55.609375 28.21875 55.609375 21.1875 \nQ 55.609375 10.40625 48.1875 4.484375 \nQ 40.765625 -1.421875 27.09375 -1.421875 \nQ 22.515625 -1.421875 17.65625 -0.515625 \nQ 12.796875 0.390625 7.625 2.203125 \nL 7.625 11.71875 \nQ 11.71875 9.328125 16.59375 8.109375 \nQ 21.484375 6.890625 26.8125 6.890625 \nQ 36.078125 6.890625 40.9375 10.546875 \nQ 45.796875 14.203125 45.796875 21.1875 \nQ 45.796875 27.640625 41.28125 31.265625 \nQ 36.765625 34.90625 28.71875 34.90625 \nL 20.21875 34.90625 \nL 20.21875 43.015625 \nL 29.109375 43.015625 \nQ 36.375 43.015625 40.234375 45.921875 \nQ 44.09375 48.828125 44.09375 54.296875 \nQ 44.09375 59.90625 40.109375 62.90625 \nQ 36.140625 65.921875 28.71875 65.921875 \nQ 24.65625 65.921875 20.015625 65.03125 \nQ 15.375 64.15625 9.8125 62.3125 \nL 9.8125 71.09375 \nQ 15.4375 72.65625 20.34375 73.4375 \nQ 25.25 74.21875 29.59375 74.21875 \nQ 40.828125 74.21875 47.359375 69.109375 \nQ 53.90625 64.015625 53.90625 55.328125 \nQ 53.90625 49.265625 50.4375 45.09375 \nQ 46.96875 40.921875 40.578125 39.3125 \nz\n\" id=\"DejaVuSans-51\"/>\n      </defs>\n      <g transform=\"translate(389.741979 565.398438)scale(0.1 -0.1)\">\n       <use xlink:href=\"#DejaVuSans-48\"/>\n       <use x=\"63.623047\" xlink:href=\"#DejaVuSans-55\"/>\n       <use x=\"127.246094\" xlink:href=\"#DejaVuSans-45\"/>\n       <use x=\"163.330078\" xlink:href=\"#DejaVuSans-49\"/>\n       <use x=\"226.953125\" xlink:href=\"#DejaVuSans-49\"/>\n       <use x=\"290.576172\" xlink:href=\"#DejaVuSans-32\"/>\n       <use x=\"322.363281\" xlink:href=\"#DejaVuSans-48\"/>\n       <use x=\"385.986328\" xlink:href=\"#DejaVuSans-51\"/>\n      </g>\n     </g>\n    </g>\n    <g id=\"xtick_5\">\n     <g id=\"line2d_9\">\n      <path clip-path=\"url(#p82035bc1c9)\" d=\"M 509.585348 550.8 \nL 509.585348 7.2 \n\" style=\"fill:none;stroke:#b0b0b0;stroke-linecap:square;stroke-width:0.8;\"/>\n     </g>\n     <g id=\"line2d_10\">\n      <g>\n       <use style=\"stroke:#000000;stroke-width:0.8;\" x=\"509.585348\" xlink:href=\"#m0609b9c70b\" y=\"550.8\"/>\n      </g>\n     </g>\n     <g id=\"text_5\">\n      <!-- 07-11 06 -->\n      <defs>\n       <path d=\"M 33.015625 40.375 \nQ 26.375 40.375 22.484375 35.828125 \nQ 18.609375 31.296875 18.609375 23.390625 \nQ 18.609375 15.53125 22.484375 10.953125 \nQ 26.375 6.390625 33.015625 6.390625 \nQ 39.65625 6.390625 43.53125 10.953125 \nQ 47.40625 15.53125 47.40625 23.390625 \nQ 47.40625 31.296875 43.53125 35.828125 \nQ 39.65625 40.375 33.015625 40.375 \nz\nM 52.59375 71.296875 \nL 52.59375 62.3125 \nQ 48.875 64.0625 45.09375 64.984375 \nQ 41.3125 65.921875 37.59375 65.921875 \nQ 27.828125 65.921875 22.671875 59.328125 \nQ 17.53125 52.734375 16.796875 39.40625 \nQ 19.671875 43.65625 24.015625 45.921875 \nQ 28.375 48.1875 33.59375 48.1875 \nQ 44.578125 48.1875 50.953125 41.515625 \nQ 57.328125 34.859375 57.328125 23.390625 \nQ 57.328125 12.15625 50.6875 5.359375 \nQ 44.046875 -1.421875 33.015625 -1.421875 \nQ 20.359375 -1.421875 13.671875 8.265625 \nQ 6.984375 17.96875 6.984375 36.375 \nQ 6.984375 53.65625 15.1875 63.9375 \nQ 23.390625 74.21875 37.203125 74.21875 \nQ 40.921875 74.21875 44.703125 73.484375 \nQ 48.484375 72.75 52.59375 71.296875 \nz\n\" id=\"DejaVuSans-54\"/>\n      </defs>\n      <g transform=\"translate(487.104879 565.398438)scale(0.1 -0.1)\">\n       <use xlink:href=\"#DejaVuSans-48\"/>\n       <use x=\"63.623047\" xlink:href=\"#DejaVuSans-55\"/>\n       <use x=\"127.246094\" xlink:href=\"#DejaVuSans-45\"/>\n       <use x=\"163.330078\" xlink:href=\"#DejaVuSans-49\"/>\n       <use x=\"226.953125\" xlink:href=\"#DejaVuSans-49\"/>\n       <use x=\"290.576172\" xlink:href=\"#DejaVuSans-32\"/>\n       <use x=\"322.363281\" xlink:href=\"#DejaVuSans-48\"/>\n       <use x=\"385.986328\" xlink:href=\"#DejaVuSans-54\"/>\n      </g>\n     </g>\n    </g>\n    <g id=\"xtick_6\">\n     <g id=\"line2d_11\">\n      <path clip-path=\"url(#p82035bc1c9)\" d=\"M 606.948247 550.8 \nL 606.948247 7.2 \n\" style=\"fill:none;stroke:#b0b0b0;stroke-linecap:square;stroke-width:0.8;\"/>\n     </g>\n     <g id=\"line2d_12\">\n      <g>\n       <use style=\"stroke:#000000;stroke-width:0.8;\" x=\"606.948247\" xlink:href=\"#m0609b9c70b\" y=\"550.8\"/>\n      </g>\n     </g>\n     <g id=\"text_6\">\n      <!-- 07-11 09 -->\n      <defs>\n       <path d=\"M 10.984375 1.515625 \nL 10.984375 10.5 \nQ 14.703125 8.734375 18.5 7.8125 \nQ 22.3125 6.890625 25.984375 6.890625 \nQ 35.75 6.890625 40.890625 13.453125 \nQ 46.046875 20.015625 46.78125 33.40625 \nQ 43.953125 29.203125 39.59375 26.953125 \nQ 35.25 24.703125 29.984375 24.703125 \nQ 19.046875 24.703125 12.671875 31.3125 \nQ 6.296875 37.9375 6.296875 49.421875 \nQ 6.296875 60.640625 12.9375 67.421875 \nQ 19.578125 74.21875 30.609375 74.21875 \nQ 43.265625 74.21875 49.921875 64.515625 \nQ 56.59375 54.828125 56.59375 36.375 \nQ 56.59375 19.140625 48.40625 8.859375 \nQ 40.234375 -1.421875 26.421875 -1.421875 \nQ 22.703125 -1.421875 18.890625 -0.6875 \nQ 15.09375 0.046875 10.984375 1.515625 \nz\nM 30.609375 32.421875 \nQ 37.25 32.421875 41.125 36.953125 \nQ 45.015625 41.5 45.015625 49.421875 \nQ 45.015625 57.28125 41.125 61.84375 \nQ 37.25 66.40625 30.609375 66.40625 \nQ 23.96875 66.40625 20.09375 61.84375 \nQ 16.21875 57.28125 16.21875 49.421875 \nQ 16.21875 41.5 20.09375 36.953125 \nQ 23.96875 32.421875 30.609375 32.421875 \nz\n\" id=\"DejaVuSans-57\"/>\n      </defs>\n      <g transform=\"translate(584.467779 565.398438)scale(0.1 -0.1)\">\n       <use xlink:href=\"#DejaVuSans-48\"/>\n       <use x=\"63.623047\" xlink:href=\"#DejaVuSans-55\"/>\n       <use x=\"127.246094\" xlink:href=\"#DejaVuSans-45\"/>\n       <use x=\"163.330078\" xlink:href=\"#DejaVuSans-49\"/>\n       <use x=\"226.953125\" xlink:href=\"#DejaVuSans-49\"/>\n       <use x=\"290.576172\" xlink:href=\"#DejaVuSans-32\"/>\n       <use x=\"322.363281\" xlink:href=\"#DejaVuSans-48\"/>\n       <use x=\"385.986328\" xlink:href=\"#DejaVuSans-57\"/>\n      </g>\n     </g>\n    </g>\n    <g id=\"xtick_7\">\n     <g id=\"line2d_13\">\n      <path clip-path=\"url(#p82035bc1c9)\" d=\"M 704.311147 550.8 \nL 704.311147 7.2 \n\" style=\"fill:none;stroke:#b0b0b0;stroke-linecap:square;stroke-width:0.8;\"/>\n     </g>\n     <g id=\"line2d_14\">\n      <g>\n       <use style=\"stroke:#000000;stroke-width:0.8;\" x=\"704.311147\" xlink:href=\"#m0609b9c70b\" y=\"550.8\"/>\n      </g>\n     </g>\n     <g id=\"text_7\">\n      <!-- 07-11 12 -->\n      <g transform=\"translate(681.830678 565.398438)scale(0.1 -0.1)\">\n       <use xlink:href=\"#DejaVuSans-48\"/>\n       <use x=\"63.623047\" xlink:href=\"#DejaVuSans-55\"/>\n       <use x=\"127.246094\" xlink:href=\"#DejaVuSans-45\"/>\n       <use x=\"163.330078\" xlink:href=\"#DejaVuSans-49\"/>\n       <use x=\"226.953125\" xlink:href=\"#DejaVuSans-49\"/>\n       <use x=\"290.576172\" xlink:href=\"#DejaVuSans-32\"/>\n       <use x=\"322.363281\" xlink:href=\"#DejaVuSans-49\"/>\n       <use x=\"385.986328\" xlink:href=\"#DejaVuSans-50\"/>\n      </g>\n     </g>\n    </g>\n    <g id=\"xtick_8\">\n     <g id=\"line2d_15\">\n      <path clip-path=\"url(#p82035bc1c9)\" d=\"M 801.674047 550.8 \nL 801.674047 7.2 \n\" style=\"fill:none;stroke:#b0b0b0;stroke-linecap:square;stroke-width:0.8;\"/>\n     </g>\n     <g id=\"line2d_16\">\n      <g>\n       <use style=\"stroke:#000000;stroke-width:0.8;\" x=\"801.674047\" xlink:href=\"#m0609b9c70b\" y=\"550.8\"/>\n      </g>\n     </g>\n     <g id=\"text_8\">\n      <!-- 07-11 15 -->\n      <defs>\n       <path d=\"M 10.796875 72.90625 \nL 49.515625 72.90625 \nL 49.515625 64.59375 \nL 19.828125 64.59375 \nL 19.828125 46.734375 \nQ 21.96875 47.46875 24.109375 47.828125 \nQ 26.265625 48.1875 28.421875 48.1875 \nQ 40.625 48.1875 47.75 41.5 \nQ 54.890625 34.8125 54.890625 23.390625 \nQ 54.890625 11.625 47.5625 5.09375 \nQ 40.234375 -1.421875 26.90625 -1.421875 \nQ 22.3125 -1.421875 17.546875 -0.640625 \nQ 12.796875 0.140625 7.71875 1.703125 \nL 7.71875 11.625 \nQ 12.109375 9.234375 16.796875 8.0625 \nQ 21.484375 6.890625 26.703125 6.890625 \nQ 35.15625 6.890625 40.078125 11.328125 \nQ 45.015625 15.765625 45.015625 23.390625 \nQ 45.015625 31 40.078125 35.4375 \nQ 35.15625 39.890625 26.703125 39.890625 \nQ 22.75 39.890625 18.8125 39.015625 \nQ 14.890625 38.140625 10.796875 36.28125 \nz\n\" id=\"DejaVuSans-53\"/>\n      </defs>\n      <g transform=\"translate(779.193578 565.398438)scale(0.1 -0.1)\">\n       <use xlink:href=\"#DejaVuSans-48\"/>\n       <use x=\"63.623047\" xlink:href=\"#DejaVuSans-55\"/>\n       <use x=\"127.246094\" xlink:href=\"#DejaVuSans-45\"/>\n       <use x=\"163.330078\" xlink:href=\"#DejaVuSans-49\"/>\n       <use x=\"226.953125\" xlink:href=\"#DejaVuSans-49\"/>\n       <use x=\"290.576172\" xlink:href=\"#DejaVuSans-32\"/>\n       <use x=\"322.363281\" xlink:href=\"#DejaVuSans-49\"/>\n       <use x=\"385.986328\" xlink:href=\"#DejaVuSans-53\"/>\n      </g>\n     </g>\n    </g>\n   </g>\n   <g id=\"matplotlib.axis_2\">\n    <g id=\"ytick_1\">\n     <g id=\"line2d_17\">\n      <path clip-path=\"url(#p82035bc1c9)\" d=\"M 26.925 550.8 \nL 863.925 550.8 \n\" style=\"fill:none;stroke:#b0b0b0;stroke-linecap:square;stroke-width:0.8;\"/>\n     </g>\n     <g id=\"line2d_18\">\n      <defs>\n       <path d=\"M 0 0 \nL -3.5 0 \n\" id=\"m3e1d7a9690\" style=\"stroke:#000000;stroke-width:0.8;\"/>\n      </defs>\n      <g>\n       <use style=\"stroke:#000000;stroke-width:0.8;\" x=\"26.925\" xlink:href=\"#m3e1d7a9690\" y=\"550.8\"/>\n      </g>\n     </g>\n     <g id=\"text_9\">\n      <!-- 0 -->\n      <g transform=\"translate(13.5625 554.599219)scale(0.1 -0.1)\">\n       <use xlink:href=\"#DejaVuSans-48\"/>\n      </g>\n     </g>\n    </g>\n    <g id=\"ytick_2\">\n     <g id=\"line2d_19\">\n      <path clip-path=\"url(#p82035bc1c9)\" d=\"M 26.925 464.514286 \nL 863.925 464.514286 \n\" style=\"fill:none;stroke:#b0b0b0;stroke-linecap:square;stroke-width:0.8;\"/>\n     </g>\n     <g id=\"line2d_20\">\n      <g>\n       <use style=\"stroke:#000000;stroke-width:0.8;\" x=\"26.925\" xlink:href=\"#m3e1d7a9690\" y=\"464.514286\"/>\n      </g>\n     </g>\n     <g id=\"text_10\">\n      <!-- 2 -->\n      <g transform=\"translate(13.5625 468.313504)scale(0.1 -0.1)\">\n       <use xlink:href=\"#DejaVuSans-50\"/>\n      </g>\n     </g>\n    </g>\n    <g id=\"ytick_3\">\n     <g id=\"line2d_21\">\n      <path clip-path=\"url(#p82035bc1c9)\" d=\"M 26.925 378.228571 \nL 863.925 378.228571 \n\" style=\"fill:none;stroke:#b0b0b0;stroke-linecap:square;stroke-width:0.8;\"/>\n     </g>\n     <g id=\"line2d_22\">\n      <g>\n       <use style=\"stroke:#000000;stroke-width:0.8;\" x=\"26.925\" xlink:href=\"#m3e1d7a9690\" y=\"378.228571\"/>\n      </g>\n     </g>\n     <g id=\"text_11\">\n      <!-- 4 -->\n      <defs>\n       <path d=\"M 37.796875 64.3125 \nL 12.890625 25.390625 \nL 37.796875 25.390625 \nz\nM 35.203125 72.90625 \nL 47.609375 72.90625 \nL 47.609375 25.390625 \nL 58.015625 25.390625 \nL 58.015625 17.1875 \nL 47.609375 17.1875 \nL 47.609375 0 \nL 37.796875 0 \nL 37.796875 17.1875 \nL 4.890625 17.1875 \nL 4.890625 26.703125 \nz\n\" id=\"DejaVuSans-52\"/>\n      </defs>\n      <g transform=\"translate(13.5625 382.02779)scale(0.1 -0.1)\">\n       <use xlink:href=\"#DejaVuSans-52\"/>\n      </g>\n     </g>\n    </g>\n    <g id=\"ytick_4\">\n     <g id=\"line2d_23\">\n      <path clip-path=\"url(#p82035bc1c9)\" d=\"M 26.925 291.942857 \nL 863.925 291.942857 \n\" style=\"fill:none;stroke:#b0b0b0;stroke-linecap:square;stroke-width:0.8;\"/>\n     </g>\n     <g id=\"line2d_24\">\n      <g>\n       <use style=\"stroke:#000000;stroke-width:0.8;\" x=\"26.925\" xlink:href=\"#m3e1d7a9690\" y=\"291.942857\"/>\n      </g>\n     </g>\n     <g id=\"text_12\">\n      <!-- 6 -->\n      <g transform=\"translate(13.5625 295.742076)scale(0.1 -0.1)\">\n       <use xlink:href=\"#DejaVuSans-54\"/>\n      </g>\n     </g>\n    </g>\n    <g id=\"ytick_5\">\n     <g id=\"line2d_25\">\n      <path clip-path=\"url(#p82035bc1c9)\" d=\"M 26.925 205.657143 \nL 863.925 205.657143 \n\" style=\"fill:none;stroke:#b0b0b0;stroke-linecap:square;stroke-width:0.8;\"/>\n     </g>\n     <g id=\"line2d_26\">\n      <g>\n       <use style=\"stroke:#000000;stroke-width:0.8;\" x=\"26.925\" xlink:href=\"#m3e1d7a9690\" y=\"205.657143\"/>\n      </g>\n     </g>\n     <g id=\"text_13\">\n      <!-- 8 -->\n      <g transform=\"translate(13.5625 209.456362)scale(0.1 -0.1)\">\n       <use xlink:href=\"#DejaVuSans-56\"/>\n      </g>\n     </g>\n    </g>\n    <g id=\"ytick_6\">\n     <g id=\"line2d_27\">\n      <path clip-path=\"url(#p82035bc1c9)\" d=\"M 26.925 119.371429 \nL 863.925 119.371429 \n\" style=\"fill:none;stroke:#b0b0b0;stroke-linecap:square;stroke-width:0.8;\"/>\n     </g>\n     <g id=\"line2d_28\">\n      <g>\n       <use style=\"stroke:#000000;stroke-width:0.8;\" x=\"26.925\" xlink:href=\"#m3e1d7a9690\" y=\"119.371429\"/>\n      </g>\n     </g>\n     <g id=\"text_14\">\n      <!-- 10 -->\n      <g transform=\"translate(7.2 123.170647)scale(0.1 -0.1)\">\n       <use xlink:href=\"#DejaVuSans-49\"/>\n       <use x=\"63.623047\" xlink:href=\"#DejaVuSans-48\"/>\n      </g>\n     </g>\n    </g>\n    <g id=\"ytick_7\">\n     <g id=\"line2d_29\">\n      <path clip-path=\"url(#p82035bc1c9)\" d=\"M 26.925 33.085714 \nL 863.925 33.085714 \n\" style=\"fill:none;stroke:#b0b0b0;stroke-linecap:square;stroke-width:0.8;\"/>\n     </g>\n     <g id=\"line2d_30\">\n      <g>\n       <use style=\"stroke:#000000;stroke-width:0.8;\" x=\"26.925\" xlink:href=\"#m3e1d7a9690\" y=\"33.085714\"/>\n      </g>\n     </g>\n     <g id=\"text_15\">\n      <!-- 12 -->\n      <g transform=\"translate(7.2 36.884933)scale(0.1 -0.1)\">\n       <use xlink:href=\"#DejaVuSans-49\"/>\n       <use x=\"63.623047\" xlink:href=\"#DejaVuSans-50\"/>\n      </g>\n     </g>\n    </g>\n   </g>\n   <g id=\"patch_13\">\n    <path d=\"M 26.925 550.8 \nL 26.925 7.2 \n\" style=\"fill:none;stroke:#000000;stroke-linecap:square;stroke-linejoin:miter;stroke-width:0.8;\"/>\n   </g>\n   <g id=\"patch_14\">\n    <path d=\"M 863.925 550.8 \nL 863.925 7.2 \n\" style=\"fill:none;stroke:#000000;stroke-linecap:square;stroke-linejoin:miter;stroke-width:0.8;\"/>\n   </g>\n   <g id=\"patch_15\">\n    <path d=\"M 26.925 550.8 \nL 863.925 550.8 \n\" style=\"fill:none;stroke:#000000;stroke-linecap:square;stroke-linejoin:miter;stroke-width:0.8;\"/>\n   </g>\n   <g id=\"patch_16\">\n    <path d=\"M 26.925 7.2 \nL 863.925 7.2 \n\" style=\"fill:none;stroke:#000000;stroke-linecap:square;stroke-linejoin:miter;stroke-width:0.8;\"/>\n   </g>\n  </g>\n </g>\n <defs>\n  <clipPath id=\"p82035bc1c9\">\n   <rect height=\"543.6\" width=\"837\" x=\"26.925\" y=\"7.2\"/>\n  </clipPath>\n </defs>\n</svg>\n",
      "image/png": "[encoded data removed]"
     },
     "metadata": {
      "needs_background": "light"
     }
    }
   ],
   "source": [
    "import matplotlib.pyplot as plt\n",
    "\n",
    "plt.figure(figsize=(15,10))\n",
    "pd.to_datetime(df['listingInfo-endTime']).hist()"
   ]
  },
  {
   "cell_type": "code",
   "execution_count": 76,
   "metadata": {},
   "outputs": [
    {
     "output_type": "execute_result",
     "data": {
      "text/plain": "{'Timestamp': '2020-07-07T23:50:26.988Z',\n 'Ack': 'Success',\n 'Build': 'E1141_CORE_APILW_19170841_R1',\n 'Version': '1141',\n 'Item': {'ItemID': '133453040314',\n  'EndTime': '2020-07-30T20:32:22.000Z',\n  'ViewItemURLForNaturalSearch': 'https://www.ebay.com/itm/NEW-Soprano-Saxophone-FREE-Shipping-inside-continental-US-/133453040314',\n  'ListingType': 'FixedPriceItem',\n  'Location': 'Tipton, Missouri',\n  'GalleryURL': 'https://thumbs3.ebaystatic.com/pict/1334530403148080_1.jpg',\n  'PictureURL': ['https://i.ebayimg.com/00/s/MTYwMFgyODk=/z/O94AAOSw8-5e-5up/$_57.JPG?set_id=8800005007',\n   'https://i.ebayimg.com/00/s/MzAwWDQwMA==/z/xIAAAOSww3Ze-5u0/$_57.JPG?set_id=8800005007',\n   'https://i.ebayimg.com/00/s/MTIwMFgxNjAw/z/jpYAAOSwmQNe-5vA/$_57.JPG?set_id=8800005007'],\n  'PrimaryCategoryID': '16231',\n  'PrimaryCategoryName': 'Musical Instruments & Gear:Wind & Woodwind:Band & Orchestral:Saxophones',\n  'BidCount': '0',\n  'ConvertedCurrentPrice': {'_currencyID': 'USD', 'value': '100.0'},\n  'ListingStatus': 'Active',\n  'TimeLeft': 'P22DT20H41M56S',\n  'Title': 'NEW Soprano Saxophone *FREE Shipping* inside the continental US',\n  'ItemSpecifics': {'NameValueList': [{'Name': 'Modified Item', 'Value': 'No'},\n    {'Name': 'Country/Region of Manufacture', 'Value': 'China'},\n    {'Name': 'Custom Bundle', 'Value': 'No'},\n    {'Name': 'Body Finish', 'Value': 'Gold Lacquer'},\n    {'Name': 'Type', 'Value': 'Soprano'},\n    {'Name': 'MPN', 'Value': 'Does Not Apply'},\n    {'Name': 'Key Finish', 'Value': 'Gold Lacquered'},\n    {'Name': 'Body Material', 'Value': 'Brass'},\n    {'Name': 'Brand', 'Value': 'Simba Instruments'},\n    {'Name': 'Skill Level', 'Value': 'Beginner'},\n    {'Name': 'UPC', 'Value': 'Does not apply'}]},\n  'Country': 'US',\n  'AutoPay': 'false',\n  'ConditionID': '1000',\n  'ConditionDisplayName': 'New',\n  'QuantityAvailableHint': 'MoreThan',\n  'QuantityThreshold': '10'}}"
     },
     "metadata": {},
     "execution_count": 76
    }
   ],
   "source": [
    "response1.dict()"
   ]
  },
  {
   "cell_type": "code",
   "execution_count": 204,
   "metadata": {},
   "outputs": [
    {
     "output_type": "execute_result",
     "data": {
      "text/plain": "'07-14-2020'"
     },
     "metadata": {},
     "execution_count": 204
    }
   ],
   "source": [
    "datetime.now().strftime(\"%m-%d-%Y\")"
   ]
  },
  {
   "cell_type": "code",
   "execution_count": 72,
   "metadata": {},
   "outputs": [
    {
     "output_type": "execute_result",
     "data": {
      "text/plain": "{'pageNumber': '1',\n 'entriesPerPage': '10',\n 'totalPages': '476',\n 'totalEntries': '4752'}"
     },
     "metadata": {},
     "execution_count": 72
    }
   ],
   "source": [
    "response.dict()['paginationOutput']"
   ]
  },
  {
   "cell_type": "code",
   "execution_count": 73,
   "metadata": {},
   "outputs": [
    {
     "output_type": "execute_result",
     "data": {
      "text/plain": "Index(['itemId', 'title', 'globalId', 'galleryURL', 'viewItemURL',\n       'paymentMethod', 'autoPay', 'postalCode', 'location', 'country',\n       'returnsAccepted', 'isMultiVariationListing', 'topRatedListing',\n       'primaryCategory-categoryId', 'primaryCategory-categoryName',\n       'storeInfo-storeName', 'storeInfo-storeURL',\n       'sellerInfo-sellerUserName', 'sellerInfo-feedbackScore',\n       'sellerInfo-positiveFeedbackPercent', 'sellerInfo-feedbackRatingStar',\n       'sellerInfo-topRatedSeller',\n       'shippingInfo-shippingServiceCost-_currencyId',\n       'shippingInfo-shippingServiceCost-value', 'shippingInfo-shippingType',\n       'shippingInfo-shipToLocations', 'shippingInfo-expeditedShipping',\n       'shippingInfo-oneDayShippingAvailable', 'shippingInfo-handlingTime',\n       'sellingStatus-currentPrice-_currencyId',\n       'sellingStatus-currentPrice-value',\n       'sellingStatus-convertedCurrentPrice-_currencyId',\n       'sellingStatus-convertedCurrentPrice-value', 'sellingStatus-bidCount',\n       'sellingStatus-sellingState', 'sellingStatus-timeLeft',\n       'listingInfo-bestOfferEnabled', 'listingInfo-buyItNowAvailable',\n       'listingInfo-buyItNowPrice-_currencyId',\n       'listingInfo-buyItNowPrice-value',\n       'listingInfo-convertedBuyItNowPrice-_currencyId',\n       'listingInfo-convertedBuyItNowPrice-value', 'listingInfo-startTime',\n       'listingInfo-endTime', 'listingInfo-listingType', 'listingInfo-gift',\n       'listingInfo-watchCount', 'condition-conditionId',\n       'condition-conditionDisplayName'],\n      dtype='object')"
     },
     "metadata": {},
     "execution_count": 73
    }
   ],
   "source": [
    "df = pd.io.json.json_normalize(response.dict()['searchResult']['item'],  sep='-')\n"
   ]
  },
  {
   "cell_type": "code",
   "execution_count": 75,
   "metadata": {},
   "outputs": [
    {
     "output_type": "execute_result",
     "data": {
      "text/plain": "                                                          title  \\\nitemId                                                            \n233642929384           King Tempo Baritone Saxophone w/ Gig Bag   \n133453040314  NEW Soprano Saxophone *FREE Shipping* inside t...   \n283938622116  Conn Virtuoso Deluxe Alto Gold Plate Full Pear...   \n174340600156  Conn Naked Lady Alto Saxophone 6M Serial Numbe...   \n383620988614                     Vintage Conn C melody Sax 1921   \n264781382394  Vintage Rare LeBlanc System Vito Stencil Alto ...   \n264782422788  CANNONBALL BIG BELL STONE SERIES ALTO SAXOPHON...   \n333647681824  Yamaha YTS-200AD Advantage Tenor Saxophone Use...   \n193545530788                YAMAHA YAS-23 SAXOPHONE (FE3036256)   \n264781383381                 SAXOPHONE \"Low Pitch\" Martin brand   \n\n                                                    viewItemURL postalCode  \\\nitemId                                                                       \n233642929384  https://www.ebay.com/itm/King-Tempo-Baritone-S...      333**   \n133453040314  https://www.ebay.com/itm/NEW-Soprano-Saxophone...      650**   \n283938622116  https://www.ebay.com/itm/Conn-Virtuoso-Deluxe-...      871**   \n174340600156  https://www.ebay.com/itm/Conn-Naked-Lady-Alto-...      323**   \n383620988614  https://www.ebay.com/itm/Vintage-Conn-C-melody...      625**   \n264781382394  https://www.ebay.com/itm/Vintage-Rare-LeBlanc-...      431**   \n264782422788  https://www.ebay.com/itm/CANNONBALL-BIG-BELL-S...      338**   \n333647681824  https://www.ebay.com/itm/Yamaha-YTS-200AD-Adva...      333**   \n193545530788  https://www.ebay.com/itm/YAMAHA-YAS-23-SAXOPHO...      543**   \n264781383381  https://www.ebay.com/itm/SAXOPHONE-Low-Pitch-M...      603**   \n\n             sellerInfo-sellerUserName  \\\nitemId                                   \n233642929384                 mae-music   \n133453040314                 scottbabs   \n283938622116                 zapatista   \n174340600156                puppe_4442   \n383620988614                  miwea-55   \n264781382394              junkdude-com   \n264782422788               jlovesyolie   \n333647681824                 mae-music   \n193545530788               stdauctions   \n264781383381             jwinstein96b8   \n\n             shippingInfo-shippingServiceCost-_currencyId  \\\nitemId                                                      \n233642929384                                          USD   \n133453040314                                          USD   \n283938622116                                          USD   \n174340600156                                          USD   \n383620988614                                          USD   \n264781382394                                          USD   \n264782422788                                          USD   \n333647681824                                          USD   \n193545530788                                          USD   \n264781383381                                          USD   \n\n             shippingInfo-shippingServiceCost-value  \\\nitemId                                                \n233642929384                                   50.0   \n133453040314                                    0.0   \n283938622116                                   89.0   \n174340600156                                   40.0   \n383620988614                                   50.0   \n264781382394                                   65.0   \n264782422788                                   55.0   \n333647681824                                   50.0   \n193545530788                                   25.0   \n264781383381                                  29.99   \n\n             sellingStatus-currentPrice-_currencyId  \\\nitemId                                                \n233642929384                                    USD   \n133453040314                                    USD   \n283938622116                                    USD   \n174340600156                                    USD   \n383620988614                                    USD   \n264781382394                                    USD   \n264782422788                                    USD   \n333647681824                                    USD   \n193545530788                                    USD   \n264781383381                                    USD   \n\n             sellingStatus-currentPrice-value listingInfo-bestOfferEnabled  \\\nitemId                                                                       \n233642929384                            500.0                        false   \n133453040314                            100.0                        false   \n283938622116                           3997.0                         true   \n174340600156                           1000.0                         true   \n383620988614                            300.0                         true   \n264781382394                            495.0                        false   \n264782422788                           1500.0                        false   \n333647681824                            157.5                        false   \n193545530788                            270.0                        false   \n264781383381                            207.5                        false   \n\n             listingInfo-buyItNowAvailable     listingInfo-startTime  \\\nitemId                                                                 \n233642929384                          true  2020-07-07T18:19:21.000Z   \n133453040314                         false  2020-06-30T20:32:22.000Z   \n283938622116                         false  2020-07-06T00:55:50.000Z   \n174340600156                         false  2020-07-07T01:06:46.000Z   \n383620988614                         false  2020-07-07T06:11:04.000Z   \n264781382394                         false  2020-07-01T02:34:42.000Z   \n264782422788                         false  2020-07-02T01:07:57.000Z   \n333647681824                         false  2020-07-07T15:26:17.000Z   \n193545530788                         false  2020-07-01T02:03:31.000Z   \n264781383381                         false  2020-07-01T02:36:03.000Z   \n\n                   listingInfo-endTime listingInfo-watchCount  \\\nitemId                                                          \n233642929384  2020-07-14T18:19:21.000Z                      9   \n133453040314  2020-07-30T20:32:22.000Z                     55   \n283938622116  2020-08-06T00:55:50.000Z                     10   \n174340600156  2020-08-07T01:06:46.000Z                      3   \n383620988614  2020-08-07T06:11:04.000Z                      3   \n264781382394  2020-07-08T02:34:42.000Z                     15   \n264782422788  2020-08-02T01:07:57.000Z                     17   \n333647681824  2020-07-14T15:26:17.000Z                     11   \n193545530788  2020-07-08T02:03:31.000Z                     21   \n264781383381  2020-07-08T02:36:03.000Z                     27   \n\n             condition-conditionId condition-conditionDisplayName  \nitemId                                                             \n233642929384                  3000                           Used  \n133453040314                  1000                            New  \n283938622116                  3000                           Used  \n174340600156                  3000                           Used  \n383620988614                  3000                           Used  \n264781382394                  3000                           Used  \n264782422788                  2500             Seller refurbished  \n333647681824                  3000                           Used  \n193545530788                  3000                           Used  \n264781383381                  3000                           Used  ",
      "text/html": "<div>\n<style scoped>\n    .dataframe tbody tr th:only-of-type {\n        vertical-align: middle;\n    }\n\n    .dataframe tbody tr th {\n        vertical-align: top;\n    }\n\n    .dataframe thead th {\n        text-align: right;\n    }\n</style>\n<table border=\"1\" class=\"dataframe\">\n  <thead>\n    <tr style=\"text-align: right;\">\n      <th></th>\n      <th>title</th>\n      <th>viewItemURL</th>\n      <th>postalCode</th>\n      <th>sellerInfo-sellerUserName</th>\n      <th>shippingInfo-shippingServiceCost-_currencyId</th>\n      <th>shippingInfo-shippingServiceCost-value</th>\n      <th>sellingStatus-currentPrice-_currencyId</th>\n      <th>sellingStatus-currentPrice-value</th>\n      <th>listingInfo-bestOfferEnabled</th>\n      <th>listingInfo-buyItNowAvailable</th>\n      <th>listingInfo-startTime</th>\n      <th>listingInfo-endTime</th>\n      <th>listingInfo-watchCount</th>\n      <th>condition-conditionId</th>\n      <th>condition-conditionDisplayName</th>\n    </tr>\n    <tr>\n      <th>itemId</th>\n      <th></th>\n      <th></th>\n      <th></th>\n      <th></th>\n      <th></th>\n      <th></th>\n      <th></th>\n      <th></th>\n      <th></th>\n      <th></th>\n      <th></th>\n      <th></th>\n      <th></th>\n      <th></th>\n      <th></th>\n    </tr>\n  </thead>\n  <tbody>\n    <tr>\n      <th>233642929384</th>\n      <td>King Tempo Baritone Saxophone w/ Gig Bag</td>\n      <td>https://www.ebay.com/itm/King-Tempo-Baritone-S...</td>\n      <td>333**</td>\n      <td>mae-music</td>\n      <td>USD</td>\n      <td>50.0</td>\n      <td>USD</td>\n      <td>500.0</td>\n      <td>false</td>\n      <td>true</td>\n      <td>2020-07-07T18:19:21.000Z</td>\n      <td>2020-07-14T18:19:21.000Z</td>\n      <td>9</td>\n      <td>3000</td>\n      <td>Used</td>\n    </tr>\n    <tr>\n      <th>133453040314</th>\n      <td>NEW Soprano Saxophone *FREE Shipping* inside t...</td>\n      <td>https://www.ebay.com/itm/NEW-Soprano-Saxophone...</td>\n      <td>650**</td>\n      <td>scottbabs</td>\n      <td>USD</td>\n      <td>0.0</td>\n      <td>USD</td>\n      <td>100.0</td>\n      <td>false</td>\n      <td>false</td>\n      <td>2020-06-30T20:32:22.000Z</td>\n      <td>2020-07-30T20:32:22.000Z</td>\n      <td>55</td>\n      <td>1000</td>\n      <td>New</td>\n    </tr>\n    <tr>\n      <th>283938622116</th>\n      <td>Conn Virtuoso Deluxe Alto Gold Plate Full Pear...</td>\n      <td>https://www.ebay.com/itm/Conn-Virtuoso-Deluxe-...</td>\n      <td>871**</td>\n      <td>zapatista</td>\n      <td>USD</td>\n      <td>89.0</td>\n      <td>USD</td>\n      <td>3997.0</td>\n      <td>true</td>\n      <td>false</td>\n      <td>2020-07-06T00:55:50.000Z</td>\n      <td>2020-08-06T00:55:50.000Z</td>\n      <td>10</td>\n      <td>3000</td>\n      <td>Used</td>\n    </tr>\n    <tr>\n      <th>174340600156</th>\n      <td>Conn Naked Lady Alto Saxophone 6M Serial Numbe...</td>\n      <td>https://www.ebay.com/itm/Conn-Naked-Lady-Alto-...</td>\n      <td>323**</td>\n      <td>puppe_4442</td>\n      <td>USD</td>\n      <td>40.0</td>\n      <td>USD</td>\n      <td>1000.0</td>\n      <td>true</td>\n      <td>false</td>\n      <td>2020-07-07T01:06:46.000Z</td>\n      <td>2020-08-07T01:06:46.000Z</td>\n      <td>3</td>\n      <td>3000</td>\n      <td>Used</td>\n    </tr>\n    <tr>\n      <th>383620988614</th>\n      <td>Vintage Conn C melody Sax 1921</td>\n      <td>https://www.ebay.com/itm/Vintage-Conn-C-melody...</td>\n      <td>625**</td>\n      <td>miwea-55</td>\n      <td>USD</td>\n      <td>50.0</td>\n      <td>USD</td>\n      <td>300.0</td>\n      <td>true</td>\n      <td>false</td>\n      <td>2020-07-07T06:11:04.000Z</td>\n      <td>2020-08-07T06:11:04.000Z</td>\n      <td>3</td>\n      <td>3000</td>\n      <td>Used</td>\n    </tr>\n    <tr>\n      <th>264781382394</th>\n      <td>Vintage Rare LeBlanc System Vito Stencil Alto ...</td>\n      <td>https://www.ebay.com/itm/Vintage-Rare-LeBlanc-...</td>\n      <td>431**</td>\n      <td>junkdude-com</td>\n      <td>USD</td>\n      <td>65.0</td>\n      <td>USD</td>\n      <td>495.0</td>\n      <td>false</td>\n      <td>false</td>\n      <td>2020-07-01T02:34:42.000Z</td>\n      <td>2020-07-08T02:34:42.000Z</td>\n      <td>15</td>\n      <td>3000</td>\n      <td>Used</td>\n    </tr>\n    <tr>\n      <th>264782422788</th>\n      <td>CANNONBALL BIG BELL STONE SERIES ALTO SAXOPHON...</td>\n      <td>https://www.ebay.com/itm/CANNONBALL-BIG-BELL-S...</td>\n      <td>338**</td>\n      <td>jlovesyolie</td>\n      <td>USD</td>\n      <td>55.0</td>\n      <td>USD</td>\n      <td>1500.0</td>\n      <td>false</td>\n      <td>false</td>\n      <td>2020-07-02T01:07:57.000Z</td>\n      <td>2020-08-02T01:07:57.000Z</td>\n      <td>17</td>\n      <td>2500</td>\n      <td>Seller refurbished</td>\n    </tr>\n    <tr>\n      <th>333647681824</th>\n      <td>Yamaha YTS-200AD Advantage Tenor Saxophone Use...</td>\n      <td>https://www.ebay.com/itm/Yamaha-YTS-200AD-Adva...</td>\n      <td>333**</td>\n      <td>mae-music</td>\n      <td>USD</td>\n      <td>50.0</td>\n      <td>USD</td>\n      <td>157.5</td>\n      <td>false</td>\n      <td>false</td>\n      <td>2020-07-07T15:26:17.000Z</td>\n      <td>2020-07-14T15:26:17.000Z</td>\n      <td>11</td>\n      <td>3000</td>\n      <td>Used</td>\n    </tr>\n    <tr>\n      <th>193545530788</th>\n      <td>YAMAHA YAS-23 SAXOPHONE (FE3036256)</td>\n      <td>https://www.ebay.com/itm/YAMAHA-YAS-23-SAXOPHO...</td>\n      <td>543**</td>\n      <td>stdauctions</td>\n      <td>USD</td>\n      <td>25.0</td>\n      <td>USD</td>\n      <td>270.0</td>\n      <td>false</td>\n      <td>false</td>\n      <td>2020-07-01T02:03:31.000Z</td>\n      <td>2020-07-08T02:03:31.000Z</td>\n      <td>21</td>\n      <td>3000</td>\n      <td>Used</td>\n    </tr>\n    <tr>\n      <th>264781383381</th>\n      <td>SAXOPHONE \"Low Pitch\" Martin brand</td>\n      <td>https://www.ebay.com/itm/SAXOPHONE-Low-Pitch-M...</td>\n      <td>603**</td>\n      <td>jwinstein96b8</td>\n      <td>USD</td>\n      <td>29.99</td>\n      <td>USD</td>\n      <td>207.5</td>\n      <td>false</td>\n      <td>false</td>\n      <td>2020-07-01T02:36:03.000Z</td>\n      <td>2020-07-08T02:36:03.000Z</td>\n      <td>27</td>\n      <td>3000</td>\n      <td>Used</td>\n    </tr>\n  </tbody>\n</table>\n</div>"
     },
     "metadata": {},
     "execution_count": 75
    }
   ],
   "source": [
    "df[['itemId', 'title', 'viewItemURL', 'postalCode','sellerInfo-sellerUserName', 'shippingInfo-shippingServiceCost-_currencyId',\n",
    "       'shippingInfo-shippingServiceCost-value', 'sellingStatus-currentPrice-_currencyId',\n",
    "       'sellingStatus-currentPrice-value', 'listingInfo-bestOfferEnabled', 'listingInfo-buyItNowAvailable', 'listingInfo-startTime', 'listingInfo-endTime', 'listingInfo-watchCount','condition-conditionId', 'condition-conditionDisplayName']].set_index('itemId')"
   ]
  },
  {
   "cell_type": "code",
   "execution_count": 15,
   "metadata": {},
   "outputs": [],
   "source": [
    "from ebaysdk.shopping import Connection as Shopping\n",
    "\n",
    "api_shop = Shopping(config_file = 'ebay.yaml')\n",
    "\n",
    "def getItemSpecifics(ItemID):\n",
    "    api_request = {\n",
    "    'ItemID': ItemID,\n",
    "    'IncludeSelector' : 'ItemSpecifics'}\n",
    "    response = api_shop.execute('GetSingleItem', api_request)\n",
    "    return {item['Name'] : item['Value'] for item in response1.dict()['Item']['ItemSpecifics']['NameValueList']}\n"
   ]
  },
  {
   "cell_type": "code",
   "execution_count": 21,
   "metadata": {},
   "outputs": [
    {
     "output_type": "execute_result",
     "data": {
      "text/plain": "{'Modified Item': 'No',\n 'Country/Region of Manufacture': 'China',\n 'Custom Bundle': 'No',\n 'Body Finish': 'Gold Lacquer',\n 'Type': 'Soprano',\n 'MPN': 'Does Not Apply',\n 'Key Finish': 'Gold Lacquered',\n 'Body Material': 'Brass',\n 'Brand': 'Simba Instruments',\n 'Skill Level': 'Beginner',\n 'UPC': 'Does not apply'}"
     },
     "metadata": {},
     "execution_count": 21
    }
   ],
   "source": []
  },
  {
   "cell_type": "code",
   "execution_count": 5,
   "metadata": {},
   "outputs": [
    {
     "output_type": "execute_result",
     "data": {
      "text/plain": "             postalCode        location\nitemId                                 \n224045256301     E177BP  United Kingdom\n233619110578     IG75NR  United Kingdom\n372335300286     SL68BT  United Kingdom\n203021295012     KY25PN  United Kingdom\n203021297049     KY25PN  United Kingdom\n352971447647      N79**  United Kingdom\n203021299863     KY25PN  United Kingdom\n254512375746     SL68BT  United Kingdom\n372953068997     SL68BT  United Kingdom\n372953069116     SL68BT  United Kingdom\n333644656345    SW178UE  United Kingdom\n224071474290     BN15NJ  United Kingdom\n310200807505        NaN  United Kingdom\n203021380110     KY25PN  United Kingdom\n153998339711     NR50UN  United Kingdom\n183774412871     HG13EF  United Kingdom\n203021400832     KY25PN  United Kingdom\n203021401651     KY25PN  United Kingdom\n203021404955     KY25PN  United Kingdom\n203021415638     KY25PN  United Kingdom\n392865471814     BR15HS  United Kingdom\n264788478758     FY14LN  United Kingdom\n143501752169    NN188HY  United Kingdom\n203021468009     KY25PN  United Kingdom\n203021470292     KY25PN  United Kingdom\n203021475410     KY25PN  United Kingdom\n203021479506     KY25PN  United Kingdom\n254646972150     WF62RY  United Kingdom\n254199971159     SL68BT  United Kingdom\n363039804133    KT198HG  United Kingdom\n293642469331    SE135AP  United Kingdom\n224045710507     E177BP  United Kingdom\n253871865571        NaN  United Kingdom\n372436953546        NaN  United Kingdom\n253871865586        NaN  United Kingdom\n253871865615        NaN  United Kingdom\n392727113994    BT744DB  United Kingdom\n274421572764    NP234JZ  United Kingdom\n124252067468     CT95QS  United Kingdom\n253096908806     SL68BT  United Kingdom\n372045617170     SL68BT  United Kingdom\n253096909228     SL68BT  United Kingdom\n372628068799     SL68BT  United Kingdom\n313140701035    CV345YY  United Kingdom\n133460019417    HP108DW  United Kingdom\n372502747288     SL68BT  United Kingdom\n173934176629     PO80DB  United Kingdom\n173934177375     PO80DB  United Kingdom\n224072318470    BN411LE  United Kingdom\n224072319359    GU307NJ  United Kingdom\n274398108380     NW25PN  United Kingdom\n372568534116     SL68BT  United Kingdom\n333650416484     CF35SP  United Kingdom\n184357209312     DA11PP  United Kingdom",
      "text/html": "<div>\n<style scoped>\n    .dataframe tbody tr th:only-of-type {\n        vertical-align: middle;\n    }\n\n    .dataframe tbody tr th {\n        vertical-align: top;\n    }\n\n    .dataframe thead th {\n        text-align: right;\n    }\n</style>\n<table border=\"1\" class=\"dataframe\">\n  <thead>\n    <tr style=\"text-align: right;\">\n      <th></th>\n      <th>postalCode</th>\n      <th>location</th>\n    </tr>\n    <tr>\n      <th>itemId</th>\n      <th></th>\n      <th></th>\n    </tr>\n  </thead>\n  <tbody>\n    <tr>\n      <th>224045256301</th>\n      <td>E177BP</td>\n      <td>United Kingdom</td>\n    </tr>\n    <tr>\n      <th>233619110578</th>\n      <td>IG75NR</td>\n      <td>United Kingdom</td>\n    </tr>\n    <tr>\n      <th>372335300286</th>\n      <td>SL68BT</td>\n      <td>United Kingdom</td>\n    </tr>\n    <tr>\n      <th>203021295012</th>\n      <td>KY25PN</td>\n      <td>United Kingdom</td>\n    </tr>\n    <tr>\n      <th>203021297049</th>\n      <td>KY25PN</td>\n      <td>United Kingdom</td>\n    </tr>\n    <tr>\n      <th>352971447647</th>\n      <td>N79**</td>\n      <td>United Kingdom</td>\n    </tr>\n    <tr>\n      <th>203021299863</th>\n      <td>KY25PN</td>\n      <td>United Kingdom</td>\n    </tr>\n    <tr>\n      <th>254512375746</th>\n      <td>SL68BT</td>\n      <td>United Kingdom</td>\n    </tr>\n    <tr>\n      <th>372953068997</th>\n      <td>SL68BT</td>\n      <td>United Kingdom</td>\n    </tr>\n    <tr>\n      <th>372953069116</th>\n      <td>SL68BT</td>\n      <td>United Kingdom</td>\n    </tr>\n    <tr>\n      <th>333644656345</th>\n      <td>SW178UE</td>\n      <td>United Kingdom</td>\n    </tr>\n    <tr>\n      <th>224071474290</th>\n      <td>BN15NJ</td>\n      <td>United Kingdom</td>\n    </tr>\n    <tr>\n      <th>310200807505</th>\n      <td>NaN</td>\n      <td>United Kingdom</td>\n    </tr>\n    <tr>\n      <th>203021380110</th>\n      <td>KY25PN</td>\n      <td>United Kingdom</td>\n    </tr>\n    <tr>\n      <th>153998339711</th>\n      <td>NR50UN</td>\n      <td>United Kingdom</td>\n    </tr>\n    <tr>\n      <th>183774412871</th>\n      <td>HG13EF</td>\n      <td>United Kingdom</td>\n    </tr>\n    <tr>\n      <th>203021400832</th>\n      <td>KY25PN</td>\n      <td>United Kingdom</td>\n    </tr>\n    <tr>\n      <th>203021401651</th>\n      <td>KY25PN</td>\n      <td>United Kingdom</td>\n    </tr>\n    <tr>\n      <th>203021404955</th>\n      <td>KY25PN</td>\n      <td>United Kingdom</td>\n    </tr>\n    <tr>\n      <th>203021415638</th>\n      <td>KY25PN</td>\n      <td>United Kingdom</td>\n    </tr>\n    <tr>\n      <th>392865471814</th>\n      <td>BR15HS</td>\n      <td>United Kingdom</td>\n    </tr>\n    <tr>\n      <th>264788478758</th>\n      <td>FY14LN</td>\n      <td>United Kingdom</td>\n    </tr>\n    <tr>\n      <th>143501752169</th>\n      <td>NN188HY</td>\n      <td>United Kingdom</td>\n    </tr>\n    <tr>\n      <th>203021468009</th>\n      <td>KY25PN</td>\n      <td>United Kingdom</td>\n    </tr>\n    <tr>\n      <th>203021470292</th>\n      <td>KY25PN</td>\n      <td>United Kingdom</td>\n    </tr>\n    <tr>\n      <th>203021475410</th>\n      <td>KY25PN</td>\n      <td>United Kingdom</td>\n    </tr>\n    <tr>\n      <th>203021479506</th>\n      <td>KY25PN</td>\n      <td>United Kingdom</td>\n    </tr>\n    <tr>\n      <th>254646972150</th>\n      <td>WF62RY</td>\n      <td>United Kingdom</td>\n    </tr>\n    <tr>\n      <th>254199971159</th>\n      <td>SL68BT</td>\n      <td>United Kingdom</td>\n    </tr>\n    <tr>\n      <th>363039804133</th>\n      <td>KT198HG</td>\n      <td>United Kingdom</td>\n    </tr>\n    <tr>\n      <th>293642469331</th>\n      <td>SE135AP</td>\n      <td>United Kingdom</td>\n    </tr>\n    <tr>\n      <th>224045710507</th>\n      <td>E177BP</td>\n      <td>United Kingdom</td>\n    </tr>\n    <tr>\n      <th>253871865571</th>\n      <td>NaN</td>\n      <td>United Kingdom</td>\n    </tr>\n    <tr>\n      <th>372436953546</th>\n      <td>NaN</td>\n      <td>United Kingdom</td>\n    </tr>\n    <tr>\n      <th>253871865586</th>\n      <td>NaN</td>\n      <td>United Kingdom</td>\n    </tr>\n    <tr>\n      <th>253871865615</th>\n      <td>NaN</td>\n      <td>United Kingdom</td>\n    </tr>\n    <tr>\n      <th>392727113994</th>\n      <td>BT744DB</td>\n      <td>United Kingdom</td>\n    </tr>\n    <tr>\n      <th>274421572764</th>\n      <td>NP234JZ</td>\n      <td>United Kingdom</td>\n    </tr>\n    <tr>\n      <th>124252067468</th>\n      <td>CT95QS</td>\n      <td>United Kingdom</td>\n    </tr>\n    <tr>\n      <th>253096908806</th>\n      <td>SL68BT</td>\n      <td>United Kingdom</td>\n    </tr>\n    <tr>\n      <th>372045617170</th>\n      <td>SL68BT</td>\n      <td>United Kingdom</td>\n    </tr>\n    <tr>\n      <th>253096909228</th>\n      <td>SL68BT</td>\n      <td>United Kingdom</td>\n    </tr>\n    <tr>\n      <th>372628068799</th>\n      <td>SL68BT</td>\n      <td>United Kingdom</td>\n    </tr>\n    <tr>\n      <th>313140701035</th>\n      <td>CV345YY</td>\n      <td>United Kingdom</td>\n    </tr>\n    <tr>\n      <th>133460019417</th>\n      <td>HP108DW</td>\n      <td>United Kingdom</td>\n    </tr>\n    <tr>\n      <th>372502747288</th>\n      <td>SL68BT</td>\n      <td>United Kingdom</td>\n    </tr>\n    <tr>\n      <th>173934176629</th>\n      <td>PO80DB</td>\n      <td>United Kingdom</td>\n    </tr>\n    <tr>\n      <th>173934177375</th>\n      <td>PO80DB</td>\n      <td>United Kingdom</td>\n    </tr>\n    <tr>\n      <th>224072318470</th>\n      <td>BN411LE</td>\n      <td>United Kingdom</td>\n    </tr>\n    <tr>\n      <th>224072319359</th>\n      <td>GU307NJ</td>\n      <td>United Kingdom</td>\n    </tr>\n    <tr>\n      <th>274398108380</th>\n      <td>NW25PN</td>\n      <td>United Kingdom</td>\n    </tr>\n    <tr>\n      <th>372568534116</th>\n      <td>SL68BT</td>\n      <td>United Kingdom</td>\n    </tr>\n    <tr>\n      <th>333650416484</th>\n      <td>CF35SP</td>\n      <td>United Kingdom</td>\n    </tr>\n    <tr>\n      <th>184357209312</th>\n      <td>DA11PP</td>\n      <td>United Kingdom</td>\n    </tr>\n  </tbody>\n</table>\n</div>"
     },
     "metadata": {},
     "execution_count": 5
    }
   ],
   "source": [
    "import pandas as pd\n",
    "pd.read_csv('data/finding/07-13-2020.csv', index_col=0)"
   ]
  },
  {
   "cell_type": "code",
   "execution_count": 13,
   "metadata": {},
   "outputs": [],
   "source": [
    "import boto3\n",
    "import pandas as pd\n",
    "import io\n",
    "from datetime import datetime, timedelta\n",
    "\n",
    "s3_client = boto3.client('s3')\n",
    "s3_resource = boto3.resource('s3')\n",
    "\n",
    "# bucket = s3.Bucket('ebayfindingdata')\n",
    "yesterday = (datetime.now() - timedelta(days=1)).strftime(\"%m-%d-%Y\")\n",
    "\n",
    "obj = s3_client.get_object(Bucket = 'ebayfindingdata', Key = 'finding/{}.csv'.format(yesterday))\n",
    "\n",
    "df = pd.read_csv(obj['Body'], index_col='itemId')"
   ]
  },
  {
   "cell_type": "code",
   "execution_count": 29,
   "metadata": {},
   "outputs": [
    {
     "output_type": "error",
     "ename": "AttributeError",
     "evalue": "'ResponseDataObject' object has no attribute 'Ack'",
     "traceback": [
      "\u001b[0;31m---------------------------------------------------------------------------\u001b[0m",
      "\u001b[0;31mAttributeError\u001b[0m                            Traceback (most recent call last)",
      "\u001b[0;32m<ipython-input-29-1327ad02a82d>\u001b[0m in \u001b[0;36m<module>\u001b[0;34m\u001b[0m\n\u001b[1;32m     57\u001b[0m \u001b[0;34m\u001b[0m\u001b[0m\n\u001b[1;32m     58\u001b[0m \u001b[0;34m\u001b[0m\u001b[0m\n\u001b[0;32m---> 59\u001b[0;31m \u001b[0mitemSpecificGetter\u001b[0m\u001b[0;34m(\u001b[0m\u001b[0;36m303639749069\u001b[0m\u001b[0;34m)\u001b[0m\u001b[0;34m\u001b[0m\u001b[0;34m\u001b[0m\u001b[0m\n\u001b[0m",
      "\u001b[0;32m<ipython-input-29-1327ad02a82d>\u001b[0m in \u001b[0;36mitemSpecificGetter\u001b[0;34m(itemid)\u001b[0m\n\u001b[1;32m     21\u001b[0m             }\n\u001b[1;32m     22\u001b[0m \u001b[0;34m\u001b[0m\u001b[0m\n\u001b[0;32m---> 23\u001b[0;31m     \u001b[0mresponse\u001b[0m \u001b[0;34m=\u001b[0m \u001b[0mshop_api\u001b[0m\u001b[0;34m.\u001b[0m\u001b[0mexecute\u001b[0m\u001b[0;34m(\u001b[0m\u001b[0;34m'GetAllBidders'\u001b[0m\u001b[0;34m,\u001b[0m \u001b[0mapi_request\u001b[0m\u001b[0;34m)\u001b[0m\u001b[0;34m\u001b[0m\u001b[0;34m\u001b[0m\u001b[0m\n\u001b[0m\u001b[1;32m     24\u001b[0m \u001b[0;34m\u001b[0m\u001b[0m\n\u001b[1;32m     25\u001b[0m     \u001b[0;32mif\u001b[0m \u001b[0mresponse\u001b[0m\u001b[0;34m.\u001b[0m\u001b[0mdict\u001b[0m\u001b[0;34m(\u001b[0m\u001b[0;34m)\u001b[0m\u001b[0;34m[\u001b[0m\u001b[0;34m'Ack'\u001b[0m\u001b[0;34m]\u001b[0m \u001b[0;34m==\u001b[0m \u001b[0;34m'Failure'\u001b[0m\u001b[0;34m:\u001b[0m\u001b[0;34m\u001b[0m\u001b[0;34m\u001b[0m\u001b[0m\n",
      "\u001b[0;32m~/Documents/GitHub/ebay-saxophone/saxenv/lib/python3.7/site-packages/ebaysdk/connection.py\u001b[0m in \u001b[0;36mexecute\u001b[0;34m(self, verb, data, list_nodes, verb_attrs, files)\u001b[0m\n\u001b[1;32m    125\u001b[0m         \u001b[0;32mif\u001b[0m \u001b[0mhasattr\u001b[0m\u001b[0;34m(\u001b[0m\u001b[0mself\u001b[0m\u001b[0;34m.\u001b[0m\u001b[0mresponse\u001b[0m\u001b[0;34m,\u001b[0m \u001b[0;34m'content'\u001b[0m\u001b[0;34m)\u001b[0m\u001b[0;34m:\u001b[0m\u001b[0;34m\u001b[0m\u001b[0;34m\u001b[0m\u001b[0m\n\u001b[1;32m    126\u001b[0m             \u001b[0mself\u001b[0m\u001b[0;34m.\u001b[0m\u001b[0mprocess_response\u001b[0m\u001b[0;34m(\u001b[0m\u001b[0;34m)\u001b[0m\u001b[0;34m\u001b[0m\u001b[0;34m\u001b[0m\u001b[0m\n\u001b[0;32m--> 127\u001b[0;31m             \u001b[0mself\u001b[0m\u001b[0;34m.\u001b[0m\u001b[0merror_check\u001b[0m\u001b[0;34m(\u001b[0m\u001b[0;34m)\u001b[0m\u001b[0;34m\u001b[0m\u001b[0;34m\u001b[0m\u001b[0m\n\u001b[0m\u001b[1;32m    128\u001b[0m \u001b[0;34m\u001b[0m\u001b[0m\n\u001b[1;32m    129\u001b[0m         \u001b[0mlog\u001b[0m\u001b[0;34m.\u001b[0m\u001b[0mdebug\u001b[0m\u001b[0;34m(\u001b[0m\u001b[0;34m'total time=%s'\u001b[0m \u001b[0;34m%\u001b[0m \u001b[0;34m(\u001b[0m\u001b[0mtime\u001b[0m\u001b[0;34m.\u001b[0m\u001b[0mtime\u001b[0m\u001b[0;34m(\u001b[0m\u001b[0;34m)\u001b[0m \u001b[0;34m-\u001b[0m \u001b[0mself\u001b[0m\u001b[0;34m.\u001b[0m\u001b[0m_time\u001b[0m\u001b[0;34m)\u001b[0m\u001b[0;34m)\u001b[0m\u001b[0;34m\u001b[0m\u001b[0;34m\u001b[0m\u001b[0m\n",
      "\u001b[0;32m~/Documents/GitHub/ebay-saxophone/saxenv/lib/python3.7/site-packages/ebaysdk/connection.py\u001b[0m in \u001b[0;36merror_check\u001b[0;34m(self)\u001b[0m\n\u001b[1;32m    217\u001b[0m \u001b[0;34m\u001b[0m\u001b[0m\n\u001b[1;32m    218\u001b[0m     \u001b[0;32mdef\u001b[0m \u001b[0merror_check\u001b[0m\u001b[0;34m(\u001b[0m\u001b[0mself\u001b[0m\u001b[0;34m)\u001b[0m\u001b[0;34m:\u001b[0m\u001b[0;34m\u001b[0m\u001b[0;34m\u001b[0m\u001b[0m\n\u001b[0;32m--> 219\u001b[0;31m         \u001b[0mestr\u001b[0m \u001b[0;34m=\u001b[0m \u001b[0mself\u001b[0m\u001b[0;34m.\u001b[0m\u001b[0merror\u001b[0m\u001b[0;34m(\u001b[0m\u001b[0;34m)\u001b[0m\u001b[0;34m\u001b[0m\u001b[0;34m\u001b[0m\u001b[0m\n\u001b[0m\u001b[1;32m    220\u001b[0m \u001b[0;34m\u001b[0m\u001b[0m\n\u001b[1;32m    221\u001b[0m         \u001b[0;32mif\u001b[0m \u001b[0mestr\u001b[0m \u001b[0;32mand\u001b[0m \u001b[0mself\u001b[0m\u001b[0;34m.\u001b[0m\u001b[0mconfig\u001b[0m\u001b[0;34m.\u001b[0m\u001b[0mget\u001b[0m\u001b[0;34m(\u001b[0m\u001b[0;34m'errors'\u001b[0m\u001b[0;34m,\u001b[0m \u001b[0;32mTrue\u001b[0m\u001b[0;34m)\u001b[0m\u001b[0;34m:\u001b[0m\u001b[0;34m\u001b[0m\u001b[0;34m\u001b[0m\u001b[0m\n",
      "\u001b[0;32m~/Documents/GitHub/ebay-saxophone/saxenv/lib/python3.7/site-packages/ebaysdk/connection.py\u001b[0m in \u001b[0;36merror\u001b[0;34m(self)\u001b[0m\n\u001b[1;32m    333\u001b[0m             \u001b[0merror_array\u001b[0m\u001b[0;34m.\u001b[0m\u001b[0mappend\u001b[0m\u001b[0;34m(\u001b[0m\u001b[0mself\u001b[0m\u001b[0;34m.\u001b[0m\u001b[0m_response_error\u001b[0m\u001b[0;34m)\u001b[0m\u001b[0;34m\u001b[0m\u001b[0;34m\u001b[0m\u001b[0m\n\u001b[1;32m    334\u001b[0m \u001b[0;34m\u001b[0m\u001b[0m\n\u001b[0;32m--> 335\u001b[0;31m         \u001b[0merror_array\u001b[0m\u001b[0;34m.\u001b[0m\u001b[0mextend\u001b[0m\u001b[0;34m(\u001b[0m\u001b[0mself\u001b[0m\u001b[0;34m.\u001b[0m\u001b[0m_get_resp_body_errors\u001b[0m\u001b[0;34m(\u001b[0m\u001b[0;34m)\u001b[0m\u001b[0;34m)\u001b[0m\u001b[0;34m\u001b[0m\u001b[0;34m\u001b[0m\u001b[0m\n\u001b[0m\u001b[1;32m    336\u001b[0m \u001b[0;34m\u001b[0m\u001b[0m\n\u001b[1;32m    337\u001b[0m         \u001b[0;32mif\u001b[0m \u001b[0mlen\u001b[0m\u001b[0;34m(\u001b[0m\u001b[0merror_array\u001b[0m\u001b[0;34m)\u001b[0m \u001b[0;34m>\u001b[0m \u001b[0;36m0\u001b[0m\u001b[0;34m:\u001b[0m\u001b[0;34m\u001b[0m\u001b[0;34m\u001b[0m\u001b[0m\n",
      "\u001b[0;32m~/Documents/GitHub/ebay-saxophone/saxenv/lib/python3.7/site-packages/ebaysdk/shopping/__init__.py\u001b[0m in \u001b[0;36m_get_resp_body_errors\u001b[0;34m(self)\u001b[0m\n\u001b[1;32m    247\u001b[0m             \u001b[0mlog\u001b[0m\u001b[0;34m.\u001b[0m\u001b[0mwarn\u001b[0m\u001b[0;34m(\u001b[0m\u001b[0;34m\"%s: %s\\n\\n\"\u001b[0m \u001b[0;34m%\u001b[0m \u001b[0;34m(\u001b[0m\u001b[0mself\u001b[0m\u001b[0;34m.\u001b[0m\u001b[0mverb\u001b[0m\u001b[0;34m,\u001b[0m \u001b[0;34m\"\\n\"\u001b[0m\u001b[0;34m.\u001b[0m\u001b[0mjoin\u001b[0m\u001b[0;34m(\u001b[0m\u001b[0mwarnings\u001b[0m\u001b[0;34m)\u001b[0m\u001b[0;34m)\u001b[0m\u001b[0;34m)\u001b[0m\u001b[0;34m\u001b[0m\u001b[0;34m\u001b[0m\u001b[0m\n\u001b[1;32m    248\u001b[0m \u001b[0;34m\u001b[0m\u001b[0m\n\u001b[0;32m--> 249\u001b[0;31m         \u001b[0;32mif\u001b[0m \u001b[0mself\u001b[0m\u001b[0;34m.\u001b[0m\u001b[0mresponse\u001b[0m\u001b[0;34m.\u001b[0m\u001b[0mreply\u001b[0m\u001b[0;34m.\u001b[0m\u001b[0mAck\u001b[0m \u001b[0;34m==\u001b[0m \u001b[0;34m'Failure'\u001b[0m\u001b[0;34m:\u001b[0m\u001b[0;34m\u001b[0m\u001b[0;34m\u001b[0m\u001b[0m\n\u001b[0m\u001b[1;32m    250\u001b[0m             \u001b[0;32mif\u001b[0m \u001b[0mself\u001b[0m\u001b[0;34m.\u001b[0m\u001b[0mconfig\u001b[0m\u001b[0;34m.\u001b[0m\u001b[0mget\u001b[0m\u001b[0;34m(\u001b[0m\u001b[0;34m'errors'\u001b[0m\u001b[0;34m)\u001b[0m\u001b[0;34m:\u001b[0m\u001b[0;34m\u001b[0m\u001b[0;34m\u001b[0m\u001b[0m\n\u001b[1;32m    251\u001b[0m                 \u001b[0mlog\u001b[0m\u001b[0;34m.\u001b[0m\u001b[0merror\u001b[0m\u001b[0;34m(\u001b[0m\u001b[0;34m\"%s: %s\\n\\n\"\u001b[0m \u001b[0;34m%\u001b[0m \u001b[0;34m(\u001b[0m\u001b[0mself\u001b[0m\u001b[0;34m.\u001b[0m\u001b[0mverb\u001b[0m\u001b[0;34m,\u001b[0m \u001b[0;34m\"\\n\"\u001b[0m\u001b[0;34m.\u001b[0m\u001b[0mjoin\u001b[0m\u001b[0;34m(\u001b[0m\u001b[0merrors\u001b[0m\u001b[0;34m)\u001b[0m\u001b[0;34m)\u001b[0m\u001b[0;34m)\u001b[0m\u001b[0;34m\u001b[0m\u001b[0;34m\u001b[0m\u001b[0m\n",
      "\u001b[0;31mAttributeError\u001b[0m: 'ResponseDataObject' object has no attribute 'Ack'"
     ]
    }
   ],
   "source": [
    "from ebaysdk.shopping import Connection as shopping\n",
    "import pandas as pd \n",
    "import numpy as np\n",
    "\n",
    "def nameValue2dict(nv):\n",
    "    return {item['Name']:item['Value'] for item in nv}\n",
    "\n",
    "\n",
    " \n",
    "shop_api = shopping(config_file = 'ebay.yaml')\n",
    "\n",
    "specifics = ['Brand', 'Type', 'Skill Level', 'Body Finish', 'Body Material', 'Key Finish', 'Custom Bundle', 'Modified Item', 'Modified Description', 'Country/Region of Manufacture']\n",
    "\n",
    "\n",
    "def itemSpecificGetter(itemid):\n",
    "\n",
    "    api_request = {\n",
    "            # 16231 - saxophones\n",
    "            'ItemID' : itemid,\n",
    "            #'IncludeSelector' : ['ItemSpecifics'],\n",
    "            }\n",
    "\n",
    "    response = shop_api.execute('GetAllBidders', api_request)\n",
    "\n",
    "    if response.dict()['Ack'] == 'Failure':\n",
    "        raise APIError(response)\n",
    "\n",
    "    df1 = pd.io.json.json_normalize(response.dict()['Item'],  sep='-')\n",
    "\n",
    "    if 'ItemSpecifics-NameValueList' in df1.columns:\n",
    "        df1['ItemSpecifics'] = df1['ItemSpecifics-NameValueList'].apply(nameValue2dict)\n",
    "\n",
    "        df1 = df1.drop('ItemSpecifics-NameValueList', axis=1)\n",
    "\n",
    "        for s in specifics:\n",
    "            if s in df1['ItemSpecifics'].loc[0]:\n",
    "                df1['ItemSpecifics-{}'.format(s)] = df1['ItemSpecifics'].loc[0][s]\n",
    "            else:\n",
    "                df1['ItemSpecifics-{}'.format(s)] = np.nan\n",
    "    \n",
    "    else: \n",
    "         for s in specifics:           \n",
    "            df1['ItemSpecifics-{}'.format(s)] = np.nan\n",
    "    \n",
    "    return df1\n",
    "\n",
    "\n",
    "def allItemSpecifics(itemIDs):\n",
    "    return pd.concat([itemSpecificGetter(itemid) for itemid in itemIDs])\n",
    "\n",
    "def getItemIds():\n",
    "    yesterday = (datetime.now() - timedelta(days=1)).strftime(\"%m-%d-%Y\")\n",
    "    df = pd.read_csv('data/finding/{}.csv'.format(yesterday), index_col='itemId')\n",
    "    itemIDs = df.index.values\n",
    "    df1 = allItemSpecifics(itemIDs)\n",
    "    df1.join(df).to_csv('data/shopping/{}.csv'.format(yesterday))    \n",
    "\n",
    "\n",
    "itemSpecificGetter(303639749069)"
   ]
  },
  {
   "cell_type": "code",
   "execution_count": 23,
   "metadata": {},
   "outputs": [],
   "source": [
    "from ebaysdk.shopping import Connection as shopping\n",
    "import pandas as pd \n",
    "import numpy as np\n",
    "\n",
    "def nameValue2dict(nv):\n",
    "    return {item['Name']:item['Value'] for item in nv}\n",
    "\n",
    "\n",
    " \n",
    "shop_api = shopping(config_file = 'ebay.yaml')\n",
    "\n",
    "specifics = ['Brand', 'Type', 'Skill Level', 'Body Finish', 'Body Material', 'Key Finish', 'Custom Bundle', 'Modified Item', 'Modified Description', 'Country/Region of Manufacture']\n",
    "\n",
    "\n",
    "def itemSpecificGetter(itemid):\n",
    "\n",
    "    api_request = {\n",
    "            # 16231 - saxophones\n",
    "            'ItemID' : itemid,\n",
    "            'IncludeSelector' : ['Details, TextDescription'],\n",
    "            }\n",
    "\n",
    "    response = shop_api.execute('GetSingleItem', api_request)\n",
    "\n",
    "    if response.dict()['Ack'] == 'Failure':\n",
    "        raise APIError(response)\n",
    "\n",
    "    df1 = pd.io.json.json_normalize(response.dict()['Item'],  sep='-')\n",
    "\n",
    "    if 'ItemSpecifics-NameValueList' in df1.columns:\n",
    "        df1['ItemSpecifics'] = df1['ItemSpecifics-NameValueList'].apply(nameValue2dict)\n",
    "\n",
    "        df1 = df1.drop('ItemSpecifics-NameValueList', axis=1)\n",
    "\n",
    "        for s in specifics:\n",
    "            if s in df1['ItemSpecifics'].loc[0]:\n",
    "                df1['ItemSpecifics-{}'.format(s)] = df1['ItemSpecifics'].loc[0][s]\n",
    "            else:\n",
    "                df1['ItemSpecifics-{}'.format(s)] = np.nan\n",
    "    \n",
    "    else: \n",
    "         for s in specifics:           \n",
    "            df1['ItemSpecifics-{}'.format(s)] = np.nan\n",
    "    \n",
    "    return df1\n",
    "\n",
    "\n",
    "def allItemSpecifics(itemIDs):\n",
    "    return pd.concat([itemSpecificGetter(itemid) for itemid in itemIDs])\n",
    "\n",
    "def getItemIds():\n",
    "    yesterday = (datetime.now() - timedelta(days=1)).strftime(\"%m-%d-%Y\")\n",
    "    df = pd.read_csv('data/finding/{}.csv'.format(yesterday), index_col='itemId')\n",
    "    itemIDs = df.index.values\n",
    "    df1 = allItemSpecifics(itemIDs)\n",
    "    df1.join(df).to_csv('data/shopping/{}.csv'.format(yesterday))    \n",
    "\n",
    "\n",
    "df = itemSpecificGetter(303635927434)"
   ]
  },
  {
   "cell_type": "code",
   "execution_count": 7,
   "metadata": {},
   "outputs": [],
   "source": [
    "\n"
   ]
  },
  {
   "cell_type": "code",
   "execution_count": 20,
   "metadata": {},
   "outputs": [
    {
     "output_type": "execute_result",
     "data": {
      "text/plain": "s3.Object(bucket_name='ebayfindingdata', key='images/08-03-2020/303116830074/0.png')"
     },
     "metadata": {},
     "execution_count": 20
    }
   ],
   "source": []
  },
  {
   "cell_type": "code",
   "execution_count": 23,
   "metadata": {},
   "outputs": [
    {
     "output_type": "execute_result",
     "data": {
      "text/plain": "'08-03-2020'"
     },
     "metadata": {},
     "execution_count": 23
    }
   ],
   "source": [
    "\n",
    "keys[0][9:-4]"
   ]
  },
  {
   "cell_type": "code",
   "execution_count": 38,
   "metadata": {
    "tags": []
   },
   "outputs": [
    {
     "output_type": "stream",
     "name": "stdout",
     "text": "['08-12-2020', '08-13-2020', '08-14-2020', '08-15-2020', '08-16-2020', '08-21-2020', '08-22-2020', '08-23-2020', '08-24-2020', '08-25-2020']\n"
    }
   ],
   "source": [
    "from findDescription import ItemDescriptionFinder\n",
    "import boto3\n",
    "\n",
    "s3 = boto3.client('s3')\n",
    "s3.list_objects(Bucket = 'ebayfindingdata', Prefix = 'finding/')\n",
    "finding_keys = [o['Key'][8:-4] for o in s3.list_objects(Bucket = 'ebayfindingdata', Prefix = 'finding')['Contents'] if '.csv' in o['Key']]\n",
    "shopping_keys = [o['Key'][9:-4] for o in s3.list_objects(Bucket = 'ebayfindingdata', Prefix = 'shopping')['Contents'] if '.csv' in o['Key']]\n",
    "description_keys = [o['Key'][13:-4] for o in s3.list_objects(Bucket = 'ebayfindingdata', Prefix = 'description')['Contents'] if '.csv' in o['Key']]\n",
    "missing_keys = [x for x in finding_keys if x not in description_keys]\n",
    "print(missing_keys)\n",
    "for k in missing_keys:\n",
    "    idf = ItemDescriptionFinder()\n",
    "    idf.findItemDescriptions(yesterday=k)"
   ]
  },
  {
   "cell_type": "code",
   "execution_count": 40,
   "metadata": {},
   "outputs": [
    {
     "output_type": "execute_result",
     "data": {
      "text/plain": "['descriptions/07-13-2020.csv',\n 'descriptions/07-14-2020.csv',\n 'descriptions/07-20-2020.csv',\n 'descriptions/08-03-2020.csv',\n 'descriptions/08-04-2020.csv',\n 'descriptions/08-05-2020.csv',\n 'descriptions/08-06-2020.csv',\n 'descriptions/08-07-2020.csv',\n 'descriptions/08-08-2020.csv',\n 'descriptions/08-09-2020.csv',\n 'descriptions/08-10-2020.csv',\n 'descriptions/08-11-2020.csv',\n 'descriptions/08-12-2020.csv',\n 'descriptions/08-13-2020.csv',\n 'descriptions/08-14-2020.csv',\n 'descriptions/08-15-2020.csv',\n 'descriptions/08-16-2020.csv',\n 'descriptions/08-17-2020.csv',\n 'descriptions/08-18-2020.csv',\n 'descriptions/08-19-2020.csv',\n 'descriptions/08-20-2020.csv',\n 'descriptions/08-21-2020.csv',\n 'descriptions/08-22-2020.csv',\n 'descriptions/08-23-2020.csv',\n 'descriptions/08-24-2020.csv',\n 'descriptions/08-25-2020.csv']"
     },
     "metadata": {},
     "execution_count": 40
    }
   ],
   "source": [
    "s3 = boto3.client('s3')\n",
    "s3.list_objects(Bucket = 'ebayfindingdata', Prefix = 'finding/')\n",
    "description_keys = [o['Key'] for o in s3.list_objects(Bucket = 'ebayfindingdata', Prefix = 'description')['Contents'] if '.csv' in o['Key']]\n",
    "description_keys"
   ]
  },
  {
   "cell_type": "code",
   "execution_count": 48,
   "metadata": {
    "tags": []
   },
   "outputs": [
    {
     "output_type": "execute_result",
     "data": {
      "text/plain": "Int64Index([303116830074, 303635927434, 254668152053, 233663229380,\n            233663229383, 392623299136, 153994291511, 392328267364,\n            283699087200, 153994319841,\n            ...\n            264570114837, 313163269388, 313163284405, 254457266785,\n            254457251701, 324117881996, 263407979103, 182506399409,\n            262874041789, 143690149638],\n           dtype='int64', name='ItemID', length=5017)"
     },
     "metadata": {},
     "execution_count": 48
    }
   ],
   "source": [
    "\n",
    "s3_client = boto3.client('s3')\n",
    "s3_resource = boto3.resource('s3')\n",
    "keys = [o['Key'] for o in s3.list_objects(Bucket = 'ebayfindingdata', Prefix = 'shopping')['Contents'] if '.csv' in o['Key']]\n",
    "\n",
    "df = pd.concat([pd.read_csv(s3.get_object(Bucket = 'ebayfindingdata', Key = k)['Body'], index_col=0) for k in keys])\n",
    "df.index"
   ]
  },
  {
   "cell_type": "code",
   "execution_count": 47,
   "metadata": {},
   "outputs": [
    {
     "output_type": "execute_result",
     "data": {
      "text/plain": "array([303116830074, 303635927434, 254668152053, ..., 182506399409,\n       262874041789, 143690149638])"
     },
     "metadata": {},
     "execution_count": 47
    }
   ],
   "source": [
    "df = df[~df['ItemID'].duplicated()]\n",
    "df['ItemID'].values"
   ]
  },
  {
   "cell_type": "code",
   "execution_count": null,
   "metadata": {},
   "outputs": [],
   "source": []
  }
 ],
 "metadata": {
  "language_info": {
   "codemirror_mode": {
    "name": "ipython",
    "version": 3
   },
   "file_extension": ".py",
   "mimetype": "text/x-python",
   "name": "python",
   "nbconvert_exporter": "python",
   "pygments_lexer": "ipython3",
   "version": "3.7.6-final"
  },
  "orig_nbformat": 2,
  "kernelspec": {
   "name": "python37664bitsaxenvvenv88d20cc875274679925dcc47efcb6dec",
   "display_name": "Python 3.7.6 64-bit ('saxenv': venv)"
  }
 },
 "nbformat": 4,
 "nbformat_minor": 2
}